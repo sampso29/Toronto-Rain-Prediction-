{
 "cells": [
  {
   "cell_type": "markdown",
   "metadata": {
    "id": "Up_EaYA63qoL"
   },
   "source": [
    "# Introduction "
   ]
  },
  {
   "cell_type": "markdown",
   "metadata": {
    "id": "s57vv88V3qoP"
   },
   "source": [
    "Data was collected from Environment and Climate Change Canada. The data comes from the weather station at Pearson International Airport which updates the weather measurement every 5 minutes. Each individual reading is then taken and aggregated by day to output daily weather measurements.\n",
    "<br></br>\n",
    "<br></br>\n",
    "Source of data: https://toronto.weatherstats.ca/download.html\n",
    "<br></br>\n",
    "Info about the dataset can be found on the 'About' page of the website under the links section. \n",
    "<br></br>\n",
    "<br></br>\n",
    "__Goal__: To predict if it will rain tomorrow.\n",
    "<br></br>\n",
    "__Scoring__: We chose to maximize recall. This is due to the fact that we want to be cautious and minimize the chance of it raining, and a customer is unprepared for the weather. This is similar to the goal of a climatologist who want to predict the weather in a way that 'reduces weather related losses'(sources: https://www.nap.edu/read/12888/chapter/2#:~:text=The%20goal%20of%20weather%20prediction,prosperity%20and%20quality%20of%20life.).\n",
    "<br></br>\n",
    "<br></br>\n",
    "<br></br>\n",
    "Variables:\n",
    "- __date__: the date \n",
    "- __max_temperature__: the max temperature \n",
    "- __avg_hourly_temperature__: the average of the hourly temperature (Think, the sum of the average temperature for each hr divided by 24 hrs)\n",
    "- __avg_temperature__: the average temperature for the day. Calculated using the 5 min weather updates.  \n",
    "- __min_temperature__: the min temperature \n",
    "- __max_humidex__: the humidex is a meausure that indicates how hot humans feel. A value of 20-29 is comfortable, 30-39 is somewhat discomforting, 40-45 is great discomfort and 45+ is risk of heat stroke. (Source: https://www.ccohs.ca/oshanswers/phys_agents/humidex.html)\n",
    "- __min_windchill__: the wind chill is a meausure of how cold humans feel given the speed speed.\n",
    "- __max_relative_humidity__: the max humidity of for a day. Humidity is defined as the amount of water vapor actually in the air, expressed as a percentage of the maximum amount of water vapor the air can hold at the same temperature. (source: https://www.nationalgeographic.org/encyclopedia/humidity/)\n",
    "- __avg_hourly_relative_humidity__: the average hourly humidity of for a day.\n",
    "- __avg_relative_humidity__: the average humidity\n",
    "- __min_relative_humidity__: the min humidity of for a day.\n",
    "- __max_dew_point__: The max dew point for a day. Dew point is defined as the temperature the air needs to be cooled to, given a constant pressure, in order to achieve a relative humidity of 100%. The higher the dew point, the greater the amount of moisture in the air. (source: https://www.weather.gov/arx/why_dewpoint_vs_humidity)\n",
    "- __avg_hourly_dew_point__: the average hourly dew point\n",
    "- __avg_dew_point__: the average dew point\n",
    "- __min_dew_point__: the min dew point\n",
    "- __max_wind_speed__: the max wind speed in km/h \n",
    "- __avg_hourly_wind_speed__: the average hourly wind speed in km/h\n",
    "- __avg_wind_speed__: the average wind speed in km/h\n",
    "- __min_wind_speed__: the min wind speed in km/h\n",
    "- __max_wind_gust__: The highest wind gust (in km/h) recorded for the day. A wind gust is defined as a 20 second increase in wind speed above 16 knots with lulls of at least 9 knots (source: https://graphical.weather.gov/definitions/defineWindGust.html#:~:text=Wind%20Gust%20Definition&text=Is%20a%20sudden%2C%20brief%20increase,is%20at%20least%209%20knots.)\n",
    "- __wind_gust_dir_10s__: the direction of the wind in degrees. A value of 24 indicates that gust came from the direction of 240 degrees on a compass, roughly South West (source: https://toronto.weatherstats.ca/charts/wind_gust-daily.html)\n",
    "- __max_pressure_sea__: The max sea-level pressure  for a day. The sea-level pressure is a reduced pressure reading that estimates the pressure that would exist at sea level. (Source: https://www.weather.gov/bou/pressure_definitions)\n",
    "- __avg_hourly_pressure_sea__: The average hourly sea-level pressure for a day; measured in kPa.\n",
    "- __avg_pressure_sea__: The average sea-level pressure  for a day; measured in kPA.\n",
    "- __min_pressure_sea__: The min sea-level pressure  for a day; measured in kPA.\n",
    "- __max_pressure_station__: the max station pressure. The pressure observed at a specific elevation, aka the true barometric pressure of a location. Measured in kPa. (source: https://www.weather.gov/bou/pressure_definitions#:~:text=STATION%20PRESSURE%3A%20This%20is%20the,lies%20directly%20above%20the%20point.)\n",
    "- __avg_hourly_pressure_station__: the average station pressure \n",
    "- __avg_pressure_station__: the average station pressure \n",
    "- __min_pressure_station__: the min station pressure \n",
    "- __max_visibility__: The distance an object can be clearly; seen measured in meters. (Source: www.definitions.net )\n",
    "- __avg_hourly_visibility__: measured in meters\n",
    "- __avg_visibility__: measured in meters\n",
    "- __min_visibility__: measured in meters\n",
    "- __max_health_index__: the max air quality health index for the day where 1-3 is low risk, 4-6 is moderate risk, 7-70 is high risk and 10+ is very high risk (source: https://weather.gc.ca/airquality/pages/provincial_summary/on_e.html)\n",
    "- __avg_hourly_health_index__: the average hourly air quality health index for the day\n",
    "- __avg_health_index__: the average air quality health index for the day\n",
    "- __min_health_index__: the min air quality health index for the day\n",
    "- __heatdegdays__: Heating Degree Days are a measure of how cold the temperature was for a given day \n",
    "- __cooldegdays__: Cooling degree days are a measure of how hot the temperature was for a gien day. Higher number means hotter a day. (source: https://www.eia.gov/energyexplained/units-and-calculators/degree-days.php)\n",
    "- __growdegdays_5__: Growth Degree Days is the average daily temperature accounting for the minnimum develpment threshold at which crops grow. The 5 indicates that the threshold is 5 degrees. This the temperature needed for most plants to grow (Source: https://extension.psu.edu/understanding-growing-degree-days , https://open.canada.ca/data/en/dataset/c7b40829-bacb-4f67-a19b-e090b3d32992?activity_id=f4eda732-4086-4afc-a84f-777248b93192)\n",
    "- __growdegdays_7__: Growth Degree Days with a threshold of 7 degrees.\n",
    "- __growdegdays_10__: Growth Degree Days with a threshold of 10 degrees. This is the temperature needed for beans and grasshoppers to grow.\n",
    "- __precipitation__: the amount of rain and snow that fell for a given day  in mm\n",
    "- __rain__: the amount of rainfall in mm for a given day\n",
    "- __snow__: the amouny of snowfall in mm for a given day \n",
    "- __snow_on_ground__: the amount of snow on the ground in mm\n",
    "- __sunrise__: the time that sunrise occurs\n",
    "- __sunset__: the time that sunset occurs \n",
    "- __daylight__: the time in hours between sunset and sunrise \n",
    "- __sunrise_f__: the forecasted sunrise\n",
    "- __sunset_f__: the forecasted sunset\n",
    "- __min_uv_forecast__: the min forecasted UV index \n",
    "- __max_uv_forecast__: the max forecasted UV index forecast \n",
    "- __min_high_temperature_forecast__: the min forecasted high temperature\n",
    "- __max_high_temperature_forecast__: the max forecasted high temperature\n",
    "- __min_low_temperature_forecast__: the min forecasted low temperature\n",
    "- __max_low_temperature_forecast__: the max forecasted low temperature\n",
    "- __solar_radiation__: the amount of energy emitted from the sun. (Source: https://ambientweather.com/solarradiation.html)\n",
    "- max_cloud_cover_4\n",
    "- avg_hourly_cloud_cover_4\n",
    "- avg_cloud_cover_4\n",
    "- min_cloud_cover_4\n",
    "- __max_cloud_cover_8__: the highest cloud coverage value on the cloud coverage eights scale, also called Oktas scale. Each value of the sclae represents an amount of cloud coverage where 0= clear skys, 4= half cloud, and 8= completely cloudy. (Source: https://polarpedia.eu/en/okta-scale/)\n",
    "- __avg_hourly_cloud_cover_8__: the average hourly cloud coverage value on the Oktas scale\n",
    "- __avg_cloud_cover_8__: the average cloud coverage value on the Oktas scale\n",
    "- __min_cloud_cover_8__: the min cloud coverage value on the Oktas scale\n",
    "- max_cloud_cover_10: \n",
    "- avg_hourly_cloud_cover_10\n",
    "- avg_cloud_cover_10\n",
    "- min_cloud_cover_10\n",
    "- __wet_day__: indicates if there will be precipitation today \n",
    "- __wet_7cum__: indicates the number of days in the last week where there has been precipitation, including today\n",
    "- __Wet_tomorrow__: indicates if there will be precipitation the next day"
   ]
  },
  {
   "cell_type": "markdown",
   "metadata": {
    "id": "zxVwm5oy3qoT"
   },
   "source": [
    "<br></br>\n",
    "<br></br>\n",
    "<br></br>\n",
    "<br></br>\n",
    "<br></br>\n",
    "<br></br>\n",
    "<br></br>\n",
    "<br></br>\n",
    "<br></br>\n",
    "# Load the data "
   ]
  },
  {
   "cell_type": "code",
   "execution_count": 1,
   "metadata": {},
   "outputs": [
    {
     "name": "stdout",
     "output_type": "stream",
     "text": [
      "Requirement already satisfied: graphviz in c:\\users\\dwight\\anaconda3\\lib\\site-packages (0.17)\n",
      "Note: you may need to restart the kernel to use updated packages.\n"
     ]
    }
   ],
   "source": [
    "pip install graphviz"
   ]
  },
  {
   "cell_type": "code",
   "execution_count": 2,
   "metadata": {
    "executionInfo": {
     "elapsed": 4,
     "status": "ok",
     "timestamp": 1627593375888,
     "user": {
      "displayName": "RUOCHEN WANG",
      "photoUrl": "",
      "userId": "03367450102115681037"
     },
     "user_tz": 240
    },
    "id": "eME0epKK3qoW"
   },
   "outputs": [],
   "source": [
    "import numpy as np \n",
    "import pandas as pd\n",
    "import matplotlib.pyplot as plt\n",
    "import seaborn as sns"
   ]
  },
  {
   "cell_type": "code",
   "execution_count": 3,
   "metadata": {
    "executionInfo": {
     "elapsed": 139,
     "status": "ok",
     "timestamp": 1627593376678,
     "user": {
      "displayName": "RUOCHEN WANG",
      "photoUrl": "",
      "userId": "03367450102115681037"
     },
     "user_tz": 240
    },
    "id": "8l-nfIl63qoY"
   },
   "outputs": [],
   "source": [
    "#stop python from outputting warnings \n",
    "import warnings\n",
    "from sklearn.exceptions import DataConversionWarning\n",
    "from sklearn.exceptions import ConvergenceWarning\n",
    "\n",
    "warnings.filterwarnings(action='ignore', category=DataConversionWarning)\n",
    "warnings.filterwarnings(action='ignore', category=ConvergenceWarning)\n",
    "warnings.filterwarnings(\"ignore\", category=DeprecationWarning)"
   ]
  },
  {
   "cell_type": "code",
   "execution_count": 4,
   "metadata": {
    "colab": {
     "base_uri": "https://localhost:8080/",
     "height": 72,
     "resources": {
      "http://localhost:8080/nbextensions/google.colab/files.js": {
       "data": "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",
       "headers": [
        [
         "content-type",
         "application/javascript"
        ]
       ],
       "ok": true,
       "status": 200,
       "status_text": ""
      }
     }
    },
    "executionInfo": {
     "elapsed": 85668,
     "status": "ok",
     "timestamp": 1627593462333,
     "user": {
      "displayName": "RUOCHEN WANG",
      "photoUrl": "",
      "userId": "03367450102115681037"
     },
     "user_tz": 240
    },
    "id": "VNEGPInaKwik",
    "outputId": "255baf80-4114-4d10-de59-6a7bdd46fe73"
   },
   "outputs": [],
   "source": [
    "#from google.colab import files\n",
    "#uploaded = files.upload()"
   ]
  },
  {
   "cell_type": "code",
   "execution_count": 5,
   "metadata": {
    "colab": {
     "base_uri": "https://localhost:8080/"
    },
    "executionInfo": {
     "elapsed": 163,
     "status": "ok",
     "timestamp": 1627593462493,
     "user": {
      "displayName": "RUOCHEN WANG",
      "photoUrl": "",
      "userId": "03367450102115681037"
     },
     "user_tz": 240
    },
    "id": "-o6b51nyBqfm",
    "outputId": "996925c6-69ce-4b40-f5db-d4e71479992a"
   },
   "outputs": [],
   "source": [
    "#import io\n",
    "#dataset = pd.read_csv(io.BytesIO(uploaded['weatherstats_toronto_daily.csv']))\n",
    "# Dataset is now stored in a Pandas Dataframe"
   ]
  },
  {
   "cell_type": "code",
   "execution_count": 6,
   "metadata": {
    "executionInfo": {
     "elapsed": 11,
     "status": "ok",
     "timestamp": 1627593462337,
     "user": {
      "displayName": "RUOCHEN WANG",
      "photoUrl": "",
      "userId": "03367450102115681037"
     },
     "user_tz": 240
    },
    "id": "rgKuyTQFBj9f"
   },
   "outputs": [],
   "source": [
    "#from google.colab import drive\n",
    "#drive.mount('/content/drive')"
   ]
  },
  {
   "cell_type": "code",
   "execution_count": 7,
   "metadata": {
    "colab": {
     "base_uri": "https://localhost:8080/",
     "height": 549
    },
    "executionInfo": {
     "elapsed": 245,
     "status": "ok",
     "timestamp": 1627593481704,
     "user": {
      "displayName": "RUOCHEN WANG",
      "photoUrl": "",
      "userId": "03367450102115681037"
     },
     "user_tz": 240
    },
    "id": "CyQikBbj3qoZ",
    "outputId": "15dff991-2178-4236-8d7d-f2b3d4ffae5b"
   },
   "outputs": [
    {
     "name": "stderr",
     "output_type": "stream",
     "text": [
      "C:\\Users\\Dwight\\anaconda3\\lib\\site-packages\\IPython\\core\\interactiveshell.py:3146: DtypeWarning: Columns (46,47) have mixed types.Specify dtype option on import or set low_memory=False.\n",
      "  has_raised = await self.run_ast_nodes(code_ast.body, cell_name,\n"
     ]
    },
    {
     "data": {
      "text/html": [
       "<div>\n",
       "<style scoped>\n",
       "    .dataframe tbody tr th:only-of-type {\n",
       "        vertical-align: middle;\n",
       "    }\n",
       "\n",
       "    .dataframe tbody tr th {\n",
       "        vertical-align: top;\n",
       "    }\n",
       "\n",
       "    .dataframe thead th {\n",
       "        text-align: right;\n",
       "    }\n",
       "</style>\n",
       "<table border=\"1\" class=\"dataframe\">\n",
       "  <thead>\n",
       "    <tr style=\"text-align: right;\">\n",
       "      <th></th>\n",
       "      <th>date</th>\n",
       "      <th>max_temperature</th>\n",
       "      <th>avg_hourly_temperature</th>\n",
       "      <th>avg_temperature</th>\n",
       "      <th>min_temperature</th>\n",
       "      <th>max_humidex</th>\n",
       "      <th>min_windchill</th>\n",
       "      <th>max_relative_humidity</th>\n",
       "      <th>avg_hourly_relative_humidity</th>\n",
       "      <th>avg_relative_humidity</th>\n",
       "      <th>...</th>\n",
       "      <th>max_cloud_cover_8</th>\n",
       "      <th>avg_hourly_cloud_cover_8</th>\n",
       "      <th>avg_cloud_cover_8</th>\n",
       "      <th>min_cloud_cover_8</th>\n",
       "      <th>max_cloud_cover_10</th>\n",
       "      <th>avg_hourly_cloud_cover_10</th>\n",
       "      <th>avg_cloud_cover_10</th>\n",
       "      <th>min_cloud_cover_10</th>\n",
       "      <th>wet_today</th>\n",
       "      <th>wet_tomorrow</th>\n",
       "    </tr>\n",
       "  </thead>\n",
       "  <tbody>\n",
       "    <tr>\n",
       "      <th>0</th>\n",
       "      <td>2021-06-29</td>\n",
       "      <td>32.5</td>\n",
       "      <td>24.41</td>\n",
       "      <td>26.80</td>\n",
       "      <td>21.1</td>\n",
       "      <td>41.0</td>\n",
       "      <td>NaN</td>\n",
       "      <td>96</td>\n",
       "      <td>82.3</td>\n",
       "      <td>77.0</td>\n",
       "      <td>...</td>\n",
       "      <td>8.0</td>\n",
       "      <td>6.0</td>\n",
       "      <td>5.5</td>\n",
       "      <td>3.0</td>\n",
       "      <td>NaN</td>\n",
       "      <td>NaN</td>\n",
       "      <td>NaN</td>\n",
       "      <td>NaN</td>\n",
       "      <td>1</td>\n",
       "      <td>0</td>\n",
       "    </tr>\n",
       "    <tr>\n",
       "      <th>1</th>\n",
       "      <td>2021-06-28</td>\n",
       "      <td>32.2</td>\n",
       "      <td>27.49</td>\n",
       "      <td>26.95</td>\n",
       "      <td>21.7</td>\n",
       "      <td>39.0</td>\n",
       "      <td>NaN</td>\n",
       "      <td>86</td>\n",
       "      <td>63.6</td>\n",
       "      <td>66.0</td>\n",
       "      <td>...</td>\n",
       "      <td>6.0</td>\n",
       "      <td>3.5</td>\n",
       "      <td>3.5</td>\n",
       "      <td>1.0</td>\n",
       "      <td>NaN</td>\n",
       "      <td>NaN</td>\n",
       "      <td>NaN</td>\n",
       "      <td>NaN</td>\n",
       "      <td>1</td>\n",
       "      <td>1</td>\n",
       "    </tr>\n",
       "    <tr>\n",
       "      <th>2</th>\n",
       "      <td>2021-06-27</td>\n",
       "      <td>30.7</td>\n",
       "      <td>27.40</td>\n",
       "      <td>27.25</td>\n",
       "      <td>23.8</td>\n",
       "      <td>39.0</td>\n",
       "      <td>NaN</td>\n",
       "      <td>73</td>\n",
       "      <td>63.4</td>\n",
       "      <td>63.5</td>\n",
       "      <td>...</td>\n",
       "      <td>8.0</td>\n",
       "      <td>4.9</td>\n",
       "      <td>4.5</td>\n",
       "      <td>1.0</td>\n",
       "      <td>NaN</td>\n",
       "      <td>NaN</td>\n",
       "      <td>NaN</td>\n",
       "      <td>NaN</td>\n",
       "      <td>0</td>\n",
       "      <td>1</td>\n",
       "    </tr>\n",
       "    <tr>\n",
       "      <th>3</th>\n",
       "      <td>2021-06-26</td>\n",
       "      <td>27.5</td>\n",
       "      <td>23.97</td>\n",
       "      <td>23.25</td>\n",
       "      <td>19.0</td>\n",
       "      <td>36.0</td>\n",
       "      <td>NaN</td>\n",
       "      <td>100</td>\n",
       "      <td>82.5</td>\n",
       "      <td>83.0</td>\n",
       "      <td>...</td>\n",
       "      <td>8.0</td>\n",
       "      <td>7.8</td>\n",
       "      <td>7.5</td>\n",
       "      <td>7.0</td>\n",
       "      <td>NaN</td>\n",
       "      <td>NaN</td>\n",
       "      <td>NaN</td>\n",
       "      <td>NaN</td>\n",
       "      <td>1</td>\n",
       "      <td>0</td>\n",
       "    </tr>\n",
       "    <tr>\n",
       "      <th>4</th>\n",
       "      <td>2021-06-25</td>\n",
       "      <td>25.8</td>\n",
       "      <td>21.24</td>\n",
       "      <td>22.30</td>\n",
       "      <td>18.8</td>\n",
       "      <td>30.0</td>\n",
       "      <td>NaN</td>\n",
       "      <td>100</td>\n",
       "      <td>74.0</td>\n",
       "      <td>75.0</td>\n",
       "      <td>...</td>\n",
       "      <td>8.0</td>\n",
       "      <td>7.7</td>\n",
       "      <td>6.5</td>\n",
       "      <td>5.0</td>\n",
       "      <td>NaN</td>\n",
       "      <td>NaN</td>\n",
       "      <td>NaN</td>\n",
       "      <td>NaN</td>\n",
       "      <td>1</td>\n",
       "      <td>1</td>\n",
       "    </tr>\n",
       "    <tr>\n",
       "      <th>5</th>\n",
       "      <td>2021-06-24</td>\n",
       "      <td>28.1</td>\n",
       "      <td>22.42</td>\n",
       "      <td>22.00</td>\n",
       "      <td>15.9</td>\n",
       "      <td>30.0</td>\n",
       "      <td>NaN</td>\n",
       "      <td>70</td>\n",
       "      <td>50.5</td>\n",
       "      <td>51.0</td>\n",
       "      <td>...</td>\n",
       "      <td>8.0</td>\n",
       "      <td>5.8</td>\n",
       "      <td>5.0</td>\n",
       "      <td>2.0</td>\n",
       "      <td>NaN</td>\n",
       "      <td>NaN</td>\n",
       "      <td>NaN</td>\n",
       "      <td>NaN</td>\n",
       "      <td>0</td>\n",
       "      <td>1</td>\n",
       "    </tr>\n",
       "    <tr>\n",
       "      <th>6</th>\n",
       "      <td>2021-06-23</td>\n",
       "      <td>23.7</td>\n",
       "      <td>17.55</td>\n",
       "      <td>16.25</td>\n",
       "      <td>8.8</td>\n",
       "      <td>NaN</td>\n",
       "      <td>NaN</td>\n",
       "      <td>79</td>\n",
       "      <td>53.1</td>\n",
       "      <td>57.0</td>\n",
       "      <td>...</td>\n",
       "      <td>6.0</td>\n",
       "      <td>3.4</td>\n",
       "      <td>3.5</td>\n",
       "      <td>1.0</td>\n",
       "      <td>NaN</td>\n",
       "      <td>NaN</td>\n",
       "      <td>NaN</td>\n",
       "      <td>NaN</td>\n",
       "      <td>0</td>\n",
       "      <td>0</td>\n",
       "    </tr>\n",
       "    <tr>\n",
       "      <th>7</th>\n",
       "      <td>2021-06-22</td>\n",
       "      <td>19.5</td>\n",
       "      <td>14.46</td>\n",
       "      <td>14.75</td>\n",
       "      <td>10.0</td>\n",
       "      <td>NaN</td>\n",
       "      <td>NaN</td>\n",
       "      <td>94</td>\n",
       "      <td>54.8</td>\n",
       "      <td>63.0</td>\n",
       "      <td>...</td>\n",
       "      <td>8.0</td>\n",
       "      <td>5.8</td>\n",
       "      <td>5.0</td>\n",
       "      <td>2.0</td>\n",
       "      <td>NaN</td>\n",
       "      <td>NaN</td>\n",
       "      <td>NaN</td>\n",
       "      <td>NaN</td>\n",
       "      <td>0</td>\n",
       "      <td>0</td>\n",
       "    </tr>\n",
       "    <tr>\n",
       "      <th>8</th>\n",
       "      <td>2021-06-21</td>\n",
       "      <td>29.7</td>\n",
       "      <td>21.06</td>\n",
       "      <td>20.65</td>\n",
       "      <td>11.6</td>\n",
       "      <td>34.0</td>\n",
       "      <td>NaN</td>\n",
       "      <td>100</td>\n",
       "      <td>74.9</td>\n",
       "      <td>72.5</td>\n",
       "      <td>...</td>\n",
       "      <td>8.0</td>\n",
       "      <td>7.0</td>\n",
       "      <td>5.5</td>\n",
       "      <td>3.0</td>\n",
       "      <td>NaN</td>\n",
       "      <td>NaN</td>\n",
       "      <td>NaN</td>\n",
       "      <td>NaN</td>\n",
       "      <td>1</td>\n",
       "      <td>0</td>\n",
       "    </tr>\n",
       "    <tr>\n",
       "      <th>9</th>\n",
       "      <td>2021-06-20</td>\n",
       "      <td>27.1</td>\n",
       "      <td>21.15</td>\n",
       "      <td>20.55</td>\n",
       "      <td>14.0</td>\n",
       "      <td>32.0</td>\n",
       "      <td>NaN</td>\n",
       "      <td>91</td>\n",
       "      <td>68.2</td>\n",
       "      <td>71.0</td>\n",
       "      <td>...</td>\n",
       "      <td>8.0</td>\n",
       "      <td>3.8</td>\n",
       "      <td>4.0</td>\n",
       "      <td>0.0</td>\n",
       "      <td>NaN</td>\n",
       "      <td>NaN</td>\n",
       "      <td>NaN</td>\n",
       "      <td>NaN</td>\n",
       "      <td>0</td>\n",
       "      <td>1</td>\n",
       "    </tr>\n",
       "    <tr>\n",
       "      <th>10</th>\n",
       "      <td>2021-06-19</td>\n",
       "      <td>30.9</td>\n",
       "      <td>23.42</td>\n",
       "      <td>23.15</td>\n",
       "      <td>15.4</td>\n",
       "      <td>32.0</td>\n",
       "      <td>NaN</td>\n",
       "      <td>99</td>\n",
       "      <td>60.8</td>\n",
       "      <td>63.5</td>\n",
       "      <td>...</td>\n",
       "      <td>7.0</td>\n",
       "      <td>4.2</td>\n",
       "      <td>3.5</td>\n",
       "      <td>0.0</td>\n",
       "      <td>NaN</td>\n",
       "      <td>NaN</td>\n",
       "      <td>NaN</td>\n",
       "      <td>NaN</td>\n",
       "      <td>0</td>\n",
       "      <td>0</td>\n",
       "    </tr>\n",
       "    <tr>\n",
       "      <th>11</th>\n",
       "      <td>2021-06-18</td>\n",
       "      <td>24.9</td>\n",
       "      <td>20.35</td>\n",
       "      <td>21.45</td>\n",
       "      <td>18.0</td>\n",
       "      <td>30.0</td>\n",
       "      <td>NaN</td>\n",
       "      <td>95</td>\n",
       "      <td>75.7</td>\n",
       "      <td>72.0</td>\n",
       "      <td>...</td>\n",
       "      <td>8.0</td>\n",
       "      <td>6.4</td>\n",
       "      <td>5.0</td>\n",
       "      <td>2.0</td>\n",
       "      <td>NaN</td>\n",
       "      <td>NaN</td>\n",
       "      <td>NaN</td>\n",
       "      <td>NaN</td>\n",
       "      <td>1</td>\n",
       "      <td>0</td>\n",
       "    </tr>\n",
       "    <tr>\n",
       "      <th>12</th>\n",
       "      <td>2021-06-17</td>\n",
       "      <td>26.3</td>\n",
       "      <td>19.35</td>\n",
       "      <td>17.75</td>\n",
       "      <td>9.2</td>\n",
       "      <td>NaN</td>\n",
       "      <td>NaN</td>\n",
       "      <td>63</td>\n",
       "      <td>40.2</td>\n",
       "      <td>42.5</td>\n",
       "      <td>...</td>\n",
       "      <td>5.0</td>\n",
       "      <td>1.6</td>\n",
       "      <td>2.5</td>\n",
       "      <td>0.0</td>\n",
       "      <td>NaN</td>\n",
       "      <td>NaN</td>\n",
       "      <td>NaN</td>\n",
       "      <td>NaN</td>\n",
       "      <td>0</td>\n",
       "      <td>1</td>\n",
       "    </tr>\n",
       "    <tr>\n",
       "      <th>13</th>\n",
       "      <td>2021-06-16</td>\n",
       "      <td>22.3</td>\n",
       "      <td>16.46</td>\n",
       "      <td>16.39</td>\n",
       "      <td>10.5</td>\n",
       "      <td>NaN</td>\n",
       "      <td>NaN</td>\n",
       "      <td>57</td>\n",
       "      <td>39.0</td>\n",
       "      <td>39.0</td>\n",
       "      <td>...</td>\n",
       "      <td>6.0</td>\n",
       "      <td>1.6</td>\n",
       "      <td>3.0</td>\n",
       "      <td>0.0</td>\n",
       "      <td>NaN</td>\n",
       "      <td>NaN</td>\n",
       "      <td>NaN</td>\n",
       "      <td>NaN</td>\n",
       "      <td>0</td>\n",
       "      <td>0</td>\n",
       "    </tr>\n",
       "  </tbody>\n",
       "</table>\n",
       "<p>14 rows × 72 columns</p>\n",
       "</div>"
      ],
      "text/plain": [
       "          date  max_temperature  avg_hourly_temperature  avg_temperature  \\\n",
       "0   2021-06-29             32.5                   24.41            26.80   \n",
       "1   2021-06-28             32.2                   27.49            26.95   \n",
       "2   2021-06-27             30.7                   27.40            27.25   \n",
       "3   2021-06-26             27.5                   23.97            23.25   \n",
       "4   2021-06-25             25.8                   21.24            22.30   \n",
       "5   2021-06-24             28.1                   22.42            22.00   \n",
       "6   2021-06-23             23.7                   17.55            16.25   \n",
       "7   2021-06-22             19.5                   14.46            14.75   \n",
       "8   2021-06-21             29.7                   21.06            20.65   \n",
       "9   2021-06-20             27.1                   21.15            20.55   \n",
       "10  2021-06-19             30.9                   23.42            23.15   \n",
       "11  2021-06-18             24.9                   20.35            21.45   \n",
       "12  2021-06-17             26.3                   19.35            17.75   \n",
       "13  2021-06-16             22.3                   16.46            16.39   \n",
       "\n",
       "    min_temperature  max_humidex  min_windchill  max_relative_humidity  \\\n",
       "0              21.1         41.0            NaN                     96   \n",
       "1              21.7         39.0            NaN                     86   \n",
       "2              23.8         39.0            NaN                     73   \n",
       "3              19.0         36.0            NaN                    100   \n",
       "4              18.8         30.0            NaN                    100   \n",
       "5              15.9         30.0            NaN                     70   \n",
       "6               8.8          NaN            NaN                     79   \n",
       "7              10.0          NaN            NaN                     94   \n",
       "8              11.6         34.0            NaN                    100   \n",
       "9              14.0         32.0            NaN                     91   \n",
       "10             15.4         32.0            NaN                     99   \n",
       "11             18.0         30.0            NaN                     95   \n",
       "12              9.2          NaN            NaN                     63   \n",
       "13             10.5          NaN            NaN                     57   \n",
       "\n",
       "    avg_hourly_relative_humidity  avg_relative_humidity  ...  \\\n",
       "0                           82.3                   77.0  ...   \n",
       "1                           63.6                   66.0  ...   \n",
       "2                           63.4                   63.5  ...   \n",
       "3                           82.5                   83.0  ...   \n",
       "4                           74.0                   75.0  ...   \n",
       "5                           50.5                   51.0  ...   \n",
       "6                           53.1                   57.0  ...   \n",
       "7                           54.8                   63.0  ...   \n",
       "8                           74.9                   72.5  ...   \n",
       "9                           68.2                   71.0  ...   \n",
       "10                          60.8                   63.5  ...   \n",
       "11                          75.7                   72.0  ...   \n",
       "12                          40.2                   42.5  ...   \n",
       "13                          39.0                   39.0  ...   \n",
       "\n",
       "    max_cloud_cover_8  avg_hourly_cloud_cover_8  avg_cloud_cover_8  \\\n",
       "0                 8.0                       6.0                5.5   \n",
       "1                 6.0                       3.5                3.5   \n",
       "2                 8.0                       4.9                4.5   \n",
       "3                 8.0                       7.8                7.5   \n",
       "4                 8.0                       7.7                6.5   \n",
       "5                 8.0                       5.8                5.0   \n",
       "6                 6.0                       3.4                3.5   \n",
       "7                 8.0                       5.8                5.0   \n",
       "8                 8.0                       7.0                5.5   \n",
       "9                 8.0                       3.8                4.0   \n",
       "10                7.0                       4.2                3.5   \n",
       "11                8.0                       6.4                5.0   \n",
       "12                5.0                       1.6                2.5   \n",
       "13                6.0                       1.6                3.0   \n",
       "\n",
       "    min_cloud_cover_8  max_cloud_cover_10  avg_hourly_cloud_cover_10  \\\n",
       "0                 3.0                 NaN                        NaN   \n",
       "1                 1.0                 NaN                        NaN   \n",
       "2                 1.0                 NaN                        NaN   \n",
       "3                 7.0                 NaN                        NaN   \n",
       "4                 5.0                 NaN                        NaN   \n",
       "5                 2.0                 NaN                        NaN   \n",
       "6                 1.0                 NaN                        NaN   \n",
       "7                 2.0                 NaN                        NaN   \n",
       "8                 3.0                 NaN                        NaN   \n",
       "9                 0.0                 NaN                        NaN   \n",
       "10                0.0                 NaN                        NaN   \n",
       "11                2.0                 NaN                        NaN   \n",
       "12                0.0                 NaN                        NaN   \n",
       "13                0.0                 NaN                        NaN   \n",
       "\n",
       "    avg_cloud_cover_10  min_cloud_cover_10  wet_today  wet_tomorrow  \n",
       "0                  NaN                 NaN          1             0  \n",
       "1                  NaN                 NaN          1             1  \n",
       "2                  NaN                 NaN          0             1  \n",
       "3                  NaN                 NaN          1             0  \n",
       "4                  NaN                 NaN          1             1  \n",
       "5                  NaN                 NaN          0             1  \n",
       "6                  NaN                 NaN          0             0  \n",
       "7                  NaN                 NaN          0             0  \n",
       "8                  NaN                 NaN          1             0  \n",
       "9                  NaN                 NaN          0             1  \n",
       "10                 NaN                 NaN          0             0  \n",
       "11                 NaN                 NaN          1             0  \n",
       "12                 NaN                 NaN          0             1  \n",
       "13                 NaN                 NaN          0             0  \n",
       "\n",
       "[14 rows x 72 columns]"
      ]
     },
     "execution_count": 7,
     "metadata": {},
     "output_type": "execute_result"
    }
   ],
   "source": [
    "#dataset = pd.read_csv(\"/content/drive/MyDrive/U of T Cont Studies/ML/ML Group Project /data/weatherstats_toronto_daily.csv\")\n",
    "dataset = pd.read_csv('data/weatherstats_toronto_daily.csv')\n",
    "# make precipitation a categorical variable; {1: rain/snow, 0: dry day}\n",
    "dataset[['wet_today']] = (dataset[['precipitation']]>1).astype('int64')\n",
    "#dataset[['wet_7cum']] = dataset[['wet_today']].rolling(7).sum().shift(-6)\n",
    "# make a column to indicate if it will rain tomorrow \n",
    "#we dont have a value for June 30th 2021 so we can impute it with 0 which was the actual precipitation value \n",
    "dataset[['wet_tomorrow']] = dataset[['wet_today']].shift(1, fill_value = 0)\n",
    "dataset.head(14)"
   ]
  },
  {
   "cell_type": "markdown",
   "metadata": {
    "id": "MKw-nx3p3qoa"
   },
   "source": [
    "The above table is a subset of the first 10 rows of the dataset. As we can see, the dataset is ordered in reverse chronological order with 72 columns and 10,000 rows. We are also able to observe that every column except for the `date`, `sunrise`, and `sunset` columns are numerical in nature. Moreover, we are able to see that the dataset has quite a few missing values.  "
   ]
  },
  {
   "cell_type": "code",
   "execution_count": 8,
   "metadata": {
    "colab": {
     "base_uri": "https://localhost:8080/"
    },
    "executionInfo": {
     "elapsed": 182,
     "status": "ok",
     "timestamp": 1627593493284,
     "user": {
      "displayName": "RUOCHEN WANG",
      "photoUrl": "",
      "userId": "03367450102115681037"
     },
     "user_tz": 240
    },
    "id": "wipZyX8z3qob",
    "outputId": "793ac0c3-59d6-4e9b-cb90-1b27496b6f4b"
   },
   "outputs": [
    {
     "data": {
      "text/plain": [
       "(10000, 72)"
      ]
     },
     "execution_count": 8,
     "metadata": {},
     "output_type": "execute_result"
    }
   ],
   "source": [
    "dataset.shape"
   ]
  },
  {
   "cell_type": "code",
   "execution_count": 9,
   "metadata": {
    "colab": {
     "base_uri": "https://localhost:8080/"
    },
    "executionInfo": {
     "elapsed": 27,
     "status": "ok",
     "timestamp": 1627593493692,
     "user": {
      "displayName": "RUOCHEN WANG",
      "photoUrl": "",
      "userId": "03367450102115681037"
     },
     "user_tz": 240
    },
    "id": "YVZ2TE4b3qoc",
    "outputId": "f554541c-346b-4708-d5d0-c7215d41b782"
   },
   "outputs": [
    {
     "name": "stdout",
     "output_type": "stream",
     "text": [
      "<class 'pandas.core.frame.DataFrame'>\n",
      "RangeIndex: 10000 entries, 0 to 9999\n",
      "Data columns (total 72 columns):\n",
      " #   Column                         Non-Null Count  Dtype  \n",
      "---  ------                         --------------  -----  \n",
      " 0   date                           10000 non-null  object \n",
      " 1   max_temperature                10000 non-null  float64\n",
      " 2   avg_hourly_temperature         10000 non-null  float64\n",
      " 3   avg_temperature                10000 non-null  float64\n",
      " 4   min_temperature                10000 non-null  float64\n",
      " 5   max_humidex                    2783 non-null   float64\n",
      " 6   min_windchill                  3354 non-null   float64\n",
      " 7   max_relative_humidity          10000 non-null  int64  \n",
      " 8   avg_hourly_relative_humidity   10000 non-null  float64\n",
      " 9   avg_relative_humidity          10000 non-null  float64\n",
      " 10  min_relative_humidity          10000 non-null  int64  \n",
      " 11  max_dew_point                  10000 non-null  float64\n",
      " 12  avg_hourly_dew_point           10000 non-null  float64\n",
      " 13  avg_dew_point                  10000 non-null  float64\n",
      " 14  min_dew_point                  10000 non-null  float64\n",
      " 15  max_wind_speed                 10000 non-null  int64  \n",
      " 16  avg_hourly_wind_speed          10000 non-null  float64\n",
      " 17  avg_wind_speed                 10000 non-null  float64\n",
      " 18  min_wind_speed                 10000 non-null  int64  \n",
      " 19  max_wind_gust                  6939 non-null   float64\n",
      " 20  wind_gust_dir_10s              6938 non-null   float64\n",
      " 21  max_pressure_sea               10000 non-null  float64\n",
      " 22  avg_hourly_pressure_sea        10000 non-null  float64\n",
      " 23  avg_pressure_sea               10000 non-null  float64\n",
      " 24  min_pressure_sea               10000 non-null  float64\n",
      " 25  max_pressure_station           10000 non-null  float64\n",
      " 26  avg_hourly_pressure_station    10000 non-null  float64\n",
      " 27  avg_pressure_station           10000 non-null  float64\n",
      " 28  min_pressure_station           10000 non-null  float64\n",
      " 29  max_visibility                 10000 non-null  int64  \n",
      " 30  avg_hourly_visibility          10000 non-null  float64\n",
      " 31  avg_visibility                 10000 non-null  int64  \n",
      " 32  min_visibility                 10000 non-null  int64  \n",
      " 33  max_health_index               3723 non-null   float64\n",
      " 34  avg_hourly_health_index        3723 non-null   float64\n",
      " 35  avg_health_index               3723 non-null   float64\n",
      " 36  min_health_index               3723 non-null   float64\n",
      " 37  heatdegdays                    10000 non-null  float64\n",
      " 38  cooldegdays                    10000 non-null  float64\n",
      " 39  growdegdays_5                  10000 non-null  float64\n",
      " 40  growdegdays_7                  10000 non-null  float64\n",
      " 41  growdegdays_10                 10000 non-null  float64\n",
      " 42  precipitation                  9979 non-null   float64\n",
      " 43  rain                           9970 non-null   float64\n",
      " 44  snow                           9978 non-null   float64\n",
      " 45  snow_on_ground                 7831 non-null   float64\n",
      " 46  sunrise                        2737 non-null   object \n",
      " 47  sunset                         2737 non-null   object \n",
      " 48  daylight                       2737 non-null   float64\n",
      " 49  sunrise_f                      2737 non-null   float64\n",
      " 50  sunset_f                       2737 non-null   float64\n",
      " 51  min_uv_forecast                2105 non-null   float64\n",
      " 52  max_uv_forecast                2105 non-null   float64\n",
      " 53  min_high_temperature_forecast  2737 non-null   float64\n",
      " 54  max_high_temperature_forecast  2737 non-null   float64\n",
      " 55  min_low_temperature_forecast   2737 non-null   float64\n",
      " 56  max_low_temperature_forecast   2737 non-null   float64\n",
      " 57  solar_radiation                0 non-null      float64\n",
      " 58  max_cloud_cover_4              0 non-null      float64\n",
      " 59  avg_hourly_cloud_cover_4       0 non-null      float64\n",
      " 60  avg_cloud_cover_4              0 non-null      float64\n",
      " 61  min_cloud_cover_4              0 non-null      float64\n",
      " 62  max_cloud_cover_8              2821 non-null   float64\n",
      " 63  avg_hourly_cloud_cover_8       2821 non-null   float64\n",
      " 64  avg_cloud_cover_8              2821 non-null   float64\n",
      " 65  min_cloud_cover_8              2821 non-null   float64\n",
      " 66  max_cloud_cover_10             237 non-null    float64\n",
      " 67  avg_hourly_cloud_cover_10      237 non-null    float64\n",
      " 68  avg_cloud_cover_10             237 non-null    float64\n",
      " 69  min_cloud_cover_10             237 non-null    float64\n",
      " 70  wet_today                      10000 non-null  int64  \n",
      " 71  wet_tomorrow                   10000 non-null  int64  \n",
      "dtypes: float64(60), int64(9), object(3)\n",
      "memory usage: 5.5+ MB\n"
     ]
    }
   ],
   "source": [
    "dataset.info()"
   ]
  },
  {
   "cell_type": "markdown",
   "metadata": {
    "id": "s-Je7Hed3qoc"
   },
   "source": [
    "<br></br>\n",
    "<br></br>\n",
    "<br></br>\n",
    "<br></br>\n",
    "<br></br>\n",
    "<br></br>\n",
    "<br></br>\n",
    "<br></br>\n",
    "<br></br>\n",
    "<br></br>\n",
    "<br></br>\n",
    "<br></br>\n",
    "<br></br>\n",
    "<br></br>\n",
    "<br></br>\n",
    "<br></br>\n",
    "<br></br>\n",
    "<br></br>\n",
    "<br></br>\n",
    "<br></br>\n",
    "<br></br>\n",
    "<br></br>\n",
    "<br></br>\n",
    "<br></br>\n",
    "<br></br>\n",
    "<br></br>\n",
    "<br></br>\n",
    "<br></br>\n",
    "# Validate the Integrity of the data "
   ]
  },
  {
   "cell_type": "markdown",
   "metadata": {
    "id": "9LzEQIQN3qod"
   },
   "source": [
    "### Missing Values \n"
   ]
  },
  {
   "cell_type": "code",
   "execution_count": 10,
   "metadata": {
    "executionInfo": {
     "elapsed": 18,
     "status": "ok",
     "timestamp": 1627593493693,
     "user": {
      "displayName": "RUOCHEN WANG",
      "photoUrl": "",
      "userId": "03367450102115681037"
     },
     "user_tz": 240
    },
    "id": "Itb52YOR3qoe"
   },
   "outputs": [],
   "source": [
    "def find_missing_vals(dataset):\n",
    "    '''Display columsn with missing data and indicate how many values are missing for each column.'''\n",
    "    missing_vals = dataset.isnull().sum()\n",
    "    cols_list = dataset.columns\n",
    "    col_count = 0\n",
    "\n",
    "    for col, val in zip(cols_list, missing_vals):\n",
    "        if val > 0:\n",
    "            print('{}: {} values misiing'.format(col, val))\n",
    "            col_count += 1\n",
    "    print('\\n{} columns have missing values'.format(col_count))\n",
    "    return zip(cols_list, missing_vals)"
   ]
  },
  {
   "cell_type": "code",
   "execution_count": 11,
   "metadata": {
    "colab": {
     "base_uri": "https://localhost:8080/"
    },
    "executionInfo": {
     "elapsed": 166,
     "status": "ok",
     "timestamp": 1627593493842,
     "user": {
      "displayName": "RUOCHEN WANG",
      "photoUrl": "",
      "userId": "03367450102115681037"
     },
     "user_tz": 240
    },
    "id": "zHZf6F_W3qoe",
    "outputId": "bed14a17-872c-4c3d-9905-3788e612f6cd"
   },
   "outputs": [
    {
     "name": "stdout",
     "output_type": "stream",
     "text": [
      "max_humidex: 7217 values misiing\n",
      "min_windchill: 6646 values misiing\n",
      "max_wind_gust: 3061 values misiing\n",
      "wind_gust_dir_10s: 3062 values misiing\n",
      "max_health_index: 6277 values misiing\n",
      "avg_hourly_health_index: 6277 values misiing\n",
      "avg_health_index: 6277 values misiing\n",
      "min_health_index: 6277 values misiing\n",
      "precipitation: 21 values misiing\n",
      "rain: 30 values misiing\n",
      "snow: 22 values misiing\n",
      "snow_on_ground: 2169 values misiing\n",
      "sunrise: 7263 values misiing\n",
      "sunset: 7263 values misiing\n",
      "daylight: 7263 values misiing\n",
      "sunrise_f: 7263 values misiing\n",
      "sunset_f: 7263 values misiing\n",
      "min_uv_forecast: 7895 values misiing\n",
      "max_uv_forecast: 7895 values misiing\n",
      "min_high_temperature_forecast: 7263 values misiing\n",
      "max_high_temperature_forecast: 7263 values misiing\n",
      "min_low_temperature_forecast: 7263 values misiing\n",
      "max_low_temperature_forecast: 7263 values misiing\n",
      "solar_radiation: 10000 values misiing\n",
      "max_cloud_cover_4: 10000 values misiing\n",
      "avg_hourly_cloud_cover_4: 10000 values misiing\n",
      "avg_cloud_cover_4: 10000 values misiing\n",
      "min_cloud_cover_4: 10000 values misiing\n",
      "max_cloud_cover_8: 7179 values misiing\n",
      "avg_hourly_cloud_cover_8: 7179 values misiing\n",
      "avg_cloud_cover_8: 7179 values misiing\n",
      "min_cloud_cover_8: 7179 values misiing\n",
      "max_cloud_cover_10: 9763 values misiing\n",
      "avg_hourly_cloud_cover_10: 9763 values misiing\n",
      "avg_cloud_cover_10: 9763 values misiing\n",
      "min_cloud_cover_10: 9763 values misiing\n",
      "\n",
      "36 columns have missing values\n"
     ]
    },
    {
     "data": {
      "text/plain": [
       "<zip at 0x1a306be9440>"
      ]
     },
     "execution_count": 11,
     "metadata": {},
     "output_type": "execute_result"
    }
   ],
   "source": [
    "find_missing_vals(dataset)"
   ]
  },
  {
   "cell_type": "markdown",
   "metadata": {
    "id": "ZpdaUxa63qof"
   },
   "source": [
    "#### Explaining missing values "
   ]
  },
  {
   "cell_type": "markdown",
   "metadata": {
    "id": "uMsSAOkT3qof"
   },
   "source": [
    "We see that 36 columns in the dataset contain missing values and 34 columns have no missing values. Recall there are 10000 rows in the dataset, meaning that 5 columns have no entries and 23 columns conatain more than 6000 missing values.  \n",
    "\n",
    "The `percipitation`, `rain` and `snow` columns have the least missing of columns that conain missing values. These columns contain less than 30 missing values.  "
   ]
  },
  {
   "cell_type": "code",
   "execution_count": 12,
   "metadata": {
    "colab": {
     "base_uri": "https://localhost:8080/",
     "height": 419
    },
    "executionInfo": {
     "elapsed": 22,
     "status": "ok",
     "timestamp": 1627593493843,
     "user": {
      "displayName": "RUOCHEN WANG",
      "photoUrl": "",
      "userId": "03367450102115681037"
     },
     "user_tz": 240
    },
    "id": "2ZAkcodG3qog",
    "outputId": "b5eb0139-91fb-4eed-eeaf-23424cd67a36"
   },
   "outputs": [
    {
     "data": {
      "text/html": [
       "<div>\n",
       "<style scoped>\n",
       "    .dataframe tbody tr th:only-of-type {\n",
       "        vertical-align: middle;\n",
       "    }\n",
       "\n",
       "    .dataframe tbody tr th {\n",
       "        vertical-align: top;\n",
       "    }\n",
       "\n",
       "    .dataframe thead th {\n",
       "        text-align: right;\n",
       "    }\n",
       "</style>\n",
       "<table border=\"1\" class=\"dataframe\">\n",
       "  <thead>\n",
       "    <tr style=\"text-align: right;\">\n",
       "      <th></th>\n",
       "      <th>date</th>\n",
       "      <th>max_cloud_cover_8</th>\n",
       "      <th>avg_hourly_cloud_cover_8</th>\n",
       "      <th>avg_cloud_cover_8</th>\n",
       "      <th>min_cloud_cover_8</th>\n",
       "    </tr>\n",
       "  </thead>\n",
       "  <tbody>\n",
       "    <tr>\n",
       "      <th>0</th>\n",
       "      <td>2021-06-29</td>\n",
       "      <td>8.0</td>\n",
       "      <td>6.0</td>\n",
       "      <td>5.5</td>\n",
       "      <td>3.0</td>\n",
       "    </tr>\n",
       "    <tr>\n",
       "      <th>1</th>\n",
       "      <td>2021-06-28</td>\n",
       "      <td>6.0</td>\n",
       "      <td>3.5</td>\n",
       "      <td>3.5</td>\n",
       "      <td>1.0</td>\n",
       "    </tr>\n",
       "    <tr>\n",
       "      <th>2</th>\n",
       "      <td>2021-06-27</td>\n",
       "      <td>8.0</td>\n",
       "      <td>4.9</td>\n",
       "      <td>4.5</td>\n",
       "      <td>1.0</td>\n",
       "    </tr>\n",
       "    <tr>\n",
       "      <th>3</th>\n",
       "      <td>2021-06-26</td>\n",
       "      <td>8.0</td>\n",
       "      <td>7.8</td>\n",
       "      <td>7.5</td>\n",
       "      <td>7.0</td>\n",
       "    </tr>\n",
       "    <tr>\n",
       "      <th>4</th>\n",
       "      <td>2021-06-25</td>\n",
       "      <td>8.0</td>\n",
       "      <td>7.7</td>\n",
       "      <td>6.5</td>\n",
       "      <td>5.0</td>\n",
       "    </tr>\n",
       "    <tr>\n",
       "      <th>...</th>\n",
       "      <td>...</td>\n",
       "      <td>...</td>\n",
       "      <td>...</td>\n",
       "      <td>...</td>\n",
       "      <td>...</td>\n",
       "    </tr>\n",
       "    <tr>\n",
       "      <th>2816</th>\n",
       "      <td>2013-10-13</td>\n",
       "      <td>8.0</td>\n",
       "      <td>7.3</td>\n",
       "      <td>5.5</td>\n",
       "      <td>3.0</td>\n",
       "    </tr>\n",
       "    <tr>\n",
       "      <th>2817</th>\n",
       "      <td>2013-10-12</td>\n",
       "      <td>4.0</td>\n",
       "      <td>1.6</td>\n",
       "      <td>2.5</td>\n",
       "      <td>1.0</td>\n",
       "    </tr>\n",
       "    <tr>\n",
       "      <th>2818</th>\n",
       "      <td>2013-10-11</td>\n",
       "      <td>2.0</td>\n",
       "      <td>1.5</td>\n",
       "      <td>1.5</td>\n",
       "      <td>1.0</td>\n",
       "    </tr>\n",
       "    <tr>\n",
       "      <th>2819</th>\n",
       "      <td>2013-10-10</td>\n",
       "      <td>8.0</td>\n",
       "      <td>3.2</td>\n",
       "      <td>4.5</td>\n",
       "      <td>1.0</td>\n",
       "    </tr>\n",
       "    <tr>\n",
       "      <th>2820</th>\n",
       "      <td>2013-10-09</td>\n",
       "      <td>2.0</td>\n",
       "      <td>1.1</td>\n",
       "      <td>1.5</td>\n",
       "      <td>1.0</td>\n",
       "    </tr>\n",
       "  </tbody>\n",
       "</table>\n",
       "<p>2821 rows × 5 columns</p>\n",
       "</div>"
      ],
      "text/plain": [
       "            date  max_cloud_cover_8  avg_hourly_cloud_cover_8  \\\n",
       "0     2021-06-29                8.0                       6.0   \n",
       "1     2021-06-28                6.0                       3.5   \n",
       "2     2021-06-27                8.0                       4.9   \n",
       "3     2021-06-26                8.0                       7.8   \n",
       "4     2021-06-25                8.0                       7.7   \n",
       "...          ...                ...                       ...   \n",
       "2816  2013-10-13                8.0                       7.3   \n",
       "2817  2013-10-12                4.0                       1.6   \n",
       "2818  2013-10-11                2.0                       1.5   \n",
       "2819  2013-10-10                8.0                       3.2   \n",
       "2820  2013-10-09                2.0                       1.1   \n",
       "\n",
       "      avg_cloud_cover_8  min_cloud_cover_8  \n",
       "0                   5.5                3.0  \n",
       "1                   3.5                1.0  \n",
       "2                   4.5                1.0  \n",
       "3                   7.5                7.0  \n",
       "4                   6.5                5.0  \n",
       "...                 ...                ...  \n",
       "2816                5.5                3.0  \n",
       "2817                2.5                1.0  \n",
       "2818                1.5                1.0  \n",
       "2819                4.5                1.0  \n",
       "2820                1.5                1.0  \n",
       "\n",
       "[2821 rows x 5 columns]"
      ]
     },
     "execution_count": 12,
     "metadata": {},
     "output_type": "execute_result"
    }
   ],
   "source": [
    "cloud_not_missing = dataset[dataset.avg_hourly_cloud_cover_8.notnull()]\n",
    "cloud_not_missing[['date', 'max_cloud_cover_8', 'avg_hourly_cloud_cover_8', 'avg_cloud_cover_8', 'min_cloud_cover_8']]"
   ]
  },
  {
   "cell_type": "markdown",
   "metadata": {
    "id": "UZ48iUIy3qog"
   },
   "source": [
    "Cloud coverage data wasnt collected by the weather station using the Oktas scale until October 9, 2013. That means we have data from October 9, 2013 to June 29th, 2021 abput weather coverage in the following variables: `max_cloud_cover_8`, \n",
    "                `avg_hourly_cloud_cover_8`, `avg_cloud_cover_8`, `min_cloud_cover_8`. "
   ]
  },
  {
   "cell_type": "code",
   "execution_count": 13,
   "metadata": {
    "colab": {
     "base_uri": "https://localhost:8080/",
     "height": 419
    },
    "executionInfo": {
     "elapsed": 16,
     "status": "ok",
     "timestamp": 1627593493845,
     "user": {
      "displayName": "RUOCHEN WANG",
      "photoUrl": "",
      "userId": "03367450102115681037"
     },
     "user_tz": 240
    },
    "id": "ezRLFb7D3qoh",
    "outputId": "b522565e-2adb-488a-f675-b431bec16eb1"
   },
   "outputs": [
    {
     "data": {
      "text/html": [
       "<div>\n",
       "<style scoped>\n",
       "    .dataframe tbody tr th:only-of-type {\n",
       "        vertical-align: middle;\n",
       "    }\n",
       "\n",
       "    .dataframe tbody tr th {\n",
       "        vertical-align: top;\n",
       "    }\n",
       "\n",
       "    .dataframe thead th {\n",
       "        text-align: right;\n",
       "    }\n",
       "</style>\n",
       "<table border=\"1\" class=\"dataframe\">\n",
       "  <thead>\n",
       "    <tr style=\"text-align: right;\">\n",
       "      <th></th>\n",
       "      <th>date</th>\n",
       "      <th>sunrise</th>\n",
       "      <th>sunset</th>\n",
       "      <th>daylight</th>\n",
       "    </tr>\n",
       "  </thead>\n",
       "  <tbody>\n",
       "    <tr>\n",
       "      <th>0</th>\n",
       "      <td>2021-06-29</td>\n",
       "      <td>5:39:00</td>\n",
       "      <td>21:04:00</td>\n",
       "      <td>15.42</td>\n",
       "    </tr>\n",
       "    <tr>\n",
       "      <th>1</th>\n",
       "      <td>2021-06-28</td>\n",
       "      <td>5:38:00</td>\n",
       "      <td>21:04:00</td>\n",
       "      <td>15.43</td>\n",
       "    </tr>\n",
       "    <tr>\n",
       "      <th>2</th>\n",
       "      <td>2021-06-27</td>\n",
       "      <td>5:38:00</td>\n",
       "      <td>21:04:00</td>\n",
       "      <td>15.43</td>\n",
       "    </tr>\n",
       "    <tr>\n",
       "      <th>3</th>\n",
       "      <td>2021-06-26</td>\n",
       "      <td>5:37:00</td>\n",
       "      <td>21:04:00</td>\n",
       "      <td>15.45</td>\n",
       "    </tr>\n",
       "    <tr>\n",
       "      <th>4</th>\n",
       "      <td>2021-06-25</td>\n",
       "      <td>5:37:00</td>\n",
       "      <td>21:04:00</td>\n",
       "      <td>15.45</td>\n",
       "    </tr>\n",
       "    <tr>\n",
       "      <th>...</th>\n",
       "      <td>...</td>\n",
       "      <td>...</td>\n",
       "      <td>...</td>\n",
       "      <td>...</td>\n",
       "    </tr>\n",
       "    <tr>\n",
       "      <th>2732</th>\n",
       "      <td>2014-01-05</td>\n",
       "      <td>7:51:00</td>\n",
       "      <td>16:55:00</td>\n",
       "      <td>9.07</td>\n",
       "    </tr>\n",
       "    <tr>\n",
       "      <th>2733</th>\n",
       "      <td>2014-01-04</td>\n",
       "      <td>7:52:00</td>\n",
       "      <td>16:54:00</td>\n",
       "      <td>9.03</td>\n",
       "    </tr>\n",
       "    <tr>\n",
       "      <th>2734</th>\n",
       "      <td>2014-01-03</td>\n",
       "      <td>7:52:00</td>\n",
       "      <td>16:53:00</td>\n",
       "      <td>9.02</td>\n",
       "    </tr>\n",
       "    <tr>\n",
       "      <th>2735</th>\n",
       "      <td>2014-01-02</td>\n",
       "      <td>7:52:00</td>\n",
       "      <td>16:52:00</td>\n",
       "      <td>9.00</td>\n",
       "    </tr>\n",
       "    <tr>\n",
       "      <th>2736</th>\n",
       "      <td>2014-01-01</td>\n",
       "      <td>7:51:00</td>\n",
       "      <td>16:51:00</td>\n",
       "      <td>9.00</td>\n",
       "    </tr>\n",
       "  </tbody>\n",
       "</table>\n",
       "<p>2737 rows × 4 columns</p>\n",
       "</div>"
      ],
      "text/plain": [
       "            date  sunrise    sunset  daylight\n",
       "0     2021-06-29  5:39:00  21:04:00     15.42\n",
       "1     2021-06-28  5:38:00  21:04:00     15.43\n",
       "2     2021-06-27  5:38:00  21:04:00     15.43\n",
       "3     2021-06-26  5:37:00  21:04:00     15.45\n",
       "4     2021-06-25  5:37:00  21:04:00     15.45\n",
       "...          ...      ...       ...       ...\n",
       "2732  2014-01-05  7:51:00  16:55:00      9.07\n",
       "2733  2014-01-04  7:52:00  16:54:00      9.03\n",
       "2734  2014-01-03  7:52:00  16:53:00      9.02\n",
       "2735  2014-01-02  7:52:00  16:52:00      9.00\n",
       "2736  2014-01-01  7:51:00  16:51:00      9.00\n",
       "\n",
       "[2737 rows x 4 columns]"
      ]
     },
     "execution_count": 13,
     "metadata": {},
     "output_type": "execute_result"
    }
   ],
   "source": [
    "sun_not_missing = dataset[dataset.sunrise.notnull()]\n",
    "sun_not_missing[['date', 'sunrise', 'sunset', 'daylight']]"
   ]
  },
  {
   "cell_type": "markdown",
   "metadata": {
    "id": "JVtQkoa33qoi"
   },
   "source": [
    "Data related to sunlight wasnt collected by this weather station until January 1st, 2014. Therefore any data related to ant time before January 1st, 2014 for the `date`, `sunrise`, `sunset` and `daylight` variables will be considered missing. "
   ]
  },
  {
   "cell_type": "code",
   "execution_count": 14,
   "metadata": {
    "colab": {
     "base_uri": "https://localhost:8080/",
     "height": 419
    },
    "executionInfo": {
     "elapsed": 176,
     "status": "ok",
     "timestamp": 1627593494008,
     "user": {
      "displayName": "RUOCHEN WANG",
      "photoUrl": "",
      "userId": "03367450102115681037"
     },
     "user_tz": 240
    },
    "id": "8NLkRFJo3qoj",
    "outputId": "05684603-f790-4488-a5c7-d79b3a1e0c2c",
    "scrolled": true
   },
   "outputs": [
    {
     "data": {
      "text/html": [
       "<div>\n",
       "<style scoped>\n",
       "    .dataframe tbody tr th:only-of-type {\n",
       "        vertical-align: middle;\n",
       "    }\n",
       "\n",
       "    .dataframe tbody tr th {\n",
       "        vertical-align: top;\n",
       "    }\n",
       "\n",
       "    .dataframe thead th {\n",
       "        text-align: right;\n",
       "    }\n",
       "</style>\n",
       "<table border=\"1\" class=\"dataframe\">\n",
       "  <thead>\n",
       "    <tr style=\"text-align: right;\">\n",
       "      <th></th>\n",
       "      <th>date</th>\n",
       "      <th>max_health_index</th>\n",
       "      <th>avg_hourly_health_index</th>\n",
       "      <th>avg_health_index</th>\n",
       "      <th>min_health_index</th>\n",
       "    </tr>\n",
       "  </thead>\n",
       "  <tbody>\n",
       "    <tr>\n",
       "      <th>0</th>\n",
       "      <td>2021-06-29</td>\n",
       "      <td>3.4</td>\n",
       "      <td>2.3</td>\n",
       "      <td>2.5</td>\n",
       "      <td>1.5</td>\n",
       "    </tr>\n",
       "    <tr>\n",
       "      <th>1</th>\n",
       "      <td>2021-06-28</td>\n",
       "      <td>3.2</td>\n",
       "      <td>2.6</td>\n",
       "      <td>2.6</td>\n",
       "      <td>2.1</td>\n",
       "    </tr>\n",
       "    <tr>\n",
       "      <th>2</th>\n",
       "      <td>2021-06-27</td>\n",
       "      <td>3.1</td>\n",
       "      <td>2.8</td>\n",
       "      <td>2.8</td>\n",
       "      <td>2.4</td>\n",
       "    </tr>\n",
       "    <tr>\n",
       "      <th>3</th>\n",
       "      <td>2021-06-26</td>\n",
       "      <td>3.0</td>\n",
       "      <td>2.6</td>\n",
       "      <td>2.6</td>\n",
       "      <td>2.2</td>\n",
       "    </tr>\n",
       "    <tr>\n",
       "      <th>4</th>\n",
       "      <td>2021-06-25</td>\n",
       "      <td>3.8</td>\n",
       "      <td>3.1</td>\n",
       "      <td>3.2</td>\n",
       "      <td>2.6</td>\n",
       "    </tr>\n",
       "    <tr>\n",
       "      <th>...</th>\n",
       "      <td>...</td>\n",
       "      <td>...</td>\n",
       "      <td>...</td>\n",
       "      <td>...</td>\n",
       "      <td>...</td>\n",
       "    </tr>\n",
       "    <tr>\n",
       "      <th>3719</th>\n",
       "      <td>2011-04-24</td>\n",
       "      <td>4.0</td>\n",
       "      <td>2.9</td>\n",
       "      <td>3.2</td>\n",
       "      <td>2.4</td>\n",
       "    </tr>\n",
       "    <tr>\n",
       "      <th>3720</th>\n",
       "      <td>2011-04-23</td>\n",
       "      <td>3.6</td>\n",
       "      <td>2.8</td>\n",
       "      <td>3.0</td>\n",
       "      <td>2.3</td>\n",
       "    </tr>\n",
       "    <tr>\n",
       "      <th>3721</th>\n",
       "      <td>2011-04-22</td>\n",
       "      <td>3.8</td>\n",
       "      <td>3.2</td>\n",
       "      <td>3.3</td>\n",
       "      <td>2.8</td>\n",
       "    </tr>\n",
       "    <tr>\n",
       "      <th>3722</th>\n",
       "      <td>2011-04-21</td>\n",
       "      <td>3.7</td>\n",
       "      <td>3.1</td>\n",
       "      <td>3.1</td>\n",
       "      <td>2.6</td>\n",
       "    </tr>\n",
       "    <tr>\n",
       "      <th>3723</th>\n",
       "      <td>2011-04-20</td>\n",
       "      <td>3.1</td>\n",
       "      <td>2.7</td>\n",
       "      <td>2.8</td>\n",
       "      <td>2.4</td>\n",
       "    </tr>\n",
       "  </tbody>\n",
       "</table>\n",
       "<p>3723 rows × 5 columns</p>\n",
       "</div>"
      ],
      "text/plain": [
       "            date  max_health_index  avg_hourly_health_index  avg_health_index  \\\n",
       "0     2021-06-29               3.4                      2.3               2.5   \n",
       "1     2021-06-28               3.2                      2.6               2.6   \n",
       "2     2021-06-27               3.1                      2.8               2.8   \n",
       "3     2021-06-26               3.0                      2.6               2.6   \n",
       "4     2021-06-25               3.8                      3.1               3.2   \n",
       "...          ...               ...                      ...               ...   \n",
       "3719  2011-04-24               4.0                      2.9               3.2   \n",
       "3720  2011-04-23               3.6                      2.8               3.0   \n",
       "3721  2011-04-22               3.8                      3.2               3.3   \n",
       "3722  2011-04-21               3.7                      3.1               3.1   \n",
       "3723  2011-04-20               3.1                      2.7               2.8   \n",
       "\n",
       "      min_health_index  \n",
       "0                  1.5  \n",
       "1                  2.1  \n",
       "2                  2.4  \n",
       "3                  2.2  \n",
       "4                  2.6  \n",
       "...                ...  \n",
       "3719               2.4  \n",
       "3720               2.3  \n",
       "3721               2.8  \n",
       "3722               2.6  \n",
       "3723               2.4  \n",
       "\n",
       "[3723 rows x 5 columns]"
      ]
     },
     "execution_count": 14,
     "metadata": {},
     "output_type": "execute_result"
    }
   ],
   "source": [
    "healthindex_not_missing = dataset[dataset.max_health_index.notnull()]\n",
    "healthindex_not_missing[['date', 'max_health_index', 'avg_hourly_health_index', 'avg_health_index', 'min_health_index']]"
   ]
  },
  {
   "cell_type": "markdown",
   "metadata": {
    "id": "hbM9tWTP3qoj"
   },
   "source": [
    "No data wass collected about the air quality health index before April 20th, 2011. Therefore there will be missing values in the `max_health_index`, `avg_hourly_health_index`, `avg_health_index`, `min_health_index` columns. "
   ]
  },
  {
   "cell_type": "markdown",
   "metadata": {
    "id": "yfxCF3_N3qok"
   },
   "source": [
    "#### Removing missing values "
   ]
  },
  {
   "cell_type": "code",
   "execution_count": 15,
   "metadata": {
    "executionInfo": {
     "elapsed": 35,
     "status": "ok",
     "timestamp": 1627593494016,
     "user": {
      "displayName": "RUOCHEN WANG",
      "photoUrl": "",
      "userId": "03367450102115681037"
     },
     "user_tz": 240
    },
    "id": "KaQ2rzrk3qok"
   },
   "outputs": [],
   "source": [
    "#drop columns that have more than 60% of their values missing \n",
    "#also drop columns irrelevant for analysis, such as snow_on_ground \n",
    "dropped_cols = ['max_humidex', 'min_windchill', 'max_health_index', 'avg_hourly_health_index', 'avg_health_index',\n",
    "               'min_health_index', 'sunrise', 'sunset', 'daylight', 'sunrise_f', 'sunset_f', 'min_uv_forecast',\n",
    "               'max_uv_forecast', 'min_high_temperature_forecast', 'max_high_temperature_forecast',\n",
    "                'min_low_temperature_forecast', 'max_low_temperature_forecast', 'solar_radiation', 'max_cloud_cover_4',\n",
    "               'avg_hourly_cloud_cover_4', 'avg_cloud_cover_4', 'min_cloud_cover_4', 'max_cloud_cover_8', \n",
    "                'avg_hourly_cloud_cover_8', 'avg_cloud_cover_8', 'min_cloud_cover_8', 'max_cloud_cover_10', \n",
    "               'avg_hourly_cloud_cover_10', 'avg_cloud_cover_10', 'min_cloud_cover_10', 'snow_on_ground']\n",
    "data_reduced = dataset.drop(columns=dropped_cols)"
   ]
  },
  {
   "cell_type": "code",
   "execution_count": 16,
   "metadata": {
    "colab": {
     "base_uri": "https://localhost:8080/"
    },
    "executionInfo": {
     "elapsed": 32,
     "status": "ok",
     "timestamp": 1627593494017,
     "user": {
      "displayName": "RUOCHEN WANG",
      "photoUrl": "",
      "userId": "03367450102115681037"
     },
     "user_tz": 240
    },
    "id": "iLnc48it3qok",
    "outputId": "c2783436-ecb6-4e92-fb09-44c2d8ef055b"
   },
   "outputs": [
    {
     "data": {
      "text/plain": [
       "(10000, 41)"
      ]
     },
     "execution_count": 16,
     "metadata": {},
     "output_type": "execute_result"
    }
   ],
   "source": [
    "data_reduced.shape "
   ]
  },
  {
   "cell_type": "code",
   "execution_count": 17,
   "metadata": {
    "colab": {
     "base_uri": "https://localhost:8080/"
    },
    "executionInfo": {
     "elapsed": 28,
     "status": "ok",
     "timestamp": 1627593494018,
     "user": {
      "displayName": "RUOCHEN WANG",
      "photoUrl": "",
      "userId": "03367450102115681037"
     },
     "user_tz": 240
    },
    "id": "lQ5Xa0vM3qol",
    "outputId": "f35f3251-470e-44b5-f3c2-0c2ce7e9d421"
   },
   "outputs": [
    {
     "name": "stdout",
     "output_type": "stream",
     "text": [
      "max_wind_gust: 3061 values misiing\n",
      "wind_gust_dir_10s: 3062 values misiing\n",
      "precipitation: 21 values misiing\n",
      "rain: 30 values misiing\n",
      "snow: 22 values misiing\n",
      "\n",
      "5 columns have missing values\n"
     ]
    },
    {
     "data": {
      "text/plain": [
       "<zip at 0x1a306a96440>"
      ]
     },
     "execution_count": 17,
     "metadata": {},
     "output_type": "execute_result"
    }
   ],
   "source": [
    "find_missing_vals(data_reduced)"
   ]
  },
  {
   "cell_type": "markdown",
   "metadata": {
    "id": "bMW4bgjS3qol"
   },
   "source": [
    "By removing columns that have more than 60% of their data missing, the dataset is left with 40 columns. Luckily the leftover columns with missing values can be calculated from the other data in the dataset. For example, `percipitation` is the sum of rain and snow, while `snow_on_ground` is a function of snow and temperature. Meaning, we can easily impute the values to make the dataset clean. "
   ]
  },
  {
   "cell_type": "code",
   "execution_count": 18,
   "metadata": {
    "executionInfo": {
     "elapsed": 25,
     "status": "ok",
     "timestamp": 1627593494020,
     "user": {
      "displayName": "RUOCHEN WANG",
      "photoUrl": "",
      "userId": "03367450102115681037"
     },
     "user_tz": 240
    },
    "id": "FPWhJOEo3qol"
   },
   "outputs": [],
   "source": [
    "#find leftover missing values in the precipitation columns \n",
    "precip_missing = data_reduced[['date', 'precipitation', 'rain', 'snow', 'wet_today']]"
   ]
  },
  {
   "cell_type": "code",
   "execution_count": 19,
   "metadata": {
    "colab": {
     "base_uri": "https://localhost:8080/",
     "height": 700
    },
    "executionInfo": {
     "elapsed": 323,
     "status": "ok",
     "timestamp": 1627593494319,
     "user": {
      "displayName": "RUOCHEN WANG",
      "photoUrl": "",
      "userId": "03367450102115681037"
     },
     "user_tz": 240
    },
    "id": "dN15w0d63qom",
    "outputId": "873a4e68-1da5-4be6-d64d-5ae38080be4c"
   },
   "outputs": [
    {
     "data": {
      "text/html": [
       "<div>\n",
       "<style scoped>\n",
       "    .dataframe tbody tr th:only-of-type {\n",
       "        vertical-align: middle;\n",
       "    }\n",
       "\n",
       "    .dataframe tbody tr th {\n",
       "        vertical-align: top;\n",
       "    }\n",
       "\n",
       "    .dataframe thead th {\n",
       "        text-align: right;\n",
       "    }\n",
       "</style>\n",
       "<table border=\"1\" class=\"dataframe\">\n",
       "  <thead>\n",
       "    <tr style=\"text-align: right;\">\n",
       "      <th></th>\n",
       "      <th>date</th>\n",
       "      <th>precipitation</th>\n",
       "      <th>rain</th>\n",
       "      <th>snow</th>\n",
       "      <th>wet_today</th>\n",
       "    </tr>\n",
       "  </thead>\n",
       "  <tbody>\n",
       "    <tr>\n",
       "      <th>131</th>\n",
       "      <td>2021-02-18</td>\n",
       "      <td>NaN</td>\n",
       "      <td>NaN</td>\n",
       "      <td>NaN</td>\n",
       "      <td>0</td>\n",
       "    </tr>\n",
       "    <tr>\n",
       "      <th>132</th>\n",
       "      <td>2021-02-17</td>\n",
       "      <td>NaN</td>\n",
       "      <td>NaN</td>\n",
       "      <td>NaN</td>\n",
       "      <td>0</td>\n",
       "    </tr>\n",
       "    <tr>\n",
       "      <th>1089</th>\n",
       "      <td>2018-07-06</td>\n",
       "      <td>NaN</td>\n",
       "      <td>NaN</td>\n",
       "      <td>NaN</td>\n",
       "      <td>0</td>\n",
       "    </tr>\n",
       "    <tr>\n",
       "      <th>1575</th>\n",
       "      <td>2017-03-07</td>\n",
       "      <td>NaN</td>\n",
       "      <td>NaN</td>\n",
       "      <td>NaN</td>\n",
       "      <td>0</td>\n",
       "    </tr>\n",
       "    <tr>\n",
       "      <th>1954</th>\n",
       "      <td>2016-02-22</td>\n",
       "      <td>NaN</td>\n",
       "      <td>NaN</td>\n",
       "      <td>0.0</td>\n",
       "      <td>0</td>\n",
       "    </tr>\n",
       "    <tr>\n",
       "      <th>1957</th>\n",
       "      <td>2016-02-19</td>\n",
       "      <td>NaN</td>\n",
       "      <td>NaN</td>\n",
       "      <td>0.0</td>\n",
       "      <td>0</td>\n",
       "    </tr>\n",
       "    <tr>\n",
       "      <th>2136</th>\n",
       "      <td>2015-08-24</td>\n",
       "      <td>NaN</td>\n",
       "      <td>NaN</td>\n",
       "      <td>NaN</td>\n",
       "      <td>0</td>\n",
       "    </tr>\n",
       "    <tr>\n",
       "      <th>2140</th>\n",
       "      <td>2015-08-20</td>\n",
       "      <td>NaN</td>\n",
       "      <td>NaN</td>\n",
       "      <td>NaN</td>\n",
       "      <td>0</td>\n",
       "    </tr>\n",
       "    <tr>\n",
       "      <th>2154</th>\n",
       "      <td>2015-08-06</td>\n",
       "      <td>NaN</td>\n",
       "      <td>NaN</td>\n",
       "      <td>0.0</td>\n",
       "      <td>0</td>\n",
       "    </tr>\n",
       "    <tr>\n",
       "      <th>2283</th>\n",
       "      <td>2015-03-30</td>\n",
       "      <td>NaN</td>\n",
       "      <td>NaN</td>\n",
       "      <td>0.0</td>\n",
       "      <td>0</td>\n",
       "    </tr>\n",
       "    <tr>\n",
       "      <th>2333</th>\n",
       "      <td>2015-02-08</td>\n",
       "      <td>NaN</td>\n",
       "      <td>NaN</td>\n",
       "      <td>3.0</td>\n",
       "      <td>0</td>\n",
       "    </tr>\n",
       "    <tr>\n",
       "      <th>2349</th>\n",
       "      <td>2015-01-23</td>\n",
       "      <td>NaN</td>\n",
       "      <td>NaN</td>\n",
       "      <td>NaN</td>\n",
       "      <td>0</td>\n",
       "    </tr>\n",
       "    <tr>\n",
       "      <th>2361</th>\n",
       "      <td>2015-01-11</td>\n",
       "      <td>NaN</td>\n",
       "      <td>NaN</td>\n",
       "      <td>0.4</td>\n",
       "      <td>0</td>\n",
       "    </tr>\n",
       "    <tr>\n",
       "      <th>2798</th>\n",
       "      <td>2013-10-31</td>\n",
       "      <td>NaN</td>\n",
       "      <td>NaN</td>\n",
       "      <td>NaN</td>\n",
       "      <td>0</td>\n",
       "    </tr>\n",
       "    <tr>\n",
       "      <th>2810</th>\n",
       "      <td>2013-10-19</td>\n",
       "      <td>NaN</td>\n",
       "      <td>NaN</td>\n",
       "      <td>NaN</td>\n",
       "      <td>0</td>\n",
       "    </tr>\n",
       "    <tr>\n",
       "      <th>2816</th>\n",
       "      <td>2013-10-13</td>\n",
       "      <td>NaN</td>\n",
       "      <td>NaN</td>\n",
       "      <td>NaN</td>\n",
       "      <td>0</td>\n",
       "    </tr>\n",
       "    <tr>\n",
       "      <th>2825</th>\n",
       "      <td>2013-10-04</td>\n",
       "      <td>NaN</td>\n",
       "      <td>NaN</td>\n",
       "      <td>0.0</td>\n",
       "      <td>0</td>\n",
       "    </tr>\n",
       "    <tr>\n",
       "      <th>2846</th>\n",
       "      <td>2013-09-13</td>\n",
       "      <td>NaN</td>\n",
       "      <td>NaN</td>\n",
       "      <td>NaN</td>\n",
       "      <td>0</td>\n",
       "    </tr>\n",
       "    <tr>\n",
       "      <th>2894</th>\n",
       "      <td>2013-07-27</td>\n",
       "      <td>NaN</td>\n",
       "      <td>NaN</td>\n",
       "      <td>NaN</td>\n",
       "      <td>0</td>\n",
       "    </tr>\n",
       "    <tr>\n",
       "      <th>2911</th>\n",
       "      <td>2013-07-10</td>\n",
       "      <td>NaN</td>\n",
       "      <td>NaN</td>\n",
       "      <td>NaN</td>\n",
       "      <td>0</td>\n",
       "    </tr>\n",
       "    <tr>\n",
       "      <th>2916</th>\n",
       "      <td>2013-07-05</td>\n",
       "      <td>NaN</td>\n",
       "      <td>NaN</td>\n",
       "      <td>NaN</td>\n",
       "      <td>0</td>\n",
       "    </tr>\n",
       "  </tbody>\n",
       "</table>\n",
       "</div>"
      ],
      "text/plain": [
       "            date  precipitation  rain  snow  wet_today\n",
       "131   2021-02-18            NaN   NaN   NaN          0\n",
       "132   2021-02-17            NaN   NaN   NaN          0\n",
       "1089  2018-07-06            NaN   NaN   NaN          0\n",
       "1575  2017-03-07            NaN   NaN   NaN          0\n",
       "1954  2016-02-22            NaN   NaN   0.0          0\n",
       "1957  2016-02-19            NaN   NaN   0.0          0\n",
       "2136  2015-08-24            NaN   NaN   NaN          0\n",
       "2140  2015-08-20            NaN   NaN   NaN          0\n",
       "2154  2015-08-06            NaN   NaN   0.0          0\n",
       "2283  2015-03-30            NaN   NaN   0.0          0\n",
       "2333  2015-02-08            NaN   NaN   3.0          0\n",
       "2349  2015-01-23            NaN   NaN   NaN          0\n",
       "2361  2015-01-11            NaN   NaN   0.4          0\n",
       "2798  2013-10-31            NaN   NaN   NaN          0\n",
       "2810  2013-10-19            NaN   NaN   NaN          0\n",
       "2816  2013-10-13            NaN   NaN   NaN          0\n",
       "2825  2013-10-04            NaN   NaN   0.0          0\n",
       "2846  2013-09-13            NaN   NaN   NaN          0\n",
       "2894  2013-07-27            NaN   NaN   NaN          0\n",
       "2911  2013-07-10            NaN   NaN   NaN          0\n",
       "2916  2013-07-05            NaN   NaN   NaN          0"
      ]
     },
     "execution_count": 19,
     "metadata": {},
     "output_type": "execute_result"
    }
   ],
   "source": [
    "#since there are only a few missing values from the precipitation column, \n",
    "#check where they exist and if they can be calculated \n",
    "precip_missing.loc[precip_missing.precipitation.isna()]"
   ]
  },
  {
   "cell_type": "code",
   "execution_count": 20,
   "metadata": {
    "executionInfo": {
     "elapsed": 23,
     "status": "ok",
     "timestamp": 1627593494320,
     "user": {
      "displayName": "RUOCHEN WANG",
      "photoUrl": "",
      "userId": "03367450102115681037"
     },
     "user_tz": 240
    },
    "id": "VD3cQC093qom"
   },
   "outputs": [],
   "source": [
    "def precip_fill_na(dataset): \n",
    "    '''Imputes missing values in the precipitation column of a weather dataset by using the the relationship \n",
    "    between precipitation, rain and snow. Mainly that precipitation = rain + snow. If snow, rain and precipitation\n",
    "    all have missing values, set the value of that row to 0.\n",
    "    '''\n",
    "    new_col = []\n",
    "    # iterate through every row \n",
    "    for i in range(len(dataset)):\n",
    "        row = dataset.iloc[i]\n",
    "        #if a missing value is found in the precipitation column, try to impute it \n",
    "        if np.isnan(row.precipitation):\n",
    "            if np.isnan(row.rain):\n",
    "                val = row['snow']\n",
    "                new_col.append(val)\n",
    "            elif np.isnan(row.snow):\n",
    "                val = row['rain']\n",
    "                new_col.append(val)\n",
    "            elif (np.isnan(row.rain) and np.isnan(row.snow)):\n",
    "                val = 0\n",
    "                new_col.append(val)\n",
    "            else:\n",
    "                val = row['rain'] + row['snow']\n",
    "                new_col.append(val)\n",
    "        #if no missing value is found return the same value for that row \n",
    "        else:\n",
    "            new_col.append(row.precipitation)\n",
    "    #place the new calculated rows into the precipitation column \n",
    "    dataset[['precipitation']] = new_col\n",
    "    return dataset"
   ]
  },
  {
   "cell_type": "markdown",
   "metadata": {},
   "source": [
    "We can test the new precipatation variable filling function on a subset of the column in the dataset to ensure that (i) the function works correctly and (ii) how many of the rows in the dataset have been filled by the function. "
   ]
  },
  {
   "cell_type": "code",
   "execution_count": 21,
   "metadata": {
    "colab": {
     "base_uri": "https://localhost:8080/",
     "height": 670
    },
    "executionInfo": {
     "elapsed": 1586,
     "status": "ok",
     "timestamp": 1627593495885,
     "user": {
      "displayName": "RUOCHEN WANG",
      "photoUrl": "",
      "userId": "03367450102115681037"
     },
     "user_tz": 240
    },
    "id": "N78vDTFh3qom",
    "outputId": "7bc496cf-5020-4c6f-88af-5c7e312f1269"
   },
   "outputs": [
    {
     "name": "stderr",
     "output_type": "stream",
     "text": [
      "<ipython-input-20-537b5968d9f9>:28: SettingWithCopyWarning: \n",
      "A value is trying to be set on a copy of a slice from a DataFrame.\n",
      "Try using .loc[row_indexer,col_indexer] = value instead\n",
      "\n",
      "See the caveats in the documentation: https://pandas.pydata.org/pandas-docs/stable/user_guide/indexing.html#returning-a-view-versus-a-copy\n",
      "  dataset[['precipitation']] = new_col\n",
      "C:\\Users\\Dwight\\anaconda3\\lib\\site-packages\\pandas\\core\\indexing.py:1745: SettingWithCopyWarning: \n",
      "A value is trying to be set on a copy of a slice from a DataFrame.\n",
      "Try using .loc[row_indexer,col_indexer] = value instead\n",
      "\n",
      "See the caveats in the documentation: https://pandas.pydata.org/pandas-docs/stable/user_guide/indexing.html#returning-a-view-versus-a-copy\n",
      "  isetter(ilocs[0], value)\n"
     ]
    },
    {
     "data": {
      "text/html": [
       "<div>\n",
       "<style scoped>\n",
       "    .dataframe tbody tr th:only-of-type {\n",
       "        vertical-align: middle;\n",
       "    }\n",
       "\n",
       "    .dataframe tbody tr th {\n",
       "        vertical-align: top;\n",
       "    }\n",
       "\n",
       "    .dataframe thead th {\n",
       "        text-align: right;\n",
       "    }\n",
       "</style>\n",
       "<table border=\"1\" class=\"dataframe\">\n",
       "  <thead>\n",
       "    <tr style=\"text-align: right;\">\n",
       "      <th></th>\n",
       "      <th>date</th>\n",
       "      <th>precipitation</th>\n",
       "      <th>rain</th>\n",
       "      <th>snow</th>\n",
       "      <th>wet_today</th>\n",
       "    </tr>\n",
       "  </thead>\n",
       "  <tbody>\n",
       "    <tr>\n",
       "      <th>131</th>\n",
       "      <td>2021-02-18</td>\n",
       "      <td>NaN</td>\n",
       "      <td>NaN</td>\n",
       "      <td>NaN</td>\n",
       "      <td>0</td>\n",
       "    </tr>\n",
       "    <tr>\n",
       "      <th>132</th>\n",
       "      <td>2021-02-17</td>\n",
       "      <td>NaN</td>\n",
       "      <td>NaN</td>\n",
       "      <td>NaN</td>\n",
       "      <td>0</td>\n",
       "    </tr>\n",
       "    <tr>\n",
       "      <th>1089</th>\n",
       "      <td>2018-07-06</td>\n",
       "      <td>NaN</td>\n",
       "      <td>NaN</td>\n",
       "      <td>NaN</td>\n",
       "      <td>0</td>\n",
       "    </tr>\n",
       "    <tr>\n",
       "      <th>1575</th>\n",
       "      <td>2017-03-07</td>\n",
       "      <td>NaN</td>\n",
       "      <td>NaN</td>\n",
       "      <td>NaN</td>\n",
       "      <td>0</td>\n",
       "    </tr>\n",
       "    <tr>\n",
       "      <th>2136</th>\n",
       "      <td>2015-08-24</td>\n",
       "      <td>NaN</td>\n",
       "      <td>NaN</td>\n",
       "      <td>NaN</td>\n",
       "      <td>0</td>\n",
       "    </tr>\n",
       "    <tr>\n",
       "      <th>2140</th>\n",
       "      <td>2015-08-20</td>\n",
       "      <td>NaN</td>\n",
       "      <td>NaN</td>\n",
       "      <td>NaN</td>\n",
       "      <td>0</td>\n",
       "    </tr>\n",
       "    <tr>\n",
       "      <th>2349</th>\n",
       "      <td>2015-01-23</td>\n",
       "      <td>NaN</td>\n",
       "      <td>NaN</td>\n",
       "      <td>NaN</td>\n",
       "      <td>0</td>\n",
       "    </tr>\n",
       "    <tr>\n",
       "      <th>2798</th>\n",
       "      <td>2013-10-31</td>\n",
       "      <td>NaN</td>\n",
       "      <td>NaN</td>\n",
       "      <td>NaN</td>\n",
       "      <td>0</td>\n",
       "    </tr>\n",
       "    <tr>\n",
       "      <th>2810</th>\n",
       "      <td>2013-10-19</td>\n",
       "      <td>NaN</td>\n",
       "      <td>NaN</td>\n",
       "      <td>NaN</td>\n",
       "      <td>0</td>\n",
       "    </tr>\n",
       "    <tr>\n",
       "      <th>2816</th>\n",
       "      <td>2013-10-13</td>\n",
       "      <td>NaN</td>\n",
       "      <td>NaN</td>\n",
       "      <td>NaN</td>\n",
       "      <td>0</td>\n",
       "    </tr>\n",
       "    <tr>\n",
       "      <th>2846</th>\n",
       "      <td>2013-09-13</td>\n",
       "      <td>NaN</td>\n",
       "      <td>NaN</td>\n",
       "      <td>NaN</td>\n",
       "      <td>0</td>\n",
       "    </tr>\n",
       "    <tr>\n",
       "      <th>2894</th>\n",
       "      <td>2013-07-27</td>\n",
       "      <td>NaN</td>\n",
       "      <td>NaN</td>\n",
       "      <td>NaN</td>\n",
       "      <td>0</td>\n",
       "    </tr>\n",
       "    <tr>\n",
       "      <th>2911</th>\n",
       "      <td>2013-07-10</td>\n",
       "      <td>NaN</td>\n",
       "      <td>NaN</td>\n",
       "      <td>NaN</td>\n",
       "      <td>0</td>\n",
       "    </tr>\n",
       "    <tr>\n",
       "      <th>2916</th>\n",
       "      <td>2013-07-05</td>\n",
       "      <td>NaN</td>\n",
       "      <td>NaN</td>\n",
       "      <td>NaN</td>\n",
       "      <td>0</td>\n",
       "    </tr>\n",
       "  </tbody>\n",
       "</table>\n",
       "</div>"
      ],
      "text/plain": [
       "            date  precipitation  rain  snow  wet_today\n",
       "131   2021-02-18            NaN   NaN   NaN          0\n",
       "132   2021-02-17            NaN   NaN   NaN          0\n",
       "1089  2018-07-06            NaN   NaN   NaN          0\n",
       "1575  2017-03-07            NaN   NaN   NaN          0\n",
       "2136  2015-08-24            NaN   NaN   NaN          0\n",
       "2140  2015-08-20            NaN   NaN   NaN          0\n",
       "2349  2015-01-23            NaN   NaN   NaN          0\n",
       "2798  2013-10-31            NaN   NaN   NaN          0\n",
       "2810  2013-10-19            NaN   NaN   NaN          0\n",
       "2816  2013-10-13            NaN   NaN   NaN          0\n",
       "2846  2013-09-13            NaN   NaN   NaN          0\n",
       "2894  2013-07-27            NaN   NaN   NaN          0\n",
       "2911  2013-07-10            NaN   NaN   NaN          0\n",
       "2916  2013-07-05            NaN   NaN   NaN          0"
      ]
     },
     "execution_count": 21,
     "metadata": {},
     "output_type": "execute_result"
    }
   ],
   "source": [
    "# check if imputation of missing values work on a small subset of the data\n",
    "precip_new = precip_fill_na(precip_missing)\n",
    "precip_new.loc[precip_new.precipitation.isna()]"
   ]
  },
  {
   "cell_type": "markdown",
   "metadata": {},
   "source": [
    "Now that we see that the function works correctly, we can apply the `precip_fill_na()` function to the entire dataset to help us in the data cleaning process. "
   ]
  },
  {
   "cell_type": "code",
   "execution_count": 22,
   "metadata": {
    "colab": {
     "base_uri": "https://localhost:8080/"
    },
    "executionInfo": {
     "elapsed": 2131,
     "status": "ok",
     "timestamp": 1627593498008,
     "user": {
      "displayName": "RUOCHEN WANG",
      "photoUrl": "",
      "userId": "03367450102115681037"
     },
     "user_tz": 240
    },
    "id": "hgfByuwb3qon",
    "outputId": "b2be273c-1577-4ba2-a1ef-6ea46fe230c2"
   },
   "outputs": [
    {
     "data": {
      "text/plain": [
       "(6930, 39)"
      ]
     },
     "execution_count": 22,
     "metadata": {},
     "output_type": "execute_result"
    }
   ],
   "source": [
    "# impute missing values in the dataset \n",
    "data_reduced = precip_fill_na(data_reduced)\n",
    "# drop the rain and snow columns \n",
    "data_reduced.drop(columns=['rain', 'snow'], inplace=True)\n",
    "#drop rows with missing values\n",
    "data_reduced.dropna(inplace=True)\n",
    "data_reduced.shape"
   ]
  },
  {
   "cell_type": "code",
   "execution_count": 23,
   "metadata": {
    "colab": {
     "base_uri": "https://localhost:8080/"
    },
    "executionInfo": {
     "elapsed": 18,
     "status": "ok",
     "timestamp": 1627593498008,
     "user": {
      "displayName": "RUOCHEN WANG",
      "photoUrl": "",
      "userId": "03367450102115681037"
     },
     "user_tz": 240
    },
    "id": "5WgTOSUZ3qon",
    "outputId": "cef8b9e4-c350-4c25-d49f-4453750ab5d4"
   },
   "outputs": [
    {
     "name": "stdout",
     "output_type": "stream",
     "text": [
      "\n",
      "0 columns have missing values\n"
     ]
    },
    {
     "data": {
      "text/plain": [
       "<zip at 0x1a306bc73c0>"
      ]
     },
     "execution_count": 23,
     "metadata": {},
     "output_type": "execute_result"
    }
   ],
   "source": [
    "find_missing_vals(data_reduced)"
   ]
  },
  {
   "cell_type": "markdown",
   "metadata": {
    "id": "MzeWiM8I3qoo"
   },
   "source": [
    "All missing values have been removed resulting in a dataset of 39 columns and 6930 rows. "
   ]
  },
  {
   "cell_type": "markdown",
   "metadata": {
    "id": "g-40HzNy3qoo"
   },
   "source": [
    "<br></br>\n",
    "<br></br>\n",
    "<br></br>\n",
    "<br></br>\n",
    "### Range of Values "
   ]
  },
  {
   "cell_type": "code",
   "execution_count": 24,
   "metadata": {
    "colab": {
     "base_uri": "https://localhost:8080/",
     "height": 0
    },
    "executionInfo": {
     "elapsed": 147,
     "status": "ok",
     "timestamp": 1627593498149,
     "user": {
      "displayName": "RUOCHEN WANG",
      "photoUrl": "",
      "userId": "03367450102115681037"
     },
     "user_tz": 240
    },
    "id": "NdwUV-1F3qoo",
    "outputId": "e5470e2f-b29b-409f-f2e9-32719828ac40",
    "scrolled": true
   },
   "outputs": [
    {
     "data": {
      "text/html": [
       "<div>\n",
       "<style scoped>\n",
       "    .dataframe tbody tr th:only-of-type {\n",
       "        vertical-align: middle;\n",
       "    }\n",
       "\n",
       "    .dataframe tbody tr th {\n",
       "        vertical-align: top;\n",
       "    }\n",
       "\n",
       "    .dataframe thead th {\n",
       "        text-align: right;\n",
       "    }\n",
       "</style>\n",
       "<table border=\"1\" class=\"dataframe\">\n",
       "  <thead>\n",
       "    <tr style=\"text-align: right;\">\n",
       "      <th></th>\n",
       "      <th>max_temperature</th>\n",
       "      <th>avg_hourly_temperature</th>\n",
       "      <th>avg_temperature</th>\n",
       "      <th>min_temperature</th>\n",
       "      <th>max_relative_humidity</th>\n",
       "      <th>avg_hourly_relative_humidity</th>\n",
       "      <th>avg_relative_humidity</th>\n",
       "      <th>min_relative_humidity</th>\n",
       "      <th>max_dew_point</th>\n",
       "      <th>avg_hourly_dew_point</th>\n",
       "      <th>...</th>\n",
       "      <th>avg_visibility</th>\n",
       "      <th>min_visibility</th>\n",
       "      <th>heatdegdays</th>\n",
       "      <th>cooldegdays</th>\n",
       "      <th>growdegdays_5</th>\n",
       "      <th>growdegdays_7</th>\n",
       "      <th>growdegdays_10</th>\n",
       "      <th>precipitation</th>\n",
       "      <th>wet_today</th>\n",
       "      <th>wet_tomorrow</th>\n",
       "    </tr>\n",
       "  </thead>\n",
       "  <tbody>\n",
       "    <tr>\n",
       "      <th>count</th>\n",
       "      <td>6930.00</td>\n",
       "      <td>6930.00</td>\n",
       "      <td>6930.00</td>\n",
       "      <td>6930.00</td>\n",
       "      <td>6930.00</td>\n",
       "      <td>6930.00</td>\n",
       "      <td>6930.00</td>\n",
       "      <td>6930.00</td>\n",
       "      <td>6930.00</td>\n",
       "      <td>6930.00</td>\n",
       "      <td>...</td>\n",
       "      <td>6930.00</td>\n",
       "      <td>6930.00</td>\n",
       "      <td>6930.00</td>\n",
       "      <td>6930.00</td>\n",
       "      <td>6930.00</td>\n",
       "      <td>6930.00</td>\n",
       "      <td>6930.00</td>\n",
       "      <td>6930.00</td>\n",
       "      <td>6930.00</td>\n",
       "      <td>6930.00</td>\n",
       "    </tr>\n",
       "    <tr>\n",
       "      <th>mean</th>\n",
       "      <td>12.87</td>\n",
       "      <td>8.36</td>\n",
       "      <td>8.24</td>\n",
       "      <td>3.60</td>\n",
       "      <td>85.33</td>\n",
       "      <td>69.22</td>\n",
       "      <td>68.92</td>\n",
       "      <td>52.51</td>\n",
       "      <td>5.99</td>\n",
       "      <td>2.59</td>\n",
       "      <td>...</td>\n",
       "      <td>19940.41</td>\n",
       "      <td>14233.35</td>\n",
       "      <td>10.79</td>\n",
       "      <td>1.02</td>\n",
       "      <td>6.33</td>\n",
       "      <td>5.21</td>\n",
       "      <td>3.76</td>\n",
       "      <td>2.57</td>\n",
       "      <td>0.31</td>\n",
       "      <td>0.26</td>\n",
       "    </tr>\n",
       "    <tr>\n",
       "      <th>std</th>\n",
       "      <td>11.62</td>\n",
       "      <td>10.73</td>\n",
       "      <td>10.79</td>\n",
       "      <td>10.23</td>\n",
       "      <td>9.92</td>\n",
       "      <td>11.84</td>\n",
       "      <td>10.80</td>\n",
       "      <td>14.20</td>\n",
       "      <td>9.94</td>\n",
       "      <td>10.18</td>\n",
       "      <td>...</td>\n",
       "      <td>5461.44</td>\n",
       "      <td>8920.90</td>\n",
       "      <td>9.45</td>\n",
       "      <td>2.27</td>\n",
       "      <td>7.22</td>\n",
       "      <td>6.48</td>\n",
       "      <td>5.31</td>\n",
       "      <td>6.02</td>\n",
       "      <td>0.46</td>\n",
       "      <td>0.44</td>\n",
       "    </tr>\n",
       "    <tr>\n",
       "      <th>min</th>\n",
       "      <td>-19.10</td>\n",
       "      <td>-21.95</td>\n",
       "      <td>-22.30</td>\n",
       "      <td>-26.30</td>\n",
       "      <td>38.00</td>\n",
       "      <td>27.70</td>\n",
       "      <td>29.50</td>\n",
       "      <td>14.00</td>\n",
       "      <td>-24.80</td>\n",
       "      <td>-28.10</td>\n",
       "      <td>...</td>\n",
       "      <td>3000.00</td>\n",
       "      <td>0.00</td>\n",
       "      <td>0.00</td>\n",
       "      <td>0.00</td>\n",
       "      <td>0.00</td>\n",
       "      <td>0.00</td>\n",
       "      <td>0.00</td>\n",
       "      <td>0.00</td>\n",
       "      <td>0.00</td>\n",
       "      <td>0.00</td>\n",
       "    </tr>\n",
       "    <tr>\n",
       "      <th>25%</th>\n",
       "      <td>3.23</td>\n",
       "      <td>0.13</td>\n",
       "      <td>-0.03</td>\n",
       "      <td>-3.60</td>\n",
       "      <td>79.00</td>\n",
       "      <td>61.60</td>\n",
       "      <td>62.00</td>\n",
       "      <td>42.00</td>\n",
       "      <td>-1.50</td>\n",
       "      <td>-4.97</td>\n",
       "      <td>...</td>\n",
       "      <td>15250.00</td>\n",
       "      <td>4800.00</td>\n",
       "      <td>0.40</td>\n",
       "      <td>0.00</td>\n",
       "      <td>0.00</td>\n",
       "      <td>0.00</td>\n",
       "      <td>0.00</td>\n",
       "      <td>0.00</td>\n",
       "      <td>0.00</td>\n",
       "      <td>0.00</td>\n",
       "    </tr>\n",
       "    <tr>\n",
       "      <th>50%</th>\n",
       "      <td>12.70</td>\n",
       "      <td>8.01</td>\n",
       "      <td>7.94</td>\n",
       "      <td>3.30</td>\n",
       "      <td>87.00</td>\n",
       "      <td>69.50</td>\n",
       "      <td>69.00</td>\n",
       "      <td>52.00</td>\n",
       "      <td>5.90</td>\n",
       "      <td>2.30</td>\n",
       "      <td>...</td>\n",
       "      <td>20100.00</td>\n",
       "      <td>16100.00</td>\n",
       "      <td>10.10</td>\n",
       "      <td>0.00</td>\n",
       "      <td>2.90</td>\n",
       "      <td>0.90</td>\n",
       "      <td>0.00</td>\n",
       "      <td>0.00</td>\n",
       "      <td>0.00</td>\n",
       "      <td>0.00</td>\n",
       "    </tr>\n",
       "    <tr>\n",
       "      <th>75%</th>\n",
       "      <td>23.10</td>\n",
       "      <td>17.89</td>\n",
       "      <td>17.60</td>\n",
       "      <td>12.38</td>\n",
       "      <td>93.00</td>\n",
       "      <td>77.20</td>\n",
       "      <td>76.50</td>\n",
       "      <td>62.00</td>\n",
       "      <td>14.40</td>\n",
       "      <td>11.10</td>\n",
       "      <td>...</td>\n",
       "      <td>24100.00</td>\n",
       "      <td>24100.00</td>\n",
       "      <td>18.00</td>\n",
       "      <td>0.00</td>\n",
       "      <td>12.60</td>\n",
       "      <td>10.60</td>\n",
       "      <td>7.60</td>\n",
       "      <td>2.00</td>\n",
       "      <td>1.00</td>\n",
       "      <td>1.00</td>\n",
       "    </tr>\n",
       "    <tr>\n",
       "      <th>max</th>\n",
       "      <td>37.90</td>\n",
       "      <td>31.70</td>\n",
       "      <td>31.95</td>\n",
       "      <td>26.30</td>\n",
       "      <td>100.00</td>\n",
       "      <td>99.00</td>\n",
       "      <td>98.50</td>\n",
       "      <td>97.00</td>\n",
       "      <td>26.60</td>\n",
       "      <td>24.40</td>\n",
       "      <td>...</td>\n",
       "      <td>52300.00</td>\n",
       "      <td>25000.00</td>\n",
       "      <td>40.30</td>\n",
       "      <td>13.90</td>\n",
       "      <td>26.90</td>\n",
       "      <td>24.90</td>\n",
       "      <td>21.90</td>\n",
       "      <td>126.00</td>\n",
       "      <td>1.00</td>\n",
       "      <td>1.00</td>\n",
       "    </tr>\n",
       "  </tbody>\n",
       "</table>\n",
       "<p>8 rows × 38 columns</p>\n",
       "</div>"
      ],
      "text/plain": [
       "       max_temperature  avg_hourly_temperature  avg_temperature  \\\n",
       "count          6930.00                 6930.00          6930.00   \n",
       "mean             12.87                    8.36             8.24   \n",
       "std              11.62                   10.73            10.79   \n",
       "min             -19.10                  -21.95           -22.30   \n",
       "25%               3.23                    0.13            -0.03   \n",
       "50%              12.70                    8.01             7.94   \n",
       "75%              23.10                   17.89            17.60   \n",
       "max              37.90                   31.70            31.95   \n",
       "\n",
       "       min_temperature  max_relative_humidity  avg_hourly_relative_humidity  \\\n",
       "count          6930.00                6930.00                       6930.00   \n",
       "mean              3.60                  85.33                         69.22   \n",
       "std              10.23                   9.92                         11.84   \n",
       "min             -26.30                  38.00                         27.70   \n",
       "25%              -3.60                  79.00                         61.60   \n",
       "50%               3.30                  87.00                         69.50   \n",
       "75%              12.38                  93.00                         77.20   \n",
       "max              26.30                 100.00                         99.00   \n",
       "\n",
       "       avg_relative_humidity  min_relative_humidity  max_dew_point  \\\n",
       "count                6930.00                6930.00        6930.00   \n",
       "mean                   68.92                  52.51           5.99   \n",
       "std                    10.80                  14.20           9.94   \n",
       "min                    29.50                  14.00         -24.80   \n",
       "25%                    62.00                  42.00          -1.50   \n",
       "50%                    69.00                  52.00           5.90   \n",
       "75%                    76.50                  62.00          14.40   \n",
       "max                    98.50                  97.00          26.60   \n",
       "\n",
       "       avg_hourly_dew_point  ...  avg_visibility  min_visibility  heatdegdays  \\\n",
       "count               6930.00  ...         6930.00         6930.00      6930.00   \n",
       "mean                   2.59  ...        19940.41        14233.35        10.79   \n",
       "std                   10.18  ...         5461.44         8920.90         9.45   \n",
       "min                  -28.10  ...         3000.00            0.00         0.00   \n",
       "25%                   -4.97  ...        15250.00         4800.00         0.40   \n",
       "50%                    2.30  ...        20100.00        16100.00        10.10   \n",
       "75%                   11.10  ...        24100.00        24100.00        18.00   \n",
       "max                   24.40  ...        52300.00        25000.00        40.30   \n",
       "\n",
       "       cooldegdays  growdegdays_5  growdegdays_7  growdegdays_10  \\\n",
       "count      6930.00        6930.00        6930.00         6930.00   \n",
       "mean          1.02           6.33           5.21            3.76   \n",
       "std           2.27           7.22           6.48            5.31   \n",
       "min           0.00           0.00           0.00            0.00   \n",
       "25%           0.00           0.00           0.00            0.00   \n",
       "50%           0.00           2.90           0.90            0.00   \n",
       "75%           0.00          12.60          10.60            7.60   \n",
       "max          13.90          26.90          24.90           21.90   \n",
       "\n",
       "       precipitation  wet_today  wet_tomorrow  \n",
       "count        6930.00    6930.00       6930.00  \n",
       "mean            2.57       0.31          0.26  \n",
       "std             6.02       0.46          0.44  \n",
       "min             0.00       0.00          0.00  \n",
       "25%             0.00       0.00          0.00  \n",
       "50%             0.00       0.00          0.00  \n",
       "75%             2.00       1.00          1.00  \n",
       "max           126.00       1.00          1.00  \n",
       "\n",
       "[8 rows x 38 columns]"
      ]
     },
     "execution_count": 24,
     "metadata": {},
     "output_type": "execute_result"
    }
   ],
   "source": [
    "# suppress scientific notation\n",
    "pd.options.display.float_format = '{:.2f}'.format\n",
    "data_reduced.describe()"
   ]
  },
  {
   "cell_type": "markdown",
   "metadata": {
    "id": "BhHJX7kW3qop"
   },
   "source": [
    "Note that we cannot see all the values for each column so we must split the data up into chunks so we can view the distribution data of each column."
   ]
  },
  {
   "cell_type": "code",
   "execution_count": 25,
   "metadata": {
    "colab": {
     "base_uri": "https://localhost:8080/",
     "height": 0
    },
    "executionInfo": {
     "elapsed": 148,
     "status": "ok",
     "timestamp": 1627593498288,
     "user": {
      "displayName": "RUOCHEN WANG",
      "photoUrl": "",
      "userId": "03367450102115681037"
     },
     "user_tz": 240
    },
    "id": "uuBtTlUR3qop",
    "outputId": "fa77d0c0-f3e9-4d94-8457-524687b4a16c"
   },
   "outputs": [
    {
     "data": {
      "text/html": [
       "<div>\n",
       "<style scoped>\n",
       "    .dataframe tbody tr th:only-of-type {\n",
       "        vertical-align: middle;\n",
       "    }\n",
       "\n",
       "    .dataframe tbody tr th {\n",
       "        vertical-align: top;\n",
       "    }\n",
       "\n",
       "    .dataframe thead th {\n",
       "        text-align: right;\n",
       "    }\n",
       "</style>\n",
       "<table border=\"1\" class=\"dataframe\">\n",
       "  <thead>\n",
       "    <tr style=\"text-align: right;\">\n",
       "      <th></th>\n",
       "      <th>max_temperature</th>\n",
       "      <th>avg_hourly_temperature</th>\n",
       "      <th>avg_temperature</th>\n",
       "      <th>min_temperature</th>\n",
       "      <th>max_relative_humidity</th>\n",
       "      <th>avg_hourly_relative_humidity</th>\n",
       "      <th>avg_relative_humidity</th>\n",
       "      <th>min_relative_humidity</th>\n",
       "    </tr>\n",
       "  </thead>\n",
       "  <tbody>\n",
       "    <tr>\n",
       "      <th>count</th>\n",
       "      <td>6930.00</td>\n",
       "      <td>6930.00</td>\n",
       "      <td>6930.00</td>\n",
       "      <td>6930.00</td>\n",
       "      <td>6930.00</td>\n",
       "      <td>6930.00</td>\n",
       "      <td>6930.00</td>\n",
       "      <td>6930.00</td>\n",
       "    </tr>\n",
       "    <tr>\n",
       "      <th>mean</th>\n",
       "      <td>12.87</td>\n",
       "      <td>8.36</td>\n",
       "      <td>8.24</td>\n",
       "      <td>3.60</td>\n",
       "      <td>85.33</td>\n",
       "      <td>69.22</td>\n",
       "      <td>68.92</td>\n",
       "      <td>52.51</td>\n",
       "    </tr>\n",
       "    <tr>\n",
       "      <th>std</th>\n",
       "      <td>11.62</td>\n",
       "      <td>10.73</td>\n",
       "      <td>10.79</td>\n",
       "      <td>10.23</td>\n",
       "      <td>9.92</td>\n",
       "      <td>11.84</td>\n",
       "      <td>10.80</td>\n",
       "      <td>14.20</td>\n",
       "    </tr>\n",
       "    <tr>\n",
       "      <th>min</th>\n",
       "      <td>-19.10</td>\n",
       "      <td>-21.95</td>\n",
       "      <td>-22.30</td>\n",
       "      <td>-26.30</td>\n",
       "      <td>38.00</td>\n",
       "      <td>27.70</td>\n",
       "      <td>29.50</td>\n",
       "      <td>14.00</td>\n",
       "    </tr>\n",
       "    <tr>\n",
       "      <th>25%</th>\n",
       "      <td>3.23</td>\n",
       "      <td>0.13</td>\n",
       "      <td>-0.03</td>\n",
       "      <td>-3.60</td>\n",
       "      <td>79.00</td>\n",
       "      <td>61.60</td>\n",
       "      <td>62.00</td>\n",
       "      <td>42.00</td>\n",
       "    </tr>\n",
       "    <tr>\n",
       "      <th>50%</th>\n",
       "      <td>12.70</td>\n",
       "      <td>8.01</td>\n",
       "      <td>7.94</td>\n",
       "      <td>3.30</td>\n",
       "      <td>87.00</td>\n",
       "      <td>69.50</td>\n",
       "      <td>69.00</td>\n",
       "      <td>52.00</td>\n",
       "    </tr>\n",
       "    <tr>\n",
       "      <th>75%</th>\n",
       "      <td>23.10</td>\n",
       "      <td>17.89</td>\n",
       "      <td>17.60</td>\n",
       "      <td>12.38</td>\n",
       "      <td>93.00</td>\n",
       "      <td>77.20</td>\n",
       "      <td>76.50</td>\n",
       "      <td>62.00</td>\n",
       "    </tr>\n",
       "    <tr>\n",
       "      <th>max</th>\n",
       "      <td>37.90</td>\n",
       "      <td>31.70</td>\n",
       "      <td>31.95</td>\n",
       "      <td>26.30</td>\n",
       "      <td>100.00</td>\n",
       "      <td>99.00</td>\n",
       "      <td>98.50</td>\n",
       "      <td>97.00</td>\n",
       "    </tr>\n",
       "  </tbody>\n",
       "</table>\n",
       "</div>"
      ],
      "text/plain": [
       "       max_temperature  avg_hourly_temperature  avg_temperature  \\\n",
       "count          6930.00                 6930.00          6930.00   \n",
       "mean             12.87                    8.36             8.24   \n",
       "std              11.62                   10.73            10.79   \n",
       "min             -19.10                  -21.95           -22.30   \n",
       "25%               3.23                    0.13            -0.03   \n",
       "50%              12.70                    8.01             7.94   \n",
       "75%              23.10                   17.89            17.60   \n",
       "max              37.90                   31.70            31.95   \n",
       "\n",
       "       min_temperature  max_relative_humidity  avg_hourly_relative_humidity  \\\n",
       "count          6930.00                6930.00                       6930.00   \n",
       "mean              3.60                  85.33                         69.22   \n",
       "std              10.23                   9.92                         11.84   \n",
       "min             -26.30                  38.00                         27.70   \n",
       "25%              -3.60                  79.00                         61.60   \n",
       "50%               3.30                  87.00                         69.50   \n",
       "75%              12.38                  93.00                         77.20   \n",
       "max              26.30                 100.00                         99.00   \n",
       "\n",
       "       avg_relative_humidity  min_relative_humidity  \n",
       "count                6930.00                6930.00  \n",
       "mean                   68.92                  52.51  \n",
       "std                    10.80                  14.20  \n",
       "min                    29.50                  14.00  \n",
       "25%                    62.00                  42.00  \n",
       "50%                    69.00                  52.00  \n",
       "75%                    76.50                  62.00  \n",
       "max                    98.50                  97.00  "
      ]
     },
     "execution_count": 25,
     "metadata": {},
     "output_type": "execute_result"
    }
   ],
   "source": [
    "#analyzing temperature and humidity \n",
    "cols = data_reduced.columns[:9]\n",
    "data_reduced[cols].describe()"
   ]
  },
  {
   "cell_type": "markdown",
   "metadata": {
    "id": "KoGEQyNn3qop"
   },
   "source": [
    "Based on hostorical temperature data from CurrentResults.com we know that the lowest temperature ever recorded in Toronto is -33 degrees Celsius and the highest temperature ever recorded was 41 degrees Celsius. Therefore we can conclude that the columns representing temperature have valid data. Moreover, we know that humidity is represented by a percentage, thus since we have values between 27 and 100 percent, we can infer that the values are valid . "
   ]
  },
  {
   "cell_type": "code",
   "execution_count": 26,
   "metadata": {
    "colab": {
     "base_uri": "https://localhost:8080/",
     "height": 0
    },
    "executionInfo": {
     "elapsed": 23,
     "status": "ok",
     "timestamp": 1627593498290,
     "user": {
      "displayName": "RUOCHEN WANG",
      "photoUrl": "",
      "userId": "03367450102115681037"
     },
     "user_tz": 240
    },
    "id": "MVrSu5wo3qoq",
    "outputId": "d07a9e8e-beb2-4a72-c17e-9af81adf1d32"
   },
   "outputs": [
    {
     "data": {
      "text/html": [
       "<div>\n",
       "<style scoped>\n",
       "    .dataframe tbody tr th:only-of-type {\n",
       "        vertical-align: middle;\n",
       "    }\n",
       "\n",
       "    .dataframe tbody tr th {\n",
       "        vertical-align: top;\n",
       "    }\n",
       "\n",
       "    .dataframe thead th {\n",
       "        text-align: right;\n",
       "    }\n",
       "</style>\n",
       "<table border=\"1\" class=\"dataframe\">\n",
       "  <thead>\n",
       "    <tr style=\"text-align: right;\">\n",
       "      <th></th>\n",
       "      <th>max_dew_point</th>\n",
       "      <th>avg_hourly_dew_point</th>\n",
       "      <th>avg_dew_point</th>\n",
       "      <th>min_dew_point</th>\n",
       "      <th>max_wind_speed</th>\n",
       "      <th>avg_hourly_wind_speed</th>\n",
       "      <th>avg_wind_speed</th>\n",
       "      <th>min_wind_speed</th>\n",
       "      <th>max_wind_gust</th>\n",
       "      <th>wind_gust_dir_10s</th>\n",
       "    </tr>\n",
       "  </thead>\n",
       "  <tbody>\n",
       "    <tr>\n",
       "      <th>count</th>\n",
       "      <td>6930.00</td>\n",
       "      <td>6930.00</td>\n",
       "      <td>6930.00</td>\n",
       "      <td>6930.00</td>\n",
       "      <td>6930.00</td>\n",
       "      <td>6930.00</td>\n",
       "      <td>6930.00</td>\n",
       "      <td>6930.00</td>\n",
       "      <td>6930.00</td>\n",
       "      <td>6930.00</td>\n",
       "    </tr>\n",
       "    <tr>\n",
       "      <th>mean</th>\n",
       "      <td>5.99</td>\n",
       "      <td>2.59</td>\n",
       "      <td>2.55</td>\n",
       "      <td>-0.88</td>\n",
       "      <td>32.70</td>\n",
       "      <td>18.54</td>\n",
       "      <td>19.53</td>\n",
       "      <td>6.36</td>\n",
       "      <td>46.94</td>\n",
       "      <td>24.28</td>\n",
       "    </tr>\n",
       "    <tr>\n",
       "      <th>std</th>\n",
       "      <td>9.94</td>\n",
       "      <td>10.18</td>\n",
       "      <td>10.09</td>\n",
       "      <td>10.53</td>\n",
       "      <td>9.31</td>\n",
       "      <td>6.25</td>\n",
       "      <td>6.18</td>\n",
       "      <td>5.22</td>\n",
       "      <td>12.79</td>\n",
       "      <td>9.13</td>\n",
       "    </tr>\n",
       "    <tr>\n",
       "      <th>min</th>\n",
       "      <td>-24.80</td>\n",
       "      <td>-28.10</td>\n",
       "      <td>-28.10</td>\n",
       "      <td>-32.00</td>\n",
       "      <td>12.00</td>\n",
       "      <td>5.21</td>\n",
       "      <td>6.50</td>\n",
       "      <td>0.00</td>\n",
       "      <td>27.00</td>\n",
       "      <td>0.00</td>\n",
       "    </tr>\n",
       "    <tr>\n",
       "      <th>25%</th>\n",
       "      <td>-1.50</td>\n",
       "      <td>-4.97</td>\n",
       "      <td>-5.07</td>\n",
       "      <td>-8.50</td>\n",
       "      <td>26.00</td>\n",
       "      <td>13.97</td>\n",
       "      <td>15.00</td>\n",
       "      <td>3.00</td>\n",
       "      <td>37.00</td>\n",
       "      <td>21.00</td>\n",
       "    </tr>\n",
       "    <tr>\n",
       "      <th>50%</th>\n",
       "      <td>5.90</td>\n",
       "      <td>2.30</td>\n",
       "      <td>2.40</td>\n",
       "      <td>-1.20</td>\n",
       "      <td>32.00</td>\n",
       "      <td>17.62</td>\n",
       "      <td>18.50</td>\n",
       "      <td>6.00</td>\n",
       "      <td>44.00</td>\n",
       "      <td>27.00</td>\n",
       "    </tr>\n",
       "    <tr>\n",
       "      <th>75%</th>\n",
       "      <td>14.40</td>\n",
       "      <td>11.10</td>\n",
       "      <td>11.10</td>\n",
       "      <td>7.80</td>\n",
       "      <td>38.00</td>\n",
       "      <td>22.04</td>\n",
       "      <td>23.00</td>\n",
       "      <td>9.00</td>\n",
       "      <td>54.00</td>\n",
       "      <td>31.00</td>\n",
       "    </tr>\n",
       "    <tr>\n",
       "      <th>max</th>\n",
       "      <td>26.60</td>\n",
       "      <td>24.40</td>\n",
       "      <td>24.10</td>\n",
       "      <td>23.00</td>\n",
       "      <td>85.00</td>\n",
       "      <td>55.12</td>\n",
       "      <td>53.00</td>\n",
       "      <td>39.00</td>\n",
       "      <td>119.00</td>\n",
       "      <td>36.00</td>\n",
       "    </tr>\n",
       "  </tbody>\n",
       "</table>\n",
       "</div>"
      ],
      "text/plain": [
       "       max_dew_point  avg_hourly_dew_point  avg_dew_point  min_dew_point  \\\n",
       "count        6930.00               6930.00        6930.00        6930.00   \n",
       "mean            5.99                  2.59           2.55          -0.88   \n",
       "std             9.94                 10.18          10.09          10.53   \n",
       "min           -24.80                -28.10         -28.10         -32.00   \n",
       "25%            -1.50                 -4.97          -5.07          -8.50   \n",
       "50%             5.90                  2.30           2.40          -1.20   \n",
       "75%            14.40                 11.10          11.10           7.80   \n",
       "max            26.60                 24.40          24.10          23.00   \n",
       "\n",
       "       max_wind_speed  avg_hourly_wind_speed  avg_wind_speed  min_wind_speed  \\\n",
       "count         6930.00                6930.00         6930.00         6930.00   \n",
       "mean            32.70                  18.54           19.53            6.36   \n",
       "std              9.31                   6.25            6.18            5.22   \n",
       "min             12.00                   5.21            6.50            0.00   \n",
       "25%             26.00                  13.97           15.00            3.00   \n",
       "50%             32.00                  17.62           18.50            6.00   \n",
       "75%             38.00                  22.04           23.00            9.00   \n",
       "max             85.00                  55.12           53.00           39.00   \n",
       "\n",
       "       max_wind_gust  wind_gust_dir_10s  \n",
       "count        6930.00            6930.00  \n",
       "mean           46.94              24.28  \n",
       "std            12.79               9.13  \n",
       "min            27.00               0.00  \n",
       "25%            37.00              21.00  \n",
       "50%            44.00              27.00  \n",
       "75%            54.00              31.00  \n",
       "max           119.00              36.00  "
      ]
     },
     "execution_count": 26,
     "metadata": {},
     "output_type": "execute_result"
    }
   ],
   "source": [
    "#dew point and wind speed\n",
    "cols = data_reduced.columns[9:19]\n",
    "data_reduced[cols].describe()"
   ]
  },
  {
   "cell_type": "markdown",
   "metadata": {
    "id": "g_k5jmgx3qoq"
   },
   "source": [
    "The dew point is the temperature value needed to achiveve a humidity of 100%. As such, we should expect the dew point to be between the lowest and highest temperature observed in Toronto. As a result, we can conclude that the dew point is within the realm of possible values and thus valid. "
   ]
  },
  {
   "cell_type": "code",
   "execution_count": 27,
   "metadata": {
    "colab": {
     "base_uri": "https://localhost:8080/",
     "height": 0
    },
    "executionInfo": {
     "elapsed": 199,
     "status": "ok",
     "timestamp": 1627593498469,
     "user": {
      "displayName": "RUOCHEN WANG",
      "photoUrl": "",
      "userId": "03367450102115681037"
     },
     "user_tz": 240
    },
    "id": "btEvN3FV3qoq",
    "outputId": "982d2be2-d27f-47cb-9f29-19dc3d62b8f0"
   },
   "outputs": [
    {
     "data": {
      "text/html": [
       "<div>\n",
       "<style scoped>\n",
       "    .dataframe tbody tr th:only-of-type {\n",
       "        vertical-align: middle;\n",
       "    }\n",
       "\n",
       "    .dataframe tbody tr th {\n",
       "        vertical-align: top;\n",
       "    }\n",
       "\n",
       "    .dataframe thead th {\n",
       "        text-align: right;\n",
       "    }\n",
       "</style>\n",
       "<table border=\"1\" class=\"dataframe\">\n",
       "  <thead>\n",
       "    <tr style=\"text-align: right;\">\n",
       "      <th></th>\n",
       "      <th>max_pressure_sea</th>\n",
       "      <th>avg_hourly_pressure_sea</th>\n",
       "      <th>avg_pressure_sea</th>\n",
       "      <th>min_pressure_sea</th>\n",
       "      <th>max_pressure_station</th>\n",
       "      <th>avg_hourly_pressure_station</th>\n",
       "      <th>avg_pressure_station</th>\n",
       "      <th>min_pressure_station</th>\n",
       "    </tr>\n",
       "  </thead>\n",
       "  <tbody>\n",
       "    <tr>\n",
       "      <th>count</th>\n",
       "      <td>6930.00</td>\n",
       "      <td>6930.00</td>\n",
       "      <td>6930.00</td>\n",
       "      <td>6930.00</td>\n",
       "      <td>6930.00</td>\n",
       "      <td>6930.00</td>\n",
       "      <td>6930.00</td>\n",
       "      <td>6930.00</td>\n",
       "    </tr>\n",
       "    <tr>\n",
       "      <th>mean</th>\n",
       "      <td>101.91</td>\n",
       "      <td>101.50</td>\n",
       "      <td>101.50</td>\n",
       "      <td>101.08</td>\n",
       "      <td>99.78</td>\n",
       "      <td>99.39</td>\n",
       "      <td>99.38</td>\n",
       "      <td>98.99</td>\n",
       "    </tr>\n",
       "    <tr>\n",
       "      <th>std</th>\n",
       "      <td>0.73</td>\n",
       "      <td>0.74</td>\n",
       "      <td>0.71</td>\n",
       "      <td>0.79</td>\n",
       "      <td>0.69</td>\n",
       "      <td>0.71</td>\n",
       "      <td>0.68</td>\n",
       "      <td>0.77</td>\n",
       "    </tr>\n",
       "    <tr>\n",
       "      <th>min</th>\n",
       "      <td>99.53</td>\n",
       "      <td>98.86</td>\n",
       "      <td>98.78</td>\n",
       "      <td>97.98</td>\n",
       "      <td>97.45</td>\n",
       "      <td>96.74</td>\n",
       "      <td>96.70</td>\n",
       "      <td>95.91</td>\n",
       "    </tr>\n",
       "    <tr>\n",
       "      <th>25%</th>\n",
       "      <td>101.43</td>\n",
       "      <td>101.03</td>\n",
       "      <td>101.04</td>\n",
       "      <td>100.61</td>\n",
       "      <td>99.33</td>\n",
       "      <td>98.95</td>\n",
       "      <td>98.96</td>\n",
       "      <td>98.53</td>\n",
       "    </tr>\n",
       "    <tr>\n",
       "      <th>50%</th>\n",
       "      <td>101.86</td>\n",
       "      <td>101.48</td>\n",
       "      <td>101.48</td>\n",
       "      <td>101.10</td>\n",
       "      <td>99.75</td>\n",
       "      <td>99.39</td>\n",
       "      <td>99.38</td>\n",
       "      <td>99.02</td>\n",
       "    </tr>\n",
       "    <tr>\n",
       "      <th>75%</th>\n",
       "      <td>102.37</td>\n",
       "      <td>101.96</td>\n",
       "      <td>101.94</td>\n",
       "      <td>101.58</td>\n",
       "      <td>100.22</td>\n",
       "      <td>99.84</td>\n",
       "      <td>99.81</td>\n",
       "      <td>99.49</td>\n",
       "    </tr>\n",
       "    <tr>\n",
       "      <th>max</th>\n",
       "      <td>104.67</td>\n",
       "      <td>104.41</td>\n",
       "      <td>104.38</td>\n",
       "      <td>104.08</td>\n",
       "      <td>102.41</td>\n",
       "      <td>102.15</td>\n",
       "      <td>102.12</td>\n",
       "      <td>101.85</td>\n",
       "    </tr>\n",
       "  </tbody>\n",
       "</table>\n",
       "</div>"
      ],
      "text/plain": [
       "       max_pressure_sea  avg_hourly_pressure_sea  avg_pressure_sea  \\\n",
       "count           6930.00                  6930.00           6930.00   \n",
       "mean             101.91                   101.50            101.50   \n",
       "std                0.73                     0.74              0.71   \n",
       "min               99.53                    98.86             98.78   \n",
       "25%              101.43                   101.03            101.04   \n",
       "50%              101.86                   101.48            101.48   \n",
       "75%              102.37                   101.96            101.94   \n",
       "max              104.67                   104.41            104.38   \n",
       "\n",
       "       min_pressure_sea  max_pressure_station  avg_hourly_pressure_station  \\\n",
       "count           6930.00               6930.00                      6930.00   \n",
       "mean             101.08                 99.78                        99.39   \n",
       "std                0.79                  0.69                         0.71   \n",
       "min               97.98                 97.45                        96.74   \n",
       "25%              100.61                 99.33                        98.95   \n",
       "50%              101.10                 99.75                        99.39   \n",
       "75%              101.58                100.22                        99.84   \n",
       "max              104.08                102.41                       102.15   \n",
       "\n",
       "       avg_pressure_station  min_pressure_station  \n",
       "count               6930.00               6930.00  \n",
       "mean                  99.38                 98.99  \n",
       "std                    0.68                  0.77  \n",
       "min                   96.70                 95.91  \n",
       "25%                   98.96                 98.53  \n",
       "50%                   99.38                 99.02  \n",
       "75%                   99.81                 99.49  \n",
       "max                  102.12                101.85  "
      ]
     },
     "execution_count": 27,
     "metadata": {},
     "output_type": "execute_result"
    }
   ],
   "source": [
    "#analyzing sea pressure and station pressure\n",
    "cols = data_reduced.columns[19:27]\n",
    "data_reduced[cols].describe()"
   ]
  },
  {
   "cell_type": "markdown",
   "metadata": {
    "id": "JqSpcvKT3qor"
   },
   "source": [
    "Pressure is measured in kPa, with the highest pressure ever recorded being 108.4 kPa and the lowest pressure ever recorded in the world being 87 kPa (source: https://sciencing.com/barometer-5047250.html). Given this info, we conclude that the pressure columns have valid values. "
   ]
  },
  {
   "cell_type": "code",
   "execution_count": 28,
   "metadata": {
    "colab": {
     "base_uri": "https://localhost:8080/",
     "height": 0
    },
    "executionInfo": {
     "elapsed": 26,
     "status": "ok",
     "timestamp": 1627593498486,
     "user": {
      "displayName": "RUOCHEN WANG",
      "photoUrl": "",
      "userId": "03367450102115681037"
     },
     "user_tz": 240
    },
    "id": "wZjprzJS3qor",
    "outputId": "85485687-e868-44de-a020-82a6d48aed18"
   },
   "outputs": [
    {
     "data": {
      "text/html": [
       "<div>\n",
       "<style scoped>\n",
       "    .dataframe tbody tr th:only-of-type {\n",
       "        vertical-align: middle;\n",
       "    }\n",
       "\n",
       "    .dataframe tbody tr th {\n",
       "        vertical-align: top;\n",
       "    }\n",
       "\n",
       "    .dataframe thead th {\n",
       "        text-align: right;\n",
       "    }\n",
       "</style>\n",
       "<table border=\"1\" class=\"dataframe\">\n",
       "  <thead>\n",
       "    <tr style=\"text-align: right;\">\n",
       "      <th></th>\n",
       "      <th>max_visibility</th>\n",
       "      <th>avg_hourly_visibility</th>\n",
       "      <th>avg_visibility</th>\n",
       "      <th>min_visibility</th>\n",
       "      <th>heatdegdays</th>\n",
       "      <th>cooldegdays</th>\n",
       "      <th>growdegdays_5</th>\n",
       "      <th>growdegdays_7</th>\n",
       "      <th>growdegdays_10</th>\n",
       "    </tr>\n",
       "  </thead>\n",
       "  <tbody>\n",
       "    <tr>\n",
       "      <th>count</th>\n",
       "      <td>6930.00</td>\n",
       "      <td>6930.00</td>\n",
       "      <td>6930.00</td>\n",
       "      <td>6930.00</td>\n",
       "      <td>6930.00</td>\n",
       "      <td>6930.00</td>\n",
       "      <td>6930.00</td>\n",
       "      <td>6930.00</td>\n",
       "      <td>6930.00</td>\n",
       "    </tr>\n",
       "    <tr>\n",
       "      <th>mean</th>\n",
       "      <td>25647.48</td>\n",
       "      <td>21493.92</td>\n",
       "      <td>19940.41</td>\n",
       "      <td>14233.35</td>\n",
       "      <td>10.79</td>\n",
       "      <td>1.02</td>\n",
       "      <td>6.33</td>\n",
       "      <td>5.21</td>\n",
       "      <td>3.76</td>\n",
       "    </tr>\n",
       "    <tr>\n",
       "      <th>std</th>\n",
       "      <td>5328.93</td>\n",
       "      <td>5045.50</td>\n",
       "      <td>5461.44</td>\n",
       "      <td>8920.90</td>\n",
       "      <td>9.45</td>\n",
       "      <td>2.27</td>\n",
       "      <td>7.22</td>\n",
       "      <td>6.48</td>\n",
       "      <td>5.31</td>\n",
       "    </tr>\n",
       "    <tr>\n",
       "      <th>min</th>\n",
       "      <td>4800.00</td>\n",
       "      <td>1233.30</td>\n",
       "      <td>3000.00</td>\n",
       "      <td>0.00</td>\n",
       "      <td>0.00</td>\n",
       "      <td>0.00</td>\n",
       "      <td>0.00</td>\n",
       "      <td>0.00</td>\n",
       "      <td>0.00</td>\n",
       "    </tr>\n",
       "    <tr>\n",
       "      <th>25%</th>\n",
       "      <td>24100.00</td>\n",
       "      <td>19146.85</td>\n",
       "      <td>15250.00</td>\n",
       "      <td>4800.00</td>\n",
       "      <td>0.40</td>\n",
       "      <td>0.00</td>\n",
       "      <td>0.00</td>\n",
       "      <td>0.00</td>\n",
       "      <td>0.00</td>\n",
       "    </tr>\n",
       "    <tr>\n",
       "      <th>50%</th>\n",
       "      <td>24100.00</td>\n",
       "      <td>23366.70</td>\n",
       "      <td>20100.00</td>\n",
       "      <td>16100.00</td>\n",
       "      <td>10.10</td>\n",
       "      <td>0.00</td>\n",
       "      <td>2.90</td>\n",
       "      <td>0.90</td>\n",
       "      <td>0.00</td>\n",
       "    </tr>\n",
       "    <tr>\n",
       "      <th>75%</th>\n",
       "      <td>24100.00</td>\n",
       "      <td>24100.00</td>\n",
       "      <td>24100.00</td>\n",
       "      <td>24100.00</td>\n",
       "      <td>18.00</td>\n",
       "      <td>0.00</td>\n",
       "      <td>12.60</td>\n",
       "      <td>10.60</td>\n",
       "      <td>7.60</td>\n",
       "    </tr>\n",
       "    <tr>\n",
       "      <th>max</th>\n",
       "      <td>80500.00</td>\n",
       "      <td>35857.10</td>\n",
       "      <td>52300.00</td>\n",
       "      <td>25000.00</td>\n",
       "      <td>40.30</td>\n",
       "      <td>13.90</td>\n",
       "      <td>26.90</td>\n",
       "      <td>24.90</td>\n",
       "      <td>21.90</td>\n",
       "    </tr>\n",
       "  </tbody>\n",
       "</table>\n",
       "</div>"
      ],
      "text/plain": [
       "       max_visibility  avg_hourly_visibility  avg_visibility  min_visibility  \\\n",
       "count         6930.00                6930.00         6930.00         6930.00   \n",
       "mean         25647.48               21493.92        19940.41        14233.35   \n",
       "std           5328.93                5045.50         5461.44         8920.90   \n",
       "min           4800.00                1233.30         3000.00            0.00   \n",
       "25%          24100.00               19146.85        15250.00         4800.00   \n",
       "50%          24100.00               23366.70        20100.00        16100.00   \n",
       "75%          24100.00               24100.00        24100.00        24100.00   \n",
       "max          80500.00               35857.10        52300.00        25000.00   \n",
       "\n",
       "       heatdegdays  cooldegdays  growdegdays_5  growdegdays_7  growdegdays_10  \n",
       "count      6930.00      6930.00        6930.00        6930.00         6930.00  \n",
       "mean         10.79         1.02           6.33           5.21            3.76  \n",
       "std           9.45         2.27           7.22           6.48            5.31  \n",
       "min           0.00         0.00           0.00           0.00            0.00  \n",
       "25%           0.40         0.00           0.00           0.00            0.00  \n",
       "50%          10.10         0.00           2.90           0.90            0.00  \n",
       "75%          18.00         0.00          12.60          10.60            7.60  \n",
       "max          40.30        13.90          26.90          24.90           21.90  "
      ]
     },
     "execution_count": 28,
     "metadata": {},
     "output_type": "execute_result"
    }
   ],
   "source": [
    "#analyzing visibility and heat degree days\n",
    "cols = data_reduced.columns[27:36]\n",
    "data_reduced[cols].describe()"
   ]
  },
  {
   "cell_type": "code",
   "execution_count": 29,
   "metadata": {
    "colab": {
     "base_uri": "https://localhost:8080/",
     "height": 0
    },
    "executionInfo": {
     "elapsed": 26,
     "status": "ok",
     "timestamp": 1627593498488,
     "user": {
      "displayName": "RUOCHEN WANG",
      "photoUrl": "",
      "userId": "03367450102115681037"
     },
     "user_tz": 240
    },
    "id": "UyPvvl7t3qos",
    "outputId": "de763847-7ae8-4c3e-de43-94f2b7cf8525"
   },
   "outputs": [
    {
     "data": {
      "text/html": [
       "<div>\n",
       "<style scoped>\n",
       "    .dataframe tbody tr th:only-of-type {\n",
       "        vertical-align: middle;\n",
       "    }\n",
       "\n",
       "    .dataframe tbody tr th {\n",
       "        vertical-align: top;\n",
       "    }\n",
       "\n",
       "    .dataframe thead th {\n",
       "        text-align: right;\n",
       "    }\n",
       "</style>\n",
       "<table border=\"1\" class=\"dataframe\">\n",
       "  <thead>\n",
       "    <tr style=\"text-align: right;\">\n",
       "      <th></th>\n",
       "      <th>precipitation</th>\n",
       "      <th>wet_today</th>\n",
       "      <th>wet_tomorrow</th>\n",
       "    </tr>\n",
       "  </thead>\n",
       "  <tbody>\n",
       "    <tr>\n",
       "      <th>count</th>\n",
       "      <td>6930.00</td>\n",
       "      <td>6930.00</td>\n",
       "      <td>6930.00</td>\n",
       "    </tr>\n",
       "    <tr>\n",
       "      <th>mean</th>\n",
       "      <td>2.57</td>\n",
       "      <td>0.31</td>\n",
       "      <td>0.26</td>\n",
       "    </tr>\n",
       "    <tr>\n",
       "      <th>std</th>\n",
       "      <td>6.02</td>\n",
       "      <td>0.46</td>\n",
       "      <td>0.44</td>\n",
       "    </tr>\n",
       "    <tr>\n",
       "      <th>min</th>\n",
       "      <td>0.00</td>\n",
       "      <td>0.00</td>\n",
       "      <td>0.00</td>\n",
       "    </tr>\n",
       "    <tr>\n",
       "      <th>25%</th>\n",
       "      <td>0.00</td>\n",
       "      <td>0.00</td>\n",
       "      <td>0.00</td>\n",
       "    </tr>\n",
       "    <tr>\n",
       "      <th>50%</th>\n",
       "      <td>0.00</td>\n",
       "      <td>0.00</td>\n",
       "      <td>0.00</td>\n",
       "    </tr>\n",
       "    <tr>\n",
       "      <th>75%</th>\n",
       "      <td>2.00</td>\n",
       "      <td>1.00</td>\n",
       "      <td>1.00</td>\n",
       "    </tr>\n",
       "    <tr>\n",
       "      <th>max</th>\n",
       "      <td>126.00</td>\n",
       "      <td>1.00</td>\n",
       "      <td>1.00</td>\n",
       "    </tr>\n",
       "  </tbody>\n",
       "</table>\n",
       "</div>"
      ],
      "text/plain": [
       "       precipitation  wet_today  wet_tomorrow\n",
       "count        6930.00    6930.00       6930.00\n",
       "mean            2.57       0.31          0.26\n",
       "std             6.02       0.46          0.44\n",
       "min             0.00       0.00          0.00\n",
       "25%             0.00       0.00          0.00\n",
       "50%             0.00       0.00          0.00\n",
       "75%             2.00       1.00          1.00\n",
       "max           126.00       1.00          1.00"
      ]
     },
     "execution_count": 29,
     "metadata": {},
     "output_type": "execute_result"
    }
   ],
   "source": [
    "#analyzing percipitation \n",
    "cols = data_reduced.columns[36:]\n",
    "data_reduced[cols].describe()"
   ]
  },
  {
   "cell_type": "markdown",
   "metadata": {
    "id": "GBb3e0j53qos"
   },
   "source": [
    "Based on hostorical temperature data from CurrentResults.com we know that the most amount of snow that ever fell in a single day for the city of Toronto is 483 mm. We also know that the most amount of rainfall experienced in Toronto for a single day was 98.6 mm. We also know that the percipitation category is the result of the sum of the rain and snow columns.\n",
    "\n",
    "Given this information we can conclude that the `percipitation` columns all have valid values. "
   ]
  },
  {
   "cell_type": "code",
   "execution_count": 30,
   "metadata": {
    "colab": {
     "base_uri": "https://localhost:8080/",
     "height": 0
    },
    "executionInfo": {
     "elapsed": 25,
     "status": "ok",
     "timestamp": 1627593498490,
     "user": {
      "displayName": "RUOCHEN WANG",
      "photoUrl": "",
      "userId": "03367450102115681037"
     },
     "user_tz": 240
    },
    "id": "ol48fbV33qos",
    "outputId": "27390a9c-a8eb-4979-d9c0-eb9f142fa519"
   },
   "outputs": [
    {
     "data": {
      "text/plain": [
       "'1994-02-12'"
      ]
     },
     "execution_count": 30,
     "metadata": {},
     "output_type": "execute_result"
    }
   ],
   "source": [
    "data_reduced.date.min()"
   ]
  },
  {
   "cell_type": "code",
   "execution_count": 31,
   "metadata": {
    "colab": {
     "base_uri": "https://localhost:8080/",
     "height": 0
    },
    "executionInfo": {
     "elapsed": 156,
     "status": "ok",
     "timestamp": 1627593498623,
     "user": {
      "displayName": "RUOCHEN WANG",
      "photoUrl": "",
      "userId": "03367450102115681037"
     },
     "user_tz": 240
    },
    "id": "6_9011lW3qos",
    "outputId": "53aeaccb-789f-4cd8-b6a8-c89ee1c13d29"
   },
   "outputs": [
    {
     "data": {
      "text/plain": [
       "'2021-06-29'"
      ]
     },
     "execution_count": 31,
     "metadata": {},
     "output_type": "execute_result"
    }
   ],
   "source": [
    "data_reduced.date.max()"
   ]
  },
  {
   "cell_type": "markdown",
   "metadata": {
    "id": "0VEVoLtD3qot"
   },
   "source": [
    "Moreover, the oldest date in the dataset after missing values has been removed is Feb 12, 1994 and the most current date is June 29, 2021"
   ]
  },
  {
   "cell_type": "markdown",
   "metadata": {
    "id": "XK-1i4a63qot"
   },
   "source": [
    "<br></br>\n",
    "<br></br>\n",
    "<br></br>\n",
    "### Outlier Analysis "
   ]
  },
  {
   "cell_type": "code",
   "execution_count": 32,
   "metadata": {
    "colab": {
     "base_uri": "https://localhost:8080/",
     "height": 0
    },
    "executionInfo": {
     "elapsed": 201,
     "status": "ok",
     "timestamp": 1627593498815,
     "user": {
      "displayName": "RUOCHEN WANG",
      "photoUrl": "",
      "userId": "03367450102115681037"
     },
     "user_tz": 240
    },
    "id": "ANbP345z3qot",
    "outputId": "955243aa-57a6-4513-bb2a-077b6d568add"
   },
   "outputs": [
    {
     "data": {
      "image/png": "[encoded data removed]",
      "text/plain": [
       "<Figure size 432x288 with 1 Axes>"
      ]
     },
     "metadata": {
      "needs_background": "light"
     },
     "output_type": "display_data"
    }
   ],
   "source": [
    "#boxplot for temperature data \n",
    "cols = ['max_temperature','avg_hourly_temperature','avg_temperature','min_temperature']\n",
    "temp_box_data = data_reduced.melt(id_vars='date', value_vars= cols)\n",
    "sns.boxplot(x='variable', y='value', data= temp_box_data)\n",
    "plt.xticks(rotation=45)\n",
    "plt.ylabel('temperature (in degrees celcius)')\n",
    "plt.title('Temperature Boxplot')\n",
    "plt.show()"
   ]
  },
  {
   "cell_type": "markdown",
   "metadata": {
    "id": "9UYhtRJv3qot"
   },
   "source": [
    "We can see that all the temperature variables have no outliers. We also see the expected behaviour of the distribution of each variable. For example, `max_temperature` is higher than `min_temperature`."
   ]
  },
  {
   "cell_type": "code",
   "execution_count": 33,
   "metadata": {
    "colab": {
     "base_uri": "https://localhost:8080/",
     "height": 0
    },
    "executionInfo": {
     "elapsed": 300,
     "status": "ok",
     "timestamp": 1627593499098,
     "user": {
      "displayName": "RUOCHEN WANG",
      "photoUrl": "",
      "userId": "03367450102115681037"
     },
     "user_tz": 240
    },
    "id": "kZggSZqg3qou",
    "outputId": "06b82c03-be2a-4e21-b4f3-2a763f8d354b"
   },
   "outputs": [
    {
     "data": {
      "image/png": "[encoded data removed]",
      "text/plain": [
       "<Figure size 432x288 with 1 Axes>"
      ]
     },
     "metadata": {
      "needs_background": "light"
     },
     "output_type": "display_data"
    }
   ],
   "source": [
    "# boxplot for humidity \n",
    "cols = ['max_relative_humidity','avg_hourly_relative_humidity','avg_relative_humidity','min_relative_humidity']\n",
    "hum_box_data = data_reduced.melt(id_vars='date', value_vars= cols)\n",
    "sns.boxplot(x='variable', y='value', data= hum_box_data)\n",
    "plt.xticks(rotation=45)\n",
    "plt.ylabel('humidity (%)')\n",
    "plt.title('Humidity Boxplot')\n",
    "plt.show()"
   ]
  },
  {
   "cell_type": "markdown",
   "metadata": {},
   "source": [
    "All the humidity variables have have outliers. We can see that `max_relative_humidity`, `avg_hourly_relative_humidity` and `avg_relative_humidity` have outliers in their lower boundaries. Moreover, we see outliers in the upper boundaries of the `min_relative_humidity` variable.  "
   ]
  },
  {
   "cell_type": "code",
   "execution_count": 34,
   "metadata": {
    "colab": {
     "base_uri": "https://localhost:8080/",
     "height": 0
    },
    "executionInfo": {
     "elapsed": 276,
     "status": "ok",
     "timestamp": 1627593499367,
     "user": {
      "displayName": "RUOCHEN WANG",
      "photoUrl": "",
      "userId": "03367450102115681037"
     },
     "user_tz": 240
    },
    "id": "G3HH40_F3qou",
    "outputId": "f465c50d-0c1b-489a-d319-7903d0580a79"
   },
   "outputs": [
    {
     "data": {
      "image/png": "[encoded data removed]",
      "text/plain": [
       "<Figure size 432x288 with 1 Axes>"
      ]
     },
     "metadata": {
      "needs_background": "light"
     },
     "output_type": "display_data"
    }
   ],
   "source": [
    "# boxplot for dew point\n",
    "cols = ['max_dew_point','avg_hourly_dew_point','avg_dew_point','min_dew_point']\n",
    "dew_box_data = data_reduced.melt(id_vars='date', value_vars= cols)\n",
    "sns.boxplot(x='variable', y='value', data= dew_box_data)\n",
    "plt.xticks(rotation=45)\n",
    "plt.ylabel('temperature (in degrees celcius)')\n",
    "plt.title('Dew Point Boxplot')\n",
    "plt.show()"
   ]
  },
  {
   "cell_type": "markdown",
   "metadata": {},
   "source": [
    "We can see that all the dew point variables have no outliers. We also see the expected behaviour of the distribution of each variable. For example, `max_dew_point` is higher than `min_dew_point`."
   ]
  },
  {
   "cell_type": "code",
   "execution_count": 35,
   "metadata": {
    "colab": {
     "base_uri": "https://localhost:8080/",
     "height": 0
    },
    "executionInfo": {
     "elapsed": 185,
     "status": "ok",
     "timestamp": 1627593499550,
     "user": {
      "displayName": "RUOCHEN WANG",
      "photoUrl": "",
      "userId": "03367450102115681037"
     },
     "user_tz": 240
    },
    "id": "CgG_ufzm3qou",
    "outputId": "a74f7835-02a9-41f7-a739-f39a03e0eddf"
   },
   "outputs": [
    {
     "data": {
      "image/png": "[encoded data removed]",
      "text/plain": [
       "<Figure size 432x288 with 1 Axes>"
      ]
     },
     "metadata": {
      "needs_background": "light"
     },
     "output_type": "display_data"
    }
   ],
   "source": [
    "# boxplot for wind speed\n",
    "cols = ['max_wind_speed','avg_hourly_wind_speed','avg_wind_speed','min_wind_speed','max_wind_gust','wind_gust_dir_10s']\n",
    "wind_box_data = data_reduced.melt(id_vars='date', value_vars= cols)\n",
    "sns.boxplot(x='variable', y='value', data= wind_box_data)\n",
    "plt.xticks(rotation=45)\n",
    "plt.ylabel('speed (in km/h)')\n",
    "plt.title('Wind Speed Boxplot')\n",
    "plt.show()"
   ]
  },
  {
   "cell_type": "markdown",
   "metadata": {},
   "source": [
    "All variables related to wind speed have outliers. One surprise in the distributions is that `max_wind_gust` has a much higher median and distribution than `max_wind_speed`. Originally I thought that wind gust wouldn't have a  higher median than wind speed, but the above graph indicates that windspeed only accounts for the sustained wind and not the short burst of winds. "
   ]
  },
  {
   "cell_type": "code",
   "execution_count": 36,
   "metadata": {
    "colab": {
     "base_uri": "https://localhost:8080/",
     "height": 0
    },
    "executionInfo": {
     "elapsed": 427,
     "status": "ok",
     "timestamp": 1627593499969,
     "user": {
      "displayName": "RUOCHEN WANG",
      "photoUrl": "",
      "userId": "03367450102115681037"
     },
     "user_tz": 240
    },
    "id": "bxHQk7Ej3qou",
    "outputId": "87f98337-9225-4976-e381-d04bf2786992"
   },
   "outputs": [
    {
     "data": {
      "image/png": "[encoded data removed]",
      "text/plain": [
       "<Figure size 432x288 with 1 Axes>"
      ]
     },
     "metadata": {
      "needs_background": "light"
     },
     "output_type": "display_data"
    }
   ],
   "source": [
    "# boxplot for pressure\n",
    "cols = ['max_pressure_sea','avg_hourly_pressure_sea','avg_pressure_sea','min_pressure_sea',\n",
    "        'max_pressure_station','avg_hourly_pressure_station','avg_pressure_station','min_pressure_station']\n",
    "press_box_data = data_reduced.melt(id_vars='date', value_vars= cols)\n",
    "sns.boxplot(x='variable', y='value', data= press_box_data)\n",
    "plt.xticks(rotation=45)\n",
    "plt.ylabel('pressure (in kPa)')\n",
    "plt.title('Pressure Boxplot')\n",
    "plt.show()"
   ]
  },
  {
   "cell_type": "markdown",
   "metadata": {},
   "source": [
    "We see that sea pressure has a naturally higher distribution than station pressure. Moreover, all the pressure related variables have outliers at both the lower bound and upper bound of the distributions. "
   ]
  },
  {
   "cell_type": "code",
   "execution_count": 37,
   "metadata": {
    "colab": {
     "base_uri": "https://localhost:8080/",
     "height": 0
    },
    "executionInfo": {
     "elapsed": 382,
     "status": "ok",
     "timestamp": 1627593500342,
     "user": {
      "displayName": "RUOCHEN WANG",
      "photoUrl": "",
      "userId": "03367450102115681037"
     },
     "user_tz": 240
    },
    "id": "X1vNqRr63qov",
    "outputId": "3e6eb625-de2b-43c3-de6e-e2efc50b9303"
   },
   "outputs": [
    {
     "data": {
      "image/png": "[encoded data removed]",
      "text/plain": [
       "<Figure size 432x288 with 1 Axes>"
      ]
     },
     "metadata": {
      "needs_background": "light"
     },
     "output_type": "display_data"
    }
   ],
   "source": [
    "# boxplot for visibility\n",
    "cols = ['max_visibility','avg_hourly_visibility','avg_visibility','min_visibility']\n",
    "vis_box_data = data_reduced.melt(id_vars='date', value_vars= cols)\n",
    "sns.boxplot(x='variable', y='value', data= vis_box_data)\n",
    "plt.xticks(rotation=45)\n",
    "plt.ylabel('visibility (in meters)')\n",
    "plt.title('Visibility Boxplot')\n",
    "plt.show()"
   ]
  },
  {
   "cell_type": "markdown",
   "metadata": {},
   "source": [
    "The visibility variables are very positively skewed. Meaning, we see most of the values closer to the lower boundaries of the distribution with a few values at the upper bounds of the distribution. In speciific, we see that `max_visibility` normally has a value of about 25000 meters. Thus, any values that isnt 25000 meters appears in our boxplot to be an outlier. But one aspect of `max_visibility` that is clear is that a visibility above 35000 meters is very uncommon. \n",
    "\n",
    "On the opposite end of the spectrum, `min_visibility` has a less positively skewed distribution than all other variables and had no outliers. "
   ]
  },
  {
   "cell_type": "code",
   "execution_count": 38,
   "metadata": {
    "colab": {
     "base_uri": "https://localhost:8080/",
     "height": 0
    },
    "executionInfo": {
     "elapsed": 222,
     "status": "ok",
     "timestamp": 1627593500557,
     "user": {
      "displayName": "RUOCHEN WANG",
      "photoUrl": "",
      "userId": "03367450102115681037"
     },
     "user_tz": 240
    },
    "id": "4oWDK-Z83qov",
    "outputId": "8b7a6652-3627-445f-ea9d-7f5034c4fa27"
   },
   "outputs": [
    {
     "data": {
      "image/png": "[encoded data removed]",
      "text/plain": [
       "<Figure size 432x288 with 1 Axes>"
      ]
     },
     "metadata": {
      "needs_background": "light"
     },
     "output_type": "display_data"
    }
   ],
   "source": [
    "## boxplot for Degree Days \n",
    "cols = ['heatdegdays','cooldegdays','growdegdays_5','growdegdays_7','growdegdays_10']\n",
    "degdays_box_data = data_reduced.melt(id_vars='date', value_vars= cols)\n",
    "sns.boxplot(x='variable', y='value', data= degdays_box_data)\n",
    "plt.xticks(rotation=45)\n",
    "plt.ylabel('Temperature (in degrees celcius)')\n",
    "plt.title('Degree Days Boxplot')\n",
    "plt.show()"
   ]
  },
  {
   "cell_type": "markdown",
   "metadata": {},
   "source": [
    "Variables related to degree days are negatively skewed, meaning, that the variables have more valus in the upper bound of their distributions than the lower bound of their distributions. Moreover, the only variables with outliers are `cooldegdays` amd `growdegdays_10`. It is clear that a value outside of 0 degrees celcius in the cooldegdays column is considered an outlier. "
   ]
  },
  {
   "cell_type": "code",
   "execution_count": 40,
   "metadata": {
    "colab": {
     "base_uri": "https://localhost:8080/",
     "height": 0
    },
    "executionInfo": {
     "elapsed": 137,
     "status": "ok",
     "timestamp": 1627593500681,
     "user": {
      "displayName": "RUOCHEN WANG",
      "photoUrl": "",
      "userId": "03367450102115681037"
     },
     "user_tz": 240
    },
    "id": "zu37vOh43qov",
    "outputId": "884ebf17-59f6-487b-92d8-957c9ca06dc8"
   },
   "outputs": [
    {
     "data": {
      "image/png": "[encoded data removed]",
      "text/plain": [
       "<Figure size 432x288 with 1 Axes>"
      ]
     },
     "metadata": {
      "needs_background": "light"
     },
     "output_type": "display_data"
    }
   ],
   "source": [
    "# boxplot for precipitation\n",
    "cols = ['precipitation']\n",
    "rain_box_data = data_reduced.melt(id_vars='date', value_vars= cols)\n",
    "sns.boxplot(x='variable', y='value', data= rain_box_data)\n",
    "plt.xticks(rotation=45)\n",
    "plt.ylabel('precipitation (in mm)')\n",
    "plt.title('Precipitation Boxplot')\n",
    "plt.show()"
   ]
  },
  {
   "cell_type": "markdown",
   "metadata": {
    "id": "3oBBRrFi3qow"
   },
   "source": [
    "In the boxplot above, we see that there are many outiers in the variables related to precipitation; i.e. the precipitation, rain, snow and snow_on_ground variables. This could be due to the fact that there are simply more days in the year where it doesnt rain than days in the year when it rains. Therefore, we should be less concerned about the outliers present in these variables. "
   ]
  },
  {
   "cell_type": "markdown",
   "metadata": {},
   "source": [
    "### Removing Possible Sources of Data Leakage"
   ]
  },
  {
   "cell_type": "markdown",
   "metadata": {},
   "source": [
    "As we can see from the outlier analysis that visibility may be a source of data leakage. "
   ]
  },
  {
   "cell_type": "code",
   "execution_count": 62,
   "metadata": {},
   "outputs": [
    {
     "data": {
      "text/plain": [
       "(24100.0, 24100.0)"
      ]
     },
     "execution_count": 62,
     "metadata": {},
     "output_type": "execute_result"
    }
   ],
   "source": [
    "max_vis = data_reduced.max_visibility\n",
    "\n",
    "#calculate the outliers in the max visibility column \n",
    "q1 = max_vis.quantile(0.25)\n",
    "q3 = max_vis.quantile(0.75)\n",
    "iqr = q1-q3\n",
    "lower_whisker = q1-1.5*iqr\n",
    "upper_whisker = q3+1.5*iqr\n",
    "#print the output\n",
    "lower_whisker, upper_whisker"
   ]
  },
  {
   "cell_type": "code",
   "execution_count": 63,
   "metadata": {},
   "outputs": [
    {
     "name": "stdout",
     "output_type": "stream",
     "text": [
      "percentage of days with visibility less than 24100m that had rain:  0.3625 %;  87  days\n",
      "percentage of days with visibility less than 24100m that had no rain:  0.6375 %;  153  days\n"
     ]
    }
   ],
   "source": [
    "#are most of the outliers below the lower boundary rainy days?\n",
    "max_vis_outliers_lower = data_reduced.wet_today[max_vis<lower_whisker]\n",
    "dry_outliers_lower , wet_outliers_lower = max_vis_outliers_lower.value_counts()\n",
    "total_outliers_lower = dry_outliers_lower + wet_outliers_lower\n",
    "print('percentage of days with visibility less than 24100m that had rain: ', wet_outliers_lower/total_outliers_lower, \n",
    "     '%; ', wet_outliers_lower, ' days')\n",
    "print('percentage of days with visibility less than 24100m that had no rain: ', dry_outliers_lower/total_outliers_lower,\n",
    "     '%; ', dry_outliers_lower, ' days')"
   ]
  },
  {
   "cell_type": "code",
   "execution_count": 64,
   "metadata": {},
   "outputs": [
    {
     "name": "stdout",
     "output_type": "stream",
     "text": [
      "percentage of days with visibility over 24100m that had rain:  0.2569444444444444 %;  296  days\n",
      "percentage of days with visibility over 24100m that had no rain:  0.7430555555555556 %;  856  days\n"
     ]
    }
   ],
   "source": [
    "#are most of the outliers above the upper boundary rainy days?\n",
    "max_vis_outliers_upper = data_reduced.wet_today[max_vis>upper_whisker]\n",
    "dry_outliers_upper , wet_outliers_upper = max_vis_outliers_upper.value_counts()\n",
    "total_outliers_upper = dry_outliers_upper + wet_outliers_upper\n",
    "print('percentage of days with visibility over 24100m that had rain: ', wet_outliers_upper/total_outliers_upper,\n",
    "     '%; ', wet_outliers_upper, ' days')\n",
    "print('percentage of days with visibility over 24100m that had no rain: ', dry_outliers_upper/total_outliers_upper,\n",
    "     '%; ', dry_outliers_upper, ' days')"
   ]
  },
  {
   "cell_type": "code",
   "execution_count": 65,
   "metadata": {},
   "outputs": [
    {
     "name": "stdout",
     "output_type": "stream",
     "text": [
      "percentage of days with visibility of 24100m that had rain:  0.30191404839292163 %;  1672  days\n",
      "percentage of days with visibility of 24100m that had no rain:  0.6980859516070783 %;  3866  days\n"
     ]
    }
   ],
   "source": [
    "#since anything that isnt the median of max_visibility is considered an outlier, what percent of the median consists\n",
    "#of rainy days?\n",
    "max_vis_median = data_reduced.wet_today[max_vis==upper_whisker]\n",
    "dry_median, wet_median = max_vis_median.value_counts()\n",
    "total_median = dry_median + wet_median \n",
    "print('percentage of days with visibility of 24100m that had rain: ', wet_median/total_median, \n",
    "     '%; ', wet_median, ' days')\n",
    "print('percentage of days with visibility of 24100m that had no rain: ', dry_median/total_median,\n",
    "     '%; ', dry_median, ' days')"
   ]
  },
  {
   "cell_type": "code",
   "execution_count": 82,
   "metadata": {},
   "outputs": [
    {
     "name": "stderr",
     "output_type": "stream",
     "text": [
      "<ipython-input-82-dd318e6612ba>:3: SettingWithCopyWarning: \n",
      "A value is trying to be set on a copy of a slice from a DataFrame.\n",
      "Try using .loc[row_indexer,col_indexer] = value instead\n",
      "\n",
      "See the caveats in the documentation: https://pandas.pydata.org/pandas-docs/stable/user_guide/indexing.html#returning-a-view-versus-a-copy\n",
      "  max_vis_df['outliers'] = pd.cut(max_vis, bins=[0,24100,48200,72300,96400], ordered=False,\n",
      "<ipython-input-82-dd318e6612ba>:5: SettingWithCopyWarning: \n",
      "A value is trying to be set on a copy of a slice from a DataFrame\n",
      "\n",
      "See the caveats in the documentation: https://pandas.pydata.org/pandas-docs/stable/user_guide/indexing.html#returning-a-view-versus-a-copy\n",
      "  max_vis_df.outliers[max_vis_df.max_visibility == 24100] = 'Medain'\n"
     ]
    },
    {
     "ename": "ValueError",
     "evalue": "Cannot setitem on a Categorical with a new category, set the categories first",
     "output_type": "error",
     "traceback": [
      "\u001b[1;31m---------------------------------------------------------------------------\u001b[0m",
      "\u001b[1;31mTypeError\u001b[0m                                 Traceback (most recent call last)",
      "\u001b[1;32m~\\anaconda3\\lib\\site-packages\\pandas\\core\\series.py\u001b[0m in \u001b[0;36m__setitem__\u001b[1;34m(self, key, value)\u001b[0m\n\u001b[0;32m    999\u001b[0m         \u001b[1;32mtry\u001b[0m\u001b[1;33m:\u001b[0m\u001b[1;33m\u001b[0m\u001b[1;33m\u001b[0m\u001b[0m\n\u001b[1;32m-> 1000\u001b[1;33m             \u001b[0mself\u001b[0m\u001b[1;33m.\u001b[0m\u001b[0m_set_with_engine\u001b[0m\u001b[1;33m(\u001b[0m\u001b[0mkey\u001b[0m\u001b[1;33m,\u001b[0m \u001b[0mvalue\u001b[0m\u001b[1;33m)\u001b[0m\u001b[1;33m\u001b[0m\u001b[1;33m\u001b[0m\u001b[0m\n\u001b[0m\u001b[0;32m   1001\u001b[0m         \u001b[1;32mexcept\u001b[0m \u001b[1;33m(\u001b[0m\u001b[0mKeyError\u001b[0m\u001b[1;33m,\u001b[0m \u001b[0mValueError\u001b[0m\u001b[1;33m)\u001b[0m\u001b[1;33m:\u001b[0m\u001b[1;33m\u001b[0m\u001b[1;33m\u001b[0m\u001b[0m\n",
      "\u001b[1;32m~\\anaconda3\\lib\\site-packages\\pandas\\core\\series.py\u001b[0m in \u001b[0;36m_set_with_engine\u001b[1;34m(self, key, value)\u001b[0m\n\u001b[0;32m   1032\u001b[0m         \u001b[1;31m# fails with AttributeError for IntervalIndex\u001b[0m\u001b[1;33m\u001b[0m\u001b[1;33m\u001b[0m\u001b[1;33m\u001b[0m\u001b[0m\n\u001b[1;32m-> 1033\u001b[1;33m         \u001b[0mloc\u001b[0m \u001b[1;33m=\u001b[0m \u001b[0mself\u001b[0m\u001b[1;33m.\u001b[0m\u001b[0mindex\u001b[0m\u001b[1;33m.\u001b[0m\u001b[0m_engine\u001b[0m\u001b[1;33m.\u001b[0m\u001b[0mget_loc\u001b[0m\u001b[1;33m(\u001b[0m\u001b[0mkey\u001b[0m\u001b[1;33m)\u001b[0m\u001b[1;33m\u001b[0m\u001b[1;33m\u001b[0m\u001b[0m\n\u001b[0m\u001b[0;32m   1034\u001b[0m         \u001b[0mvalidate_numeric_casting\u001b[0m\u001b[1;33m(\u001b[0m\u001b[0mself\u001b[0m\u001b[1;33m.\u001b[0m\u001b[0mdtype\u001b[0m\u001b[1;33m,\u001b[0m \u001b[0mvalue\u001b[0m\u001b[1;33m)\u001b[0m\u001b[1;33m\u001b[0m\u001b[1;33m\u001b[0m\u001b[0m\n",
      "\u001b[1;32mpandas\\_libs\\index.pyx\u001b[0m in \u001b[0;36mpandas._libs.index.IndexEngine.get_loc\u001b[1;34m()\u001b[0m\n",
      "\u001b[1;32mpandas\\_libs\\index.pyx\u001b[0m in \u001b[0;36mpandas._libs.index.IndexEngine.get_loc\u001b[1;34m()\u001b[0m\n",
      "\u001b[1;31mTypeError\u001b[0m: '0       False\n1        True\n2        True\n3        True\n4        True\n        ...  \n9991    False\n9995    False\n9996    False\n9998    False\n9999    False\nName: max_visibility, Length: 6930, dtype: bool' is an invalid key",
      "\nDuring handling of the above exception, another exception occurred:\n",
      "\u001b[1;31mValueError\u001b[0m                                Traceback (most recent call last)",
      "\u001b[1;32m<ipython-input-82-dd318e6612ba>\u001b[0m in \u001b[0;36m<module>\u001b[1;34m\u001b[0m\n\u001b[0;32m      3\u001b[0m max_vis_df['outliers'] = pd.cut(max_vis, bins=[0,24100,48200,72300,96400], ordered=False, \n\u001b[0;32m      4\u001b[0m        labels= ['lower outlier', 'upper outlier', 'upper outlier', 'upper outlier'])\n\u001b[1;32m----> 5\u001b[1;33m \u001b[0mmax_vis_df\u001b[0m\u001b[1;33m.\u001b[0m\u001b[0moutliers\u001b[0m\u001b[1;33m[\u001b[0m\u001b[0mmax_vis_df\u001b[0m\u001b[1;33m.\u001b[0m\u001b[0mmax_visibility\u001b[0m \u001b[1;33m==\u001b[0m \u001b[1;36m24100\u001b[0m\u001b[1;33m]\u001b[0m \u001b[1;33m=\u001b[0m \u001b[1;34m'Medain'\u001b[0m\u001b[1;33m\u001b[0m\u001b[1;33m\u001b[0m\u001b[0m\n\u001b[0m\u001b[0;32m      6\u001b[0m \u001b[0mmax_vis_df\u001b[0m\u001b[1;33m\u001b[0m\u001b[1;33m\u001b[0m\u001b[0m\n",
      "\u001b[1;32m~\\anaconda3\\lib\\site-packages\\pandas\\core\\series.py\u001b[0m in \u001b[0;36m__setitem__\u001b[1;34m(self, key, value)\u001b[0m\n\u001b[0;32m   1018\u001b[0m                 \u001b[0mkey\u001b[0m \u001b[1;33m=\u001b[0m \u001b[0mnp\u001b[0m\u001b[1;33m.\u001b[0m\u001b[0masarray\u001b[0m\u001b[1;33m(\u001b[0m\u001b[0mkey\u001b[0m\u001b[1;33m,\u001b[0m \u001b[0mdtype\u001b[0m\u001b[1;33m=\u001b[0m\u001b[0mbool\u001b[0m\u001b[1;33m)\u001b[0m\u001b[1;33m\u001b[0m\u001b[1;33m\u001b[0m\u001b[0m\n\u001b[0;32m   1019\u001b[0m                 \u001b[1;32mtry\u001b[0m\u001b[1;33m:\u001b[0m\u001b[1;33m\u001b[0m\u001b[1;33m\u001b[0m\u001b[0m\n\u001b[1;32m-> 1020\u001b[1;33m                     \u001b[0mself\u001b[0m\u001b[1;33m.\u001b[0m\u001b[0m_where\u001b[0m\u001b[1;33m(\u001b[0m\u001b[1;33m~\u001b[0m\u001b[0mkey\u001b[0m\u001b[1;33m,\u001b[0m \u001b[0mvalue\u001b[0m\u001b[1;33m,\u001b[0m \u001b[0minplace\u001b[0m\u001b[1;33m=\u001b[0m\u001b[1;32mTrue\u001b[0m\u001b[1;33m)\u001b[0m\u001b[1;33m\u001b[0m\u001b[1;33m\u001b[0m\u001b[0m\n\u001b[0m\u001b[0;32m   1021\u001b[0m                 \u001b[1;32mexcept\u001b[0m \u001b[0mInvalidIndexError\u001b[0m\u001b[1;33m:\u001b[0m\u001b[1;33m\u001b[0m\u001b[1;33m\u001b[0m\u001b[0m\n\u001b[0;32m   1022\u001b[0m                     \u001b[0mself\u001b[0m\u001b[1;33m.\u001b[0m\u001b[0miloc\u001b[0m\u001b[1;33m[\u001b[0m\u001b[0mkey\u001b[0m\u001b[1;33m]\u001b[0m \u001b[1;33m=\u001b[0m \u001b[0mvalue\u001b[0m\u001b[1;33m\u001b[0m\u001b[1;33m\u001b[0m\u001b[0m\n",
      "\u001b[1;32m~\\anaconda3\\lib\\site-packages\\pandas\\core\\generic.py\u001b[0m in \u001b[0;36m_where\u001b[1;34m(self, cond, other, inplace, axis, level, errors, try_cast)\u001b[0m\n\u001b[0;32m   8852\u001b[0m \u001b[1;33m\u001b[0m\u001b[0m\n\u001b[0;32m   8853\u001b[0m             \u001b[0mself\u001b[0m\u001b[1;33m.\u001b[0m\u001b[0m_check_inplace_setting\u001b[0m\u001b[1;33m(\u001b[0m\u001b[0mother\u001b[0m\u001b[1;33m)\u001b[0m\u001b[1;33m\u001b[0m\u001b[1;33m\u001b[0m\u001b[0m\n\u001b[1;32m-> 8854\u001b[1;33m             new_data = self._mgr.putmask(\n\u001b[0m\u001b[0;32m   8855\u001b[0m                 \u001b[0mmask\u001b[0m\u001b[1;33m=\u001b[0m\u001b[0mcond\u001b[0m\u001b[1;33m,\u001b[0m \u001b[0mnew\u001b[0m\u001b[1;33m=\u001b[0m\u001b[0mother\u001b[0m\u001b[1;33m,\u001b[0m \u001b[0malign\u001b[0m\u001b[1;33m=\u001b[0m\u001b[0malign\u001b[0m\u001b[1;33m,\u001b[0m \u001b[0maxis\u001b[0m\u001b[1;33m=\u001b[0m\u001b[0mblock_axis\u001b[0m\u001b[1;33m,\u001b[0m\u001b[1;33m\u001b[0m\u001b[1;33m\u001b[0m\u001b[0m\n\u001b[0;32m   8856\u001b[0m             )\n",
      "\u001b[1;32m~\\anaconda3\\lib\\site-packages\\pandas\\core\\internals\\managers.py\u001b[0m in \u001b[0;36mputmask\u001b[1;34m(self, mask, new, align, axis)\u001b[0m\n\u001b[0;32m    545\u001b[0m             \u001b[0mnew\u001b[0m \u001b[1;33m=\u001b[0m \u001b[0mextract_array\u001b[0m\u001b[1;33m(\u001b[0m\u001b[0mnew\u001b[0m\u001b[1;33m,\u001b[0m \u001b[0mextract_numpy\u001b[0m\u001b[1;33m=\u001b[0m\u001b[1;32mTrue\u001b[0m\u001b[1;33m)\u001b[0m\u001b[1;33m\u001b[0m\u001b[1;33m\u001b[0m\u001b[0m\n\u001b[0;32m    546\u001b[0m \u001b[1;33m\u001b[0m\u001b[0m\n\u001b[1;32m--> 547\u001b[1;33m         return self.apply(\n\u001b[0m\u001b[0;32m    548\u001b[0m             \u001b[1;34m\"putmask\"\u001b[0m\u001b[1;33m,\u001b[0m\u001b[1;33m\u001b[0m\u001b[1;33m\u001b[0m\u001b[0m\n\u001b[0;32m    549\u001b[0m             \u001b[0malign_keys\u001b[0m\u001b[1;33m=\u001b[0m\u001b[0malign_keys\u001b[0m\u001b[1;33m,\u001b[0m\u001b[1;33m\u001b[0m\u001b[1;33m\u001b[0m\u001b[0m\n",
      "\u001b[1;32m~\\anaconda3\\lib\\site-packages\\pandas\\core\\internals\\managers.py\u001b[0m in \u001b[0;36mapply\u001b[1;34m(self, f, align_keys, **kwargs)\u001b[0m\n\u001b[0;32m    404\u001b[0m                 \u001b[0mapplied\u001b[0m \u001b[1;33m=\u001b[0m \u001b[0mb\u001b[0m\u001b[1;33m.\u001b[0m\u001b[0mapply\u001b[0m\u001b[1;33m(\u001b[0m\u001b[0mf\u001b[0m\u001b[1;33m,\u001b[0m \u001b[1;33m**\u001b[0m\u001b[0mkwargs\u001b[0m\u001b[1;33m)\u001b[0m\u001b[1;33m\u001b[0m\u001b[1;33m\u001b[0m\u001b[0m\n\u001b[0;32m    405\u001b[0m             \u001b[1;32melse\u001b[0m\u001b[1;33m:\u001b[0m\u001b[1;33m\u001b[0m\u001b[1;33m\u001b[0m\u001b[0m\n\u001b[1;32m--> 406\u001b[1;33m                 \u001b[0mapplied\u001b[0m \u001b[1;33m=\u001b[0m \u001b[0mgetattr\u001b[0m\u001b[1;33m(\u001b[0m\u001b[0mb\u001b[0m\u001b[1;33m,\u001b[0m \u001b[0mf\u001b[0m\u001b[1;33m)\u001b[0m\u001b[1;33m(\u001b[0m\u001b[1;33m**\u001b[0m\u001b[0mkwargs\u001b[0m\u001b[1;33m)\u001b[0m\u001b[1;33m\u001b[0m\u001b[1;33m\u001b[0m\u001b[0m\n\u001b[0m\u001b[0;32m    407\u001b[0m             \u001b[0mresult_blocks\u001b[0m \u001b[1;33m=\u001b[0m \u001b[0m_extend_blocks\u001b[0m\u001b[1;33m(\u001b[0m\u001b[0mapplied\u001b[0m\u001b[1;33m,\u001b[0m \u001b[0mresult_blocks\u001b[0m\u001b[1;33m)\u001b[0m\u001b[1;33m\u001b[0m\u001b[1;33m\u001b[0m\u001b[0m\n\u001b[0;32m    408\u001b[0m \u001b[1;33m\u001b[0m\u001b[0m\n",
      "\u001b[1;32m~\\anaconda3\\lib\\site-packages\\pandas\\core\\internals\\blocks.py\u001b[0m in \u001b[0;36mputmask\u001b[1;34m(self, mask, new, inplace, axis, transpose)\u001b[0m\n\u001b[0;32m   1613\u001b[0m         \u001b[0mmask\u001b[0m \u001b[1;33m=\u001b[0m \u001b[0m_safe_reshape\u001b[0m\u001b[1;33m(\u001b[0m\u001b[0mmask\u001b[0m\u001b[1;33m,\u001b[0m \u001b[0mnew_values\u001b[0m\u001b[1;33m.\u001b[0m\u001b[0mshape\u001b[0m\u001b[1;33m)\u001b[0m\u001b[1;33m\u001b[0m\u001b[1;33m\u001b[0m\u001b[0m\n\u001b[0;32m   1614\u001b[0m \u001b[1;33m\u001b[0m\u001b[0m\n\u001b[1;32m-> 1615\u001b[1;33m         \u001b[0mnew_values\u001b[0m\u001b[1;33m[\u001b[0m\u001b[0mmask\u001b[0m\u001b[1;33m]\u001b[0m \u001b[1;33m=\u001b[0m \u001b[0mnew\u001b[0m\u001b[1;33m\u001b[0m\u001b[1;33m\u001b[0m\u001b[0m\n\u001b[0m\u001b[0;32m   1616\u001b[0m         \u001b[1;32mreturn\u001b[0m \u001b[1;33m[\u001b[0m\u001b[0mself\u001b[0m\u001b[1;33m.\u001b[0m\u001b[0mmake_block\u001b[0m\u001b[1;33m(\u001b[0m\u001b[0mvalues\u001b[0m\u001b[1;33m=\u001b[0m\u001b[0mnew_values\u001b[0m\u001b[1;33m)\u001b[0m\u001b[1;33m]\u001b[0m\u001b[1;33m\u001b[0m\u001b[1;33m\u001b[0m\u001b[0m\n\u001b[0;32m   1617\u001b[0m \u001b[1;33m\u001b[0m\u001b[0m\n",
      "\u001b[1;32m~\\anaconda3\\lib\\site-packages\\pandas\\core\\arrays\\categorical.py\u001b[0m in \u001b[0;36m__setitem__\u001b[1;34m(self, key, value)\u001b[0m\n\u001b[0;32m   2008\u001b[0m         \u001b[1;31m# something to np.nan\u001b[0m\u001b[1;33m\u001b[0m\u001b[1;33m\u001b[0m\u001b[1;33m\u001b[0m\u001b[0m\n\u001b[0;32m   2009\u001b[0m         \u001b[1;32mif\u001b[0m \u001b[0mlen\u001b[0m\u001b[1;33m(\u001b[0m\u001b[0mto_add\u001b[0m\u001b[1;33m)\u001b[0m \u001b[1;32mand\u001b[0m \u001b[1;32mnot\u001b[0m \u001b[0misna\u001b[0m\u001b[1;33m(\u001b[0m\u001b[0mto_add\u001b[0m\u001b[1;33m)\u001b[0m\u001b[1;33m.\u001b[0m\u001b[0mall\u001b[0m\u001b[1;33m(\u001b[0m\u001b[1;33m)\u001b[0m\u001b[1;33m:\u001b[0m\u001b[1;33m\u001b[0m\u001b[1;33m\u001b[0m\u001b[0m\n\u001b[1;32m-> 2010\u001b[1;33m             raise ValueError(\n\u001b[0m\u001b[0;32m   2011\u001b[0m                 \u001b[1;34m\"Cannot setitem on a Categorical with a new \"\u001b[0m\u001b[1;33m\u001b[0m\u001b[1;33m\u001b[0m\u001b[0m\n\u001b[0;32m   2012\u001b[0m                 \u001b[1;34m\"category, set the categories first\"\u001b[0m\u001b[1;33m\u001b[0m\u001b[1;33m\u001b[0m\u001b[0m\n",
      "\u001b[1;31mValueError\u001b[0m: Cannot setitem on a Categorical with a new category, set the categories first"
     ]
    }
   ],
   "source": [
    "max_vis_df = data_reduced[['max_visibility', 'wet_today', 'wet_tomorrow']]\n",
    "\n",
    "max_vis_df['outliers'] = pd.cut(max_vis, bins=[0,24100,48200,72300,96400], ordered=False, \n",
    "       labels= ['lower outlier', 'upper outlier', 'upper outlier', 'upper outlier'])\n",
    "max_vis_df.outliers[max_vis_df.max_visibility == 24100] = 'Medain'\n",
    "max_vis_df"
   ]
  },
  {
   "cell_type": "markdown",
   "metadata": {
    "id": "WXtKcn2h3qox"
   },
   "source": [
    "<br></br>\n",
    "<br></br>\n",
    "<br></br>\n",
    "<br></br>\n",
    "<br></br>\n",
    "<br></br>\n",
    "<br></br>\n",
    "<br></br>\n",
    "<br></br>\n",
    "<br></br>\n",
    "<br></br>\n",
    "<br></br>\n",
    "<br></br>\n",
    "<br></br>\n",
    "<br></br>\n",
    "<br></br>\n",
    "<br></br>\n",
    "<br></br>\n",
    "<br></br>\n",
    "<br></br>\n",
    "<br></br>\n",
    "<br></br>\n",
    "<br></br>\n",
    "<br></br>\n",
    "<br></br>\n",
    "<br></br>\n",
    "<br></br>\n",
    "<br></br>\n",
    "# Exploratory Data Analysis "
   ]
  },
  {
   "cell_type": "markdown",
   "metadata": {
    "id": "0Lo3wdfb3qox"
   },
   "source": [
    "### Univariate Analysis of Precipitation "
   ]
  },
  {
   "cell_type": "code",
   "execution_count": null,
   "metadata": {
    "colab": {
     "base_uri": "https://localhost:8080/",
     "height": 0
    },
    "executionInfo": {
     "elapsed": 732678,
     "status": "ok",
     "timestamp": 1627594233350,
     "user": {
      "displayName": "RUOCHEN WANG",
      "photoUrl": "",
      "userId": "03367450102115681037"
     },
     "user_tz": 240
    },
    "id": "DAw72UUTF65j",
    "outputId": "b2e968c1-c37a-4172-8790-b8da121bb5ec"
   },
   "outputs": [],
   "source": [
    "#precipitation histogram\n",
    "plt.figure(figsize=(17,7))\n",
    "plt.hist(data_reduced[['precipitation']], bins=np.arange(0,100, step=2))\n",
    "plt.xlabel('precipitation')\n",
    "plt.ylabel('count')\n",
    "plt.title(\"Precipitation Histogram\")"
   ]
  },
  {
   "cell_type": "markdown",
   "metadata": {
    "id": "bxTgZ2_S3qoy"
   },
   "source": [
    "As we take a deeper look into the distribution of the precipitation variables, we see that we do indeed have more days when it does not rains than rainy days in the dataset. "
   ]
  },
  {
   "cell_type": "code",
   "execution_count": null,
   "metadata": {
    "colab": {
     "base_uri": "https://localhost:8080/",
     "height": 0
    },
    "executionInfo": {
     "elapsed": 184363,
     "status": "ok",
     "timestamp": 1627594417690,
     "user": {
      "displayName": "RUOCHEN WANG",
      "photoUrl": "",
      "userId": "03367450102115681037"
     },
     "user_tz": 240
    },
    "id": "X5-YNau83qoy",
    "outputId": "e78dbcc0-f6f6-4e54-befb-b4b632166cdb"
   },
   "outputs": [],
   "source": [
    "wet_labels = ['not wet', 'wet']\n",
    "# bar groaph of wet vs non-wet days\n",
    "plt.hist(data_reduced[['wet_today']])\n",
    "plt.xticks(np.arange(0, 2), wet_labels) # convert numbers to months \n",
    "plt.xlabel('precipitation')\n",
    "plt.ylabel('count')\n",
    "plt.title(\"Precipitation Bar Graph\")"
   ]
  },
  {
   "cell_type": "markdown",
   "metadata": {
    "id": "2VZXFOmI3qoy"
   },
   "source": [
    "### Temperature vs Precipitation "
   ]
  },
  {
   "cell_type": "code",
   "execution_count": null,
   "metadata": {
    "colab": {
     "base_uri": "https://localhost:8080/",
     "height": 0
    },
    "executionInfo": {
     "elapsed": 689,
     "status": "ok",
     "timestamp": 1627594418374,
     "user": {
      "displayName": "RUOCHEN WANG",
      "photoUrl": "",
      "userId": "03367450102115681037"
     },
     "user_tz": 240
    },
    "id": "SZYH1FGh3qoz",
    "outputId": "a27f6bc4-dd54-480a-b012-2a321a063f40"
   },
   "outputs": [],
   "source": [
    "# max temperature scatterplot \n",
    "plt.figure(figsize=(17,7))\n",
    "plt.subplot(1,4,1)\n",
    "plt.scatter(data_reduced[['max_temperature']], data_reduced[['precipitation']])\n",
    "plt.xlabel('max_temperature (in degrees celcius)')\n",
    "plt.ylabel('precipitation (in mm)')\n",
    "plt.title(\"Max Temperature vs Precipitation\")\n",
    "\n",
    "# avg hourly temperature scatterplot \n",
    "plt.subplot(1,4,2)\n",
    "plt.scatter(data_reduced[['avg_hourly_temperature']], data_reduced[['precipitation']])\n",
    "plt.xlabel('avg_hourly_temperature (in degrees celcius)')\n",
    "plt.title(\"Avg Hourly Temperature vs Precipitation\")\n",
    "\n",
    "# avg temperature scatterplot\n",
    "plt.subplot(1,4,3)\n",
    "plt.scatter(data_reduced[['avg_temperature']], data_reduced[['precipitation']])\n",
    "plt.xlabel('avg_temperature (in degrees celcius)')\n",
    "plt.title(\"Avg Temperature vs Precipitation\")\n",
    "\n",
    "# min temperature scatterplot \n",
    "plt.subplot(1,4,4)\n",
    "plt.scatter(data_reduced[['min_temperature']], data_reduced[['precipitation']])\n",
    "plt.xlabel('min_temperature (in degrees celcius)')\n",
    "plt.title(\"Min Temperature vs Precipitation\")\n",
    "plt.show()"
   ]
  },
  {
   "cell_type": "markdown",
   "metadata": {
    "id": "fgkzwXdv3qoz"
   },
   "source": [
    "### Humidity vs Precipiation "
   ]
  },
  {
   "cell_type": "code",
   "execution_count": null,
   "metadata": {
    "colab": {
     "base_uri": "https://localhost:8080/",
     "height": 0
    },
    "executionInfo": {
     "elapsed": 678,
     "status": "ok",
     "timestamp": 1627594419045,
     "user": {
      "displayName": "RUOCHEN WANG",
      "photoUrl": "",
      "userId": "03367450102115681037"
     },
     "user_tz": 240
    },
    "id": "HGGrG1uh3qoz",
    "outputId": "0ac1d4e5-7f3f-4eea-e5c4-8e6eb9925a01"
   },
   "outputs": [],
   "source": [
    "# max humidity scatterplot\n",
    "plt.figure(figsize=(17,7))\n",
    "plt.subplot(1,4,1)\n",
    "plt.scatter(data_reduced[['max_relative_humidity']], data_reduced[['precipitation']])\n",
    "plt.xlabel('max_relative_humidity (%)')\n",
    "plt.ylabel('precipitation (in mm)')\n",
    "plt.title(\"Max Relative Humidity vs Precipitation\")\n",
    "\n",
    "# avg hourly humidity scatterplot\n",
    "plt.subplot(1,4,2)\n",
    "plt.scatter(data_reduced[['avg_hourly_relative_humidity']], data_reduced[['precipitation']])\n",
    "plt.xlabel('avg_hourly_relative_humidity (%)')\n",
    "plt.title(\"Avg Hourly Relative Humidity vs Precipitation\")\n",
    "\n",
    "# avg humidity scatterplot\n",
    "plt.subplot(1,4,3)\n",
    "plt.scatter(data_reduced[['avg_relative_humidity']], data_reduced[['precipitation']])\n",
    "plt.xlabel('avg_relative_humidity (%)')\n",
    "plt.title(\"Avg Relative Humidity vs Precipitation\")\n",
    "\n",
    "# min humidity scatterplot\n",
    "plt.subplot(1,4,4)\n",
    "plt.scatter(data_reduced[['min_relative_humidity']], data_reduced[['precipitation']])\n",
    "plt.xlabel('min_relative_humidity (%)')\n",
    "plt.title(\"Min Relative Humidity vs Precipitation\")\n",
    "plt.show()"
   ]
  },
  {
   "cell_type": "markdown",
   "metadata": {
    "id": "ZVGzZNCB3qoz"
   },
   "source": [
    "### Dew Point vs Precipitation "
   ]
  },
  {
   "cell_type": "code",
   "execution_count": null,
   "metadata": {
    "colab": {
     "base_uri": "https://localhost:8080/",
     "height": 0
    },
    "executionInfo": {
     "elapsed": 936,
     "status": "ok",
     "timestamp": 1627594419974,
     "user": {
      "displayName": "RUOCHEN WANG",
      "photoUrl": "",
      "userId": "03367450102115681037"
     },
     "user_tz": 240
    },
    "id": "tx5fu0Ct3qo0",
    "outputId": "f46f8564-6c62-4407-8aeb-301e916a477c"
   },
   "outputs": [],
   "source": [
    "# max dew point\n",
    "plt.figure(figsize=(17,7))\n",
    "plt.subplot(1,4,1)\n",
    "plt.scatter(data_reduced[['max_dew_point']], data_reduced[['precipitation']])\n",
    "plt.xlabel('max_dew_point (in degrees celcius)')\n",
    "plt.ylabel('precipitation (in mm)')\n",
    "plt.title(\"Max Dew Point vs Precipitation\")\n",
    "\n",
    "# avg hourly dew point \n",
    "plt.subplot(1,4,2)\n",
    "plt.scatter(data_reduced[['avg_hourly_dew_point']], data_reduced[['precipitation']])\n",
    "plt.xlabel('avg_hourly_dew_point (in degrees celcius)')\n",
    "plt.title(\"Avg Hourly Dew Point vs Precipitation\")\n",
    "\n",
    "# avg dew point \n",
    "plt.subplot(1,4,3)\n",
    "plt.scatter(data_reduced[['avg_dew_point']], data_reduced[['precipitation']])\n",
    "plt.xlabel('avg_dew_point (in degrees celcius)')\n",
    "plt.title(\"Avg Dew Point vs Precipitation\")\n",
    "\n",
    "# min dew point \n",
    "plt.subplot(1,4,4)\n",
    "plt.scatter(data_reduced[['min_dew_point']], data_reduced[['precipitation']])\n",
    "plt.xlabel('min_dew_point (in degrees celcius)')\n",
    "plt.title(\"Min Dew Point vs Precipitation\")\n",
    "plt.show()"
   ]
  },
  {
   "cell_type": "markdown",
   "metadata": {
    "id": "RuWiJRRu3qo0"
   },
   "source": [
    "### Wind Speed vs Precipitation "
   ]
  },
  {
   "cell_type": "code",
   "execution_count": null,
   "metadata": {
    "colab": {
     "base_uri": "https://localhost:8080/",
     "height": 0
    },
    "executionInfo": {
     "elapsed": 667,
     "status": "ok",
     "timestamp": 1627594420573,
     "user": {
      "displayName": "RUOCHEN WANG",
      "photoUrl": "",
      "userId": "03367450102115681037"
     },
     "user_tz": 240
    },
    "id": "1TbqYGLt3qo0",
    "outputId": "4bc7b25d-76e6-4a19-ab63-dca3ea36dfc6"
   },
   "outputs": [],
   "source": [
    "# max wind speed scatterplot \n",
    "plt.figure(figsize=(17,7))\n",
    "plt.subplot(1,4,1)\n",
    "plt.scatter(data_reduced[['max_wind_speed']], data_reduced[['precipitation']])\n",
    "plt.xlabel('max_wind_speed (in km/h)')\n",
    "plt.ylabel('precipitation (in mm)')\n",
    "plt.title(\"Max Wind Speed vs Precipitation\")\n",
    "\n",
    "#avg hourly wind speed scatterplot \n",
    "plt.subplot(1,4,2)\n",
    "plt.scatter(data_reduced[['avg_hourly_wind_speed']], data_reduced[['precipitation']])\n",
    "plt.xlabel('avg_hourly_wind_speed (in km/h)')\n",
    "plt.title(\"Avg Hourly Wind Speed vs Precipitation\")\n",
    "\n",
    "# avg wind speed scatterplot \n",
    "plt.subplot(1,4,3)\n",
    "plt.scatter(data_reduced[['avg_wind_speed']], data_reduced[['precipitation']])\n",
    "plt.xlabel('avg_wind_speed (in km/h)')\n",
    "plt.title(\"Avg Wind Speed vs Precipitation\")\n",
    "\n",
    "# min wind speed scatterplot \n",
    "plt.subplot(1,4,4)\n",
    "plt.scatter(data_reduced[['min_wind_speed']], data_reduced[['precipitation']])\n",
    "plt.xlabel('min_wind_speed (in km/h)')\n",
    "plt.title(\"Min Wind Speed vs Precipitation\")\n",
    "plt.show()"
   ]
  },
  {
   "cell_type": "code",
   "execution_count": null,
   "metadata": {
    "colab": {
     "base_uri": "https://localhost:8080/",
     "height": 0
    },
    "executionInfo": {
     "elapsed": 281,
     "status": "ok",
     "timestamp": 1627594420846,
     "user": {
      "displayName": "RUOCHEN WANG",
      "photoUrl": "",
      "userId": "03367450102115681037"
     },
     "user_tz": 240
    },
    "id": "1N79RfSN3qo0",
    "outputId": "70dd7b2e-0bb9-4c39-9e47-8d8cd94c4976"
   },
   "outputs": [],
   "source": [
    "#max wind gust \n",
    "plt.figure(figsize=(17,7))\n",
    "plt.subplot(1,2,1)\n",
    "plt.scatter(data_reduced[['max_wind_gust']], data_reduced[['precipitation']])\n",
    "plt.xlabel('max_wind_gustd (in km/h)')\n",
    "plt.ylabel('precipitation (in mm)')\n",
    "plt.title(\"Max Wind Gust vs Precipitation\")\n",
    "\n",
    "# wind direction \n",
    "plt.subplot(1,2,2)\n",
    "plt.scatter(data_reduced[['wind_gust_dir_10s']], data_reduced[['precipitation']])\n",
    "plt.xlabel('wind_gust_dir_10s')\n",
    "plt.title(\"Wind Gust Direction vs Precipitation\")\n",
    "plt.show()"
   ]
  },
  {
   "cell_type": "markdown",
   "metadata": {
    "id": "Gy8w8N4V3qo1"
   },
   "source": [
    "### Sea Pressure vs Precipitation "
   ]
  },
  {
   "cell_type": "code",
   "execution_count": null,
   "metadata": {
    "colab": {
     "base_uri": "https://localhost:8080/",
     "height": 0
    },
    "executionInfo": {
     "elapsed": 686,
     "status": "ok",
     "timestamp": 1627594421522,
     "user": {
      "displayName": "RUOCHEN WANG",
      "photoUrl": "",
      "userId": "03367450102115681037"
     },
     "user_tz": 240
    },
    "id": "f1CpNS1Y3qo1",
    "outputId": "bb521443-8f2e-4bfc-fa8d-bbbfde0ae2d3"
   },
   "outputs": [],
   "source": [
    "# max sea-level pressure scatterplot\n",
    "plt.figure(figsize=(17,7))\n",
    "plt.subplot(1,4,1)\n",
    "plt.scatter(data_reduced[['max_pressure_sea']], data_reduced[['precipitation']])\n",
    "plt.xlabel('max_pressure_sea (in kPa)')\n",
    "plt.ylabel('precipitation (in mm)')\n",
    "plt.title(\"Max Pressure Sea vs Precipitation\")\n",
    "\n",
    "# avg hourly sea-level pressure scatterplot\n",
    "plt.subplot(1,4,2)\n",
    "plt.scatter(data_reduced[['avg_hourly_pressure_sea']], data_reduced[['precipitation']])\n",
    "plt.xlabel('avg_hourly_pressure_sea (in kPa)')\n",
    "plt.title(\"Avg Hourly Pressure Sea vs Precipitation\")\n",
    "\n",
    "# avg sea-level pressure scatterplot\n",
    "plt.subplot(1,4,3)\n",
    "plt.scatter(data_reduced[['avg_pressure_sea']], data_reduced[['precipitation']])\n",
    "plt.xlabel('avg_pressure_sea (in kPa)')\n",
    "plt.title(\"Avg Pressure Sea vs Precipitation\")\n",
    "\n",
    "# min sea-level pressure scatterplot\n",
    "plt.subplot(1,4,4)\n",
    "plt.scatter(data_reduced[['min_pressure_sea']], data_reduced[['precipitation']])\n",
    "plt.xlabel('min_pressure_sea (in kPa)')\n",
    "plt.title(\"Min Pressure Sea vs Precipitation\")\n",
    "plt.show()"
   ]
  },
  {
   "cell_type": "markdown",
   "metadata": {
    "id": "BGxwSaFO3qo2"
   },
   "source": [
    "### Station Pressure vs Precipitation"
   ]
  },
  {
   "cell_type": "code",
   "execution_count": null,
   "metadata": {
    "colab": {
     "base_uri": "https://localhost:8080/",
     "height": 0
    },
    "executionInfo": {
     "elapsed": 712,
     "status": "ok",
     "timestamp": 1627594422228,
     "user": {
      "displayName": "RUOCHEN WANG",
      "photoUrl": "",
      "userId": "03367450102115681037"
     },
     "user_tz": 240
    },
    "id": "wAnNzRzd3qo2",
    "outputId": "4a04e0de-77ab-49b0-bdc2-0cc14d662ad2"
   },
   "outputs": [],
   "source": [
    "# max station pressure scatterplot \n",
    "plt.figure(figsize=(17,7))\n",
    "plt.subplot(1,4,1)\n",
    "plt.scatter(data_reduced[['max_pressure_station']], data_reduced[['precipitation']])\n",
    "plt.xlabel('max_pressure_station (in kPa)')\n",
    "plt.ylabel('precipitation (in mm)')\n",
    "plt.title(\"Max Pressure Station vs Precipitation\")\n",
    "\n",
    "# avg hourly station pressure scatterplot \n",
    "plt.subplot(1,4,2)\n",
    "plt.scatter(data_reduced[['avg_hourly_pressure_station']], data_reduced[['precipitation']])\n",
    "plt.xlabel('avg_hourly_pressure_station (in kPa)')\n",
    "plt.title(\"Avg Hourly Pressure Station vs Precipitation\")\n",
    "\n",
    "# avg station pressure scatterplot \n",
    "plt.subplot(1,4,3)\n",
    "plt.scatter(data_reduced[['avg_pressure_station']], data_reduced[['precipitation']])\n",
    "plt.xlabel('avg_pressure_station (in kPa)')\n",
    "plt.title(\"Avg Pressure Station vs Precipitation\")\n",
    "\n",
    "# min station pressure scatterplot \n",
    "plt.subplot(1,4,4)\n",
    "plt.scatter(data_reduced[['min_pressure_station']], data_reduced[['precipitation']])\n",
    "plt.xlabel('min_pressure_station (in kPa)')\n",
    "plt.title(\"Min Pressure Station vs Precipitation\")\n",
    "plt.show()"
   ]
  },
  {
   "cell_type": "markdown",
   "metadata": {
    "id": "4bMroRYl3qo2"
   },
   "source": [
    "### Visibility vs Precipitation"
   ]
  },
  {
   "cell_type": "code",
   "execution_count": null,
   "metadata": {
    "colab": {
     "base_uri": "https://localhost:8080/",
     "height": 0
    },
    "executionInfo": {
     "elapsed": 735,
     "status": "ok",
     "timestamp": 1627594422951,
     "user": {
      "displayName": "RUOCHEN WANG",
      "photoUrl": "",
      "userId": "03367450102115681037"
     },
     "user_tz": 240
    },
    "id": "d3Xt_Ofz3qo3",
    "outputId": "4d4a93dc-e939-419b-cd3b-e1b4f4335862"
   },
   "outputs": [],
   "source": [
    "# max visibility scatterplot\n",
    "plt.figure(figsize=(17,7))\n",
    "plt.subplot(1,4,1)\n",
    "plt.scatter(data_reduced[['max_visibility']], data_reduced[['precipitation']])\n",
    "plt.xlabel('max_visibility (in meters)')\n",
    "plt.ylabel('precipitation (in mm)')\n",
    "plt.title(\"max Visibility vs Precipitation\")\n",
    "\n",
    "# avg horuly visibility scatterplot \n",
    "plt.subplot(1,4,2)\n",
    "plt.scatter(data_reduced[['avg_hourly_visibility']], data_reduced[['precipitation']])\n",
    "plt.xlabel('avg_hourly_visibility (in meters)')\n",
    "plt.title(\"Avg Hourly Visibility vs Precipitation\")\n",
    "\n",
    "# avg visibility scatterplot\n",
    "plt.subplot(1,4,3)\n",
    "plt.scatter(data_reduced[['avg_visibility']], data_reduced[['precipitation']])\n",
    "plt.xlabel('avg_visibility (in meters)')\n",
    "plt.title(\"Avg Visibility vs Precipitation\")\n",
    "\n",
    "# min visibility scatterplot\n",
    "plt.subplot(1,4,4)\n",
    "plt.scatter(data_reduced[['min_visibility']], data_reduced[['precipitation']])\n",
    "plt.xlabel('min_visibility (in meters)')\n",
    "plt.title(\"Min Visibility vs Precipitation\")\n",
    "plt.show()"
   ]
  },
  {
   "cell_type": "markdown",
   "metadata": {
    "id": "SEg_vZ1n3qo3"
   },
   "source": [
    "### precipitation over time "
   ]
  },
  {
   "cell_type": "code",
   "execution_count": null,
   "metadata": {
    "executionInfo": {
     "elapsed": 24,
     "status": "ok",
     "timestamp": 1627594422955,
     "user": {
      "displayName": "RUOCHEN WANG",
      "photoUrl": "",
      "userId": "03367450102115681037"
     },
     "user_tz": 240
    },
    "id": "96Xz1w7D3qo3"
   },
   "outputs": [],
   "source": [
    "def extract_date_elements(dataset):\n",
    "    '''\n",
    "    Extract the month, year, qtr and week of the year from the date element. \n",
    "    Qtrs codebok: {1: Winter, 2: Spring, 3: Summer, 4: Fall}\n",
    "    '''\n",
    "    #create storage for the date values of each observation\n",
    "    years = []\n",
    "    months = []\n",
    "    # iterate through each row to extract dates, if a null exists add it for all components of the date \n",
    "    for row in dataset[\"date\"]:\n",
    "        if str(row) != 'nan':\n",
    "            row = str(row)[:10]\n",
    "            year = int(row[:4])\n",
    "            month = int(row[5:7])\n",
    "            years.append(year)\n",
    "            months.append(month)\n",
    "        else:\n",
    "            years.append(row)\n",
    "            months.append(row)\n",
    "    #alter the original dataset by added the decomposed date info into individual columns \n",
    "    dataset[\"Year\"] = years\n",
    "    dataset[\"Month\"] = months\n",
    "    #convert the str representing a date into a  date object\n",
    "    dates = pd.to_datetime(dataset.date)\n",
    "    #extract info about financial quarters \n",
    "    dataset[\"Season\"] = dates.dt.quarter\n",
    "    dataset[\"WkofYr\"] = dates.dt.weekofyear\n",
    "    return dataset"
   ]
  },
  {
   "cell_type": "code",
   "execution_count": null,
   "metadata": {
    "colab": {
     "base_uri": "https://localhost:8080/",
     "height": 0
    },
    "executionInfo": {
     "elapsed": 22,
     "status": "ok",
     "timestamp": 1627594422956,
     "user": {
      "displayName": "RUOCHEN WANG",
      "photoUrl": "",
      "userId": "03367450102115681037"
     },
     "user_tz": 240
    },
    "id": "2pILwbAK3qo3",
    "outputId": "70a52661-0815-4409-9749-7af4fc456706"
   },
   "outputs": [],
   "source": [
    "date_precip_df = data_reduced[['date','precipitation','wet_7cum']]\n",
    "extract_date_elements(date_precip_df)"
   ]
  },
  {
   "cell_type": "markdown",
   "metadata": {
    "id": "H9KZjBb43qo4"
   },
   "source": [
    "### Average Precipitation Every Month "
   ]
  },
  {
   "cell_type": "code",
   "execution_count": null,
   "metadata": {
    "colab": {
     "base_uri": "https://localhost:8080/",
     "height": 0
    },
    "executionInfo": {
     "elapsed": 17,
     "status": "ok",
     "timestamp": 1627594422957,
     "user": {
      "displayName": "RUOCHEN WANG",
      "photoUrl": "",
      "userId": "03367450102115681037"
     },
     "user_tz": 240
    },
    "id": "am1QHRfN3qo4",
    "outputId": "4a2d8f80-81ff-4858-8552-814fca3f631e"
   },
   "outputs": [],
   "source": [
    "#calculating the average preciptation of every month \n",
    "month_df = date_precip_df.groupby(['Month'], as_index=False).mean()\n",
    "month_df.sort_values('Month')\n",
    "month_df"
   ]
  },
  {
   "cell_type": "code",
   "execution_count": null,
   "metadata": {
    "colab": {
     "base_uri": "https://localhost:8080/",
     "height": 0
    },
    "executionInfo": {
     "elapsed": 561,
     "status": "ok",
     "timestamp": 1627594423503,
     "user": {
      "displayName": "RUOCHEN WANG",
      "photoUrl": "",
      "userId": "03367450102115681037"
     },
     "user_tz": 240
    },
    "id": "JuwJygqW3qo4",
    "outputId": "aecac1ee-a51e-4999-9b8e-c9747b042706"
   },
   "outputs": [],
   "source": [
    "months = ['January', 'February', 'March', 'April', 'May', 'June',\n",
    "          'July', 'August', 'September', 'October', 'November', 'December'] # month labels \n",
    "\n",
    "sns.barplot(x=\"Month\", y=\"precipitation\", hue=\"Season\", data=month_df, dodge=False)\n",
    "plt.xticks(np.arange(0, 12), months, rotation=90) # convert numbers to months \n",
    "plt.title('Average Precipitation During the Year (Months)')\n",
    "plt.ylabel('Precipitation (in mm)')"
   ]
  },
  {
   "cell_type": "markdown",
   "metadata": {
    "id": "1Wp-mWKD3qo5"
   },
   "source": [
    "### Most Precipitation Ever Recorded for Every Month "
   ]
  },
  {
   "cell_type": "code",
   "execution_count": null,
   "metadata": {
    "colab": {
     "base_uri": "https://localhost:8080/",
     "height": 0
    },
    "executionInfo": {
     "elapsed": 16,
     "status": "ok",
     "timestamp": 1627594423505,
     "user": {
      "displayName": "RUOCHEN WANG",
      "photoUrl": "",
      "userId": "03367450102115681037"
     },
     "user_tz": 240
    },
    "id": "uUXbjjKi3qo5",
    "outputId": "9187c9ed-e4d2-403f-b4e9-2e7e35b39749"
   },
   "outputs": [],
   "source": [
    "month_df = date_precip_df.groupby(['Month'], as_index=False).max()\n",
    "month_df"
   ]
  },
  {
   "cell_type": "code",
   "execution_count": null,
   "metadata": {
    "colab": {
     "base_uri": "https://localhost:8080/",
     "height": 0
    },
    "executionInfo": {
     "elapsed": 555,
     "status": "ok",
     "timestamp": 1627594424049,
     "user": {
      "displayName": "RUOCHEN WANG",
      "photoUrl": "",
      "userId": "03367450102115681037"
     },
     "user_tz": 240
    },
    "id": "qE9SeV4L3qo5",
    "outputId": "a5084711-12e0-43ee-ef77-4811f5d49bf7"
   },
   "outputs": [],
   "source": [
    "sns.barplot(x=\"Month\", y=\"precipitation\", hue=\"Season\", data=month_df, dodge=False)\n",
    "plt.xticks(np.arange(0, 12), months, rotation=90)\n",
    "plt.xlabel('Month')\n",
    "plt.ylabel('Precipitation (in mm)')\n",
    "plt.title('Average Precipitation During the Year (Months)')\n",
    "plt.show()"
   ]
  },
  {
   "cell_type": "markdown",
   "metadata": {
    "id": "mw9OWr773qo5"
   },
   "source": [
    "### Number of Raindays in Each Month"
   ]
  },
  {
   "cell_type": "code",
   "execution_count": null,
   "metadata": {
    "colab": {
     "base_uri": "https://localhost:8080/",
     "height": 0
    },
    "executionInfo": {
     "elapsed": 17,
     "status": "ok",
     "timestamp": 1627594424050,
     "user": {
      "displayName": "RUOCHEN WANG",
      "photoUrl": "",
      "userId": "03367450102115681037"
     },
     "user_tz": 240
    },
    "id": "KlYV6PEb3qo5",
    "outputId": "b291a2f9-4f95-4560-cc5f-3258f662e9b6"
   },
   "outputs": [],
   "source": [
    "#get every day in the dataset where there is precipiation \n",
    "wet_days = date_precip_df.loc[date_precip_df.precipitation > 0]\n",
    "wet_days"
   ]
  },
  {
   "cell_type": "code",
   "execution_count": null,
   "metadata": {
    "colab": {
     "base_uri": "https://localhost:8080/",
     "height": 0
    },
    "executionInfo": {
     "elapsed": 14,
     "status": "ok",
     "timestamp": 1627594424051,
     "user": {
      "displayName": "RUOCHEN WANG",
      "photoUrl": "",
      "userId": "03367450102115681037"
     },
     "user_tz": 240
    },
    "id": "FavhwCJI3qo6",
    "outputId": "f4a9e91b-4608-4e05-f677-a037966cc8b8"
   },
   "outputs": [],
   "source": [
    "#count the cumulative number of wet days in each month\n",
    "wet_count = wet_days.groupby(['Month'], as_index=False).count()\n",
    "wet_count "
   ]
  },
  {
   "cell_type": "code",
   "execution_count": null,
   "metadata": {
    "colab": {
     "base_uri": "https://localhost:8080/",
     "height": 0
    },
    "executionInfo": {
     "elapsed": 331,
     "status": "ok",
     "timestamp": 1627594424371,
     "user": {
      "displayName": "RUOCHEN WANG",
      "photoUrl": "",
      "userId": "03367450102115681037"
     },
     "user_tz": 240
    },
    "id": "vkwlDRB63qo6",
    "outputId": "db86c2ff-cd86-4a57-da29-a737b342a32e"
   },
   "outputs": [],
   "source": [
    "sns.barplot(x=\"Month\", y=\"precipitation\", data=wet_count, dodge=False)\n",
    "plt.xticks(np.arange(0, 12), months, rotation=90)\n",
    "plt.xlabel('Month')\n",
    "plt.ylabel('Number of Days')\n",
    "plt.title('Number of Wet Days in each Month')\n",
    "plt.show()"
   ]
  },
  {
   "cell_type": "markdown",
   "metadata": {
    "id": "l0dySkyG3qo6"
   },
   "source": [
    "### Average Precipitation Every Season"
   ]
  },
  {
   "cell_type": "code",
   "execution_count": null,
   "metadata": {
    "colab": {
     "base_uri": "https://localhost:8080/",
     "height": 0
    },
    "executionInfo": {
     "elapsed": 14,
     "status": "ok",
     "timestamp": 1627594424372,
     "user": {
      "displayName": "RUOCHEN WANG",
      "photoUrl": "",
      "userId": "03367450102115681037"
     },
     "user_tz": 240
    },
    "id": "NVWRt3yJ3qo6",
    "outputId": "b31fd9a8-6071-4372-9528-15f111a80104"
   },
   "outputs": [],
   "source": [
    "season_df = date_precip_df.groupby(['Season'], as_index=False).mean()\n",
    "season_df"
   ]
  },
  {
   "cell_type": "code",
   "execution_count": null,
   "metadata": {
    "colab": {
     "base_uri": "https://localhost:8080/",
     "height": 0
    },
    "executionInfo": {
     "elapsed": 182,
     "status": "ok",
     "timestamp": 1627594424545,
     "user": {
      "displayName": "RUOCHEN WANG",
      "photoUrl": "",
      "userId": "03367450102115681037"
     },
     "user_tz": 240
    },
    "id": "vM085K3v3qo7",
    "outputId": "76fea10c-c05a-4a8c-b8e4-a76674f48828"
   },
   "outputs": [],
   "source": [
    "seasons = ['Winter', 'Spring', 'Summer', 'Fall'] # season labels \n",
    "\n",
    "sns.barplot(x=\"Season\", y=\"precipitation\", data=season_df, dodge=False)\n",
    "plt.xticks(np.arange(0, 4), seasons) # convert numbers to seasons \n",
    "plt.xlabel('Season')\n",
    "plt.ylabel('Precipitation (in mm)')\n",
    "plt.title('Precipitation over time')\n",
    "plt.show()"
   ]
  },
  {
   "cell_type": "markdown",
   "metadata": {
    "id": "Wew9MmV83qo7"
   },
   "source": [
    "### Number of Rainy Days Each Season"
   ]
  },
  {
   "cell_type": "code",
   "execution_count": null,
   "metadata": {
    "colab": {
     "base_uri": "https://localhost:8080/",
     "height": 0
    },
    "executionInfo": {
     "elapsed": 13,
     "status": "ok",
     "timestamp": 1627594424546,
     "user": {
      "displayName": "RUOCHEN WANG",
      "photoUrl": "",
      "userId": "03367450102115681037"
     },
     "user_tz": 240
    },
    "id": "Q-Jd7prM3qo7",
    "outputId": "efcec9e9-23bf-4d94-e7bf-8569e081ed2b"
   },
   "outputs": [],
   "source": [
    "#count the cumulative number of wet days in each season\n",
    "wet_season = wet_days.groupby(['Season'], as_index=False).count()\n",
    "wet_season"
   ]
  },
  {
   "cell_type": "code",
   "execution_count": null,
   "metadata": {
    "colab": {
     "base_uri": "https://localhost:8080/",
     "height": 0
    },
    "executionInfo": {
     "elapsed": 176,
     "status": "ok",
     "timestamp": 1627594424712,
     "user": {
      "displayName": "RUOCHEN WANG",
      "photoUrl": "",
      "userId": "03367450102115681037"
     },
     "user_tz": 240
    },
    "id": "sj9Cb8R13qo8",
    "outputId": "b59f2f7a-e0af-49cf-bca0-9ab3e8dff9c5"
   },
   "outputs": [],
   "source": [
    "sns.barplot(x=\"Season\", y=\"precipitation\", data=wet_season, dodge=False)\n",
    "plt.xticks(np.arange(0, 4), seasons) # convert numbers to seasons \n",
    "plt.xlabel('Season')\n",
    "plt.ylabel('number of Days')\n",
    "plt.title('Number of Rainy Days Each Season')\n",
    "plt.show()"
   ]
  },
  {
   "cell_type": "markdown",
   "metadata": {},
   "source": [
    "### Number of Rainy Days in a Week vs. Precipitation"
   ]
  },
  {
   "cell_type": "code",
   "execution_count": null,
   "metadata": {},
   "outputs": [],
   "source": [
    "plt.figure(figsize=(17,7))\n",
    "sns.barplot(data=date_precip_df, x='wet_7cum', y='precipitation' ,hue='Season')\n",
    "plt.xlabel('Number of rainy days in a week')\n",
    "plt.ylabel('Precipitation (in mm)')\n",
    "plt.title('Amount of Precipitation Today vs. Wet Days in the Past Week')\n",
    "plt.show()"
   ]
  },
  {
   "cell_type": "markdown",
   "metadata": {
    "id": "MBUsRFWJ3qo8"
   },
   "source": [
    "<br></br>\n",
    "<br></br>\n",
    "<br></br>\n",
    "<br></br>\n",
    "<br></br>\n",
    "<br></br>\n",
    "<br></br>\n",
    "<br></br>\n",
    "<br></br>\n",
    "<br></br>\n",
    "<br></br>\n",
    "<br></br>\n",
    "<br></br>\n",
    "<br></br>\n",
    "<br></br>\n",
    "<br></br>\n",
    "<br></br>\n",
    "<br></br>\n",
    "<br></br>\n",
    "<br></br>\n",
    "<br></br>\n",
    "<br></br>\n",
    "<br></br>\n",
    "<br></br>\n",
    "<br></br>\n",
    "<br></br>\n",
    "<br></br>\n",
    "<br></br>\n",
    "# Data Preprocessing  "
   ]
  },
  {
   "cell_type": "markdown",
   "metadata": {},
   "source": [
    "In this section, we will remove the precipitation column. Then split the dataset into our features/ independent variables and our target variable. "
   ]
  },
  {
   "cell_type": "code",
   "execution_count": null,
   "metadata": {
    "executionInfo": {
     "elapsed": 7,
     "status": "ok",
     "timestamp": 1627594424713,
     "user": {
      "displayName": "RUOCHEN WANG",
      "photoUrl": "",
      "userId": "03367450102115681037"
     },
     "user_tz": 240
    },
    "id": "ueowdYBA3qo8"
   },
   "outputs": [],
   "source": [
    "# set which variables will be used as the features and which will be the target variable\n",
    "X_reduced = data_reduced.drop(columns=['precipitation', 'wet_tomorrow'])\n",
    "y_reduced = data_reduced[['wet_tomorrow']]"
   ]
  },
  {
   "cell_type": "code",
   "execution_count": null,
   "metadata": {
    "executionInfo": {
     "elapsed": 115,
     "status": "ok",
     "timestamp": 1627594424821,
     "user": {
      "displayName": "RUOCHEN WANG",
      "photoUrl": "",
      "userId": "03367450102115681037"
     },
     "user_tz": 240
    },
    "id": "2VkcIytQ3qo9"
   },
   "outputs": [],
   "source": [
    "#split the dataset\n",
    "from sklearn.model_selection import train_test_split\n",
    "\n",
    "Xtrain, Xtest, ytrain, ytest = train_test_split(X_reduced, y_reduced, test_size=0.30)"
   ]
  },
  {
   "cell_type": "markdown",
   "metadata": {},
   "source": [
    "After splitting the dataset we extract time features such as `Month`, `Year`, `Season`, etc. This could help us as the amount of days of rain/precipitation changesdepending on season. "
   ]
  },
  {
   "cell_type": "code",
   "execution_count": null,
   "metadata": {
    "colab": {
     "base_uri": "https://localhost:8080/",
     "height": 0
    },
    "executionInfo": {
     "elapsed": 126,
     "status": "ok",
     "timestamp": 1627594424938,
     "user": {
      "displayName": "RUOCHEN WANG",
      "photoUrl": "",
      "userId": "03367450102115681037"
     },
     "user_tz": 240
    },
    "id": "5NxKT4DR3qo9",
    "outputId": "52cf72f0-9045-4c32-fa07-4203de425430"
   },
   "outputs": [],
   "source": [
    "# extract time-based features from the date\n",
    "Xtrain_seasonal = extract_date_elements(Xtrain.copy())\n",
    "Xtrain_seasonal.drop(columns=['date'], inplace = True)"
   ]
  },
  {
   "cell_type": "markdown",
   "metadata": {},
   "source": [
    "After extracting seasonal data we can one hot encode the season varibable to get indicator variables to determine which season a variable belongs to. We chose to one hot encode to ensure that alogorithm doesnt ecode any uwanted numerical behaviours about the order in which seasons come. Moreover, there is no way to encode that Fall comes after winter when all the seasons are in one column.  \n",
    "\n",
    "Now that each season is represented by its own column, we want to remove one of the season columns since a zero in 3 of the remaining columns in an instance will represent the 4th column that is absent in the  dataset. We choose to remove the summer column as it has the least amount of wet days for in the dataset. "
   ]
  },
  {
   "cell_type": "code",
   "execution_count": null,
   "metadata": {},
   "outputs": [],
   "source": [
    "#one hot encode the season variable \n",
    "ohe_season = pd.get_dummies(Xtrain_seasonal.Season)\n",
    "ohe_season.rename(columns={1:'Winter',2:'Spring',3:'Summer',4:'Fall'}, inplace= True) #rename column from number to names\n",
    "ohe_season.drop(columns=['Summer'], inplace= True) #drop the extra column bc summer has the least number of rainy days\n",
    "Xtrain_seasonal = pd.concat([Xtrain_seasonal, ohe_season], axis=1) #combine the ohe variables with the original dataset\n",
    "Xtrain_seasonal.drop(columns=['Season'], inplace= True)"
   ]
  },
  {
   "cell_type": "code",
   "execution_count": null,
   "metadata": {},
   "outputs": [],
   "source": [
    "Xtrain_seasonal"
   ]
  },
  {
   "cell_type": "markdown",
   "metadata": {
    "id": "subJsNEA3qo9"
   },
   "source": [
    "### Reducing Multicollinearity "
   ]
  },
  {
   "cell_type": "markdown",
   "metadata": {
    "id": "CMoWzPuJ3qo-"
   },
   "source": [
    "In this section we will try to reduce multicollinearity throughout the datset. Multicollinearity can be found in independent variables that have high correlation with other independent variables. Thus, we will keep only one variable from a set of variables that measure the same phenomenon. The criterion to keep a variable is to have the highest correlation of all the variables in the set of variables that measure the same phenomenon.\n",
    "\n",
    "We will start with the variables that measure temperature."
   ]
  },
  {
   "cell_type": "code",
   "execution_count": null,
   "metadata": {
    "executionInfo": {
     "elapsed": 9,
     "status": "ok",
     "timestamp": 1627594424939,
     "user": {
      "displayName": "RUOCHEN WANG",
      "photoUrl": "",
      "userId": "03367450102115681037"
     },
     "user_tz": 240
    },
    "id": "7UWKtfJY3qo-"
   },
   "outputs": [],
   "source": [
    "train_set = pd.concat([Xtrain_seasonal, ytrain], axis= 1)"
   ]
  },
  {
   "cell_type": "code",
   "execution_count": null,
   "metadata": {
    "colab": {
     "base_uri": "https://localhost:8080/",
     "height": 0
    },
    "executionInfo": {
     "elapsed": 1352,
     "status": "ok",
     "timestamp": 1627594426283,
     "user": {
      "displayName": "RUOCHEN WANG",
      "photoUrl": "",
      "userId": "03367450102115681037"
     },
     "user_tz": 240
    },
    "id": "w13xQ6qJ3qo-",
    "outputId": "cc22bf3e-e437-4813-b246-77cb13e362c0"
   },
   "outputs": [],
   "source": [
    "# reducing multicollinearity in temperature \n",
    "cols = ['max_temperature','avg_hourly_temperature','avg_temperature','min_temperature',\n",
    "       'max_dew_point','avg_hourly_dew_point','avg_dew_point','min_dew_point',\n",
    "       'heatdegdays','cooldegdays','growdegdays_5','growdegdays_7','growdegdays_10',\n",
    "       'wet_tomorrow']\n",
    "\n",
    "#calculate the correlation\n",
    "temp_corr_matrix = train_set[cols].corr()\n",
    "#plot the matrix \n",
    "plt.figure(figsize=(12,12))\n",
    "temp_corr_plot = sns.heatmap(temp_corr_matrix, cmap=\"YlOrRd\", annot= True, vmin=-1, vmax=1)\n",
    "temp_corr_plot.set_title(\"Temp Correlation\")\n",
    "plt.show()"
   ]
  },
  {
   "cell_type": "code",
   "execution_count": null,
   "metadata": {
    "colab": {
     "base_uri": "https://localhost:8080/"
    },
    "executionInfo": {
     "elapsed": 19,
     "status": "ok",
     "timestamp": 1627594426284,
     "user": {
      "displayName": "RUOCHEN WANG",
      "photoUrl": "",
      "userId": "03367450102115681037"
     },
     "user_tz": 240
    },
    "id": "y_rpH_Fz3qo_",
    "outputId": "fd26512f-4512-4484-ecb0-6ef247e5d3f0"
   },
   "outputs": [],
   "source": [
    "train_set[cols].corr()['wet_tomorrow'].sort_values(ascending=False)"
   ]
  },
  {
   "cell_type": "code",
   "execution_count": null,
   "metadata": {
    "colab": {
     "base_uri": "https://localhost:8080/"
    },
    "executionInfo": {
     "elapsed": 10,
     "status": "ok",
     "timestamp": 1627594426285,
     "user": {
      "displayName": "RUOCHEN WANG",
      "photoUrl": "",
      "userId": "03367450102115681037"
     },
     "user_tz": 240
    },
    "id": "tdVP9TGN3qo_",
    "outputId": "abf4c9f4-8058-4935-91ac-0a8fd1bbc714"
   },
   "outputs": [],
   "source": [
    "# drop cols that have high correlation between similar independent variables and low correlation with the target variable\n",
    "drop_cols = ['avg_dew_point', 'max_dew_point', 'avg_hourly_dew_point', \n",
    "            'avg_temperature', 'avg_hourly_temperature', 'max_temperature',\n",
    "            'heatdegdays', 'growdegdays_5','growdegdays_7','growdegdays_10']\n",
    "Xtrain_seasonal.drop(columns=drop_cols, inplace = True)\n",
    "train_set.drop(columns=drop_cols, inplace = True)"
   ]
  },
  {
   "cell_type": "markdown",
   "metadata": {
    "id": "3hILTiwT3qpA"
   },
   "source": [
    "Next lets look at the variables that measure humidity and wind."
   ]
  },
  {
   "cell_type": "code",
   "execution_count": null,
   "metadata": {
    "colab": {
     "base_uri": "https://localhost:8080/",
     "height": 0
    },
    "executionInfo": {
     "elapsed": 926,
     "status": "ok",
     "timestamp": 1627594427203,
     "user": {
      "displayName": "RUOCHEN WANG",
      "photoUrl": "",
      "userId": "03367450102115681037"
     },
     "user_tz": 240
    },
    "id": "igilcNFr3qpA",
    "outputId": "4824d703-0778-4a79-fb4d-fbf0915484f0"
   },
   "outputs": [],
   "source": [
    "cols = ['max_relative_humidity','avg_hourly_relative_humidity','avg_relative_humidity','min_relative_humidity',\n",
    "        'max_wind_speed','avg_hourly_wind_speed','avg_wind_speed','min_wind_speed','max_wind_gust','wind_gust_dir_10s',\n",
    "        'wet_tomorrow']\n",
    "#calculate the correlation\n",
    "hum_corr_matrix = train_set[cols].corr()\n",
    "#plot the matrix \n",
    "plt.figure(figsize=(12,12))\n",
    "hum_corr_plot = sns.heatmap(hum_corr_matrix, cmap=\"YlOrRd\", annot= True, vmin=-1, vmax=1)\n",
    "hum_corr_plot.set_title(\"Wind & Humidity Correlation\")\n",
    "plt.show()"
   ]
  },
  {
   "cell_type": "code",
   "execution_count": null,
   "metadata": {
    "colab": {
     "base_uri": "https://localhost:8080/"
    },
    "executionInfo": {
     "elapsed": 15,
     "status": "ok",
     "timestamp": 1627594427204,
     "user": {
      "displayName": "RUOCHEN WANG",
      "photoUrl": "",
      "userId": "03367450102115681037"
     },
     "user_tz": 240
    },
    "id": "T5FWZm9e3qpA",
    "outputId": "a7b19823-6ff9-49b6-b2c1-9b2f8eaefa8d"
   },
   "outputs": [],
   "source": [
    "train_set[cols].corr()['wet_tomorrow'].sort_values(ascending=False)"
   ]
  },
  {
   "cell_type": "code",
   "execution_count": null,
   "metadata": {
    "colab": {
     "base_uri": "https://localhost:8080/"
    },
    "executionInfo": {
     "elapsed": 10,
     "status": "ok",
     "timestamp": 1627594427205,
     "user": {
      "displayName": "RUOCHEN WANG",
      "photoUrl": "",
      "userId": "03367450102115681037"
     },
     "user_tz": 240
    },
    "id": "2UFmeDG83qpB",
    "outputId": "3777818f-e6d9-403e-821f-cd044036943c"
   },
   "outputs": [],
   "source": [
    "# drop cols that have high correlation between similar independent variables and low correlation with the target variable\n",
    "drop_cols = ['min_relative_humidity', 'avg_hourly_relative_humidity', 'max_relative_humidity', \n",
    "            'avg_wind_speed', 'min_wind_speed', 'max_wind_speed']\n",
    "Xtrain_seasonal.drop(columns=drop_cols, inplace = True)\n",
    "train_set.drop(columns=drop_cols, inplace = True)"
   ]
  },
  {
   "cell_type": "markdown",
   "metadata": {
    "id": "QNDfExcw3qpB"
   },
   "source": [
    "Next lets look at the variables that measure Pressure and Visibility."
   ]
  },
  {
   "cell_type": "code",
   "execution_count": null,
   "metadata": {
    "colab": {
     "base_uri": "https://localhost:8080/",
     "height": 0
    },
    "executionInfo": {
     "elapsed": 1058,
     "status": "ok",
     "timestamp": 1627594428255,
     "user": {
      "displayName": "RUOCHEN WANG",
      "photoUrl": "",
      "userId": "03367450102115681037"
     },
     "user_tz": 240
    },
    "id": "I0d2YHlF3qpB",
    "outputId": "78a4e0cd-8970-48bf-d573-0974e638222f"
   },
   "outputs": [],
   "source": [
    "cols = ['max_pressure_sea','avg_hourly_pressure_sea','avg_pressure_sea','min_pressure_sea',\n",
    "        'max_pressure_station','avg_hourly_pressure_station','avg_pressure_station','min_pressure_station',\n",
    "           'max_visibility','avg_hourly_visibility','avg_visibility','min_visibility', 'wet_tomorrow']\n",
    "#calculate the correlation\n",
    "pressure_corr_matrix = train_set[cols].corr()\n",
    "#plot the matrix \n",
    "plt.figure(figsize=(12,12))\n",
    "pressure_corr_plot = sns.heatmap(pressure_corr_matrix, cmap=\"YlOrRd\", annot= True, vmin=-1, vmax=1)\n",
    "pressure_corr_plot.set_title(\"Pressure & Visibility Correlation\")\n",
    "plt.show()"
   ]
  },
  {
   "cell_type": "code",
   "execution_count": null,
   "metadata": {
    "colab": {
     "base_uri": "https://localhost:8080/"
    },
    "executionInfo": {
     "elapsed": 17,
     "status": "ok",
     "timestamp": 1627594428255,
     "user": {
      "displayName": "RUOCHEN WANG",
      "photoUrl": "",
      "userId": "03367450102115681037"
     },
     "user_tz": 240
    },
    "id": "X-ioXU10F65v",
    "outputId": "78a6eb9a-ec6b-4174-d03c-4c3906aab2f3"
   },
   "outputs": [],
   "source": [
    "train_set.columns"
   ]
  },
  {
   "cell_type": "code",
   "execution_count": null,
   "metadata": {
    "colab": {
     "base_uri": "https://localhost:8080/"
    },
    "executionInfo": {
     "elapsed": 12,
     "status": "ok",
     "timestamp": 1627594428256,
     "user": {
      "displayName": "RUOCHEN WANG",
      "photoUrl": "",
      "userId": "03367450102115681037"
     },
     "user_tz": 240
    },
    "id": "BTDCF0SWF65w",
    "outputId": "aed7dad7-1a48-44f7-dcec-098561d78354"
   },
   "outputs": [],
   "source": [
    "train_set[cols].corr()['wet_tomorrow'].sort_values(ascending=False)"
   ]
  },
  {
   "cell_type": "code",
   "execution_count": null,
   "metadata": {
    "colab": {
     "base_uri": "https://localhost:8080/"
    },
    "executionInfo": {
     "elapsed": 10,
     "status": "ok",
     "timestamp": 1627594428256,
     "user": {
      "displayName": "RUOCHEN WANG",
      "photoUrl": "",
      "userId": "03367450102115681037"
     },
     "user_tz": 240
    },
    "id": "XyKVXRTJ3qpB",
    "outputId": "445b2e5a-847f-44b3-faf4-1801bef639c0"
   },
   "outputs": [],
   "source": [
    "# drop cols that have high correlation between similar independent variables and low correlation with the target variable\n",
    "drop_cols = ['max_pressure_station', 'avg_pressure_station', 'min_pressure_station', \n",
    "            'max_pressure_sea', 'avg_pressure_sea', 'min_pressure_sea',\n",
    "            'min_visibility', 'max_visibility']\n",
    "Xtrain_seasonal.drop(columns=drop_cols, inplace = True)\n",
    "train_set.drop(columns=drop_cols, inplace = True)"
   ]
  },
  {
   "cell_type": "markdown",
   "metadata": {
    "id": "Vbh3HgfZ3qpC"
   },
   "source": [
    "Now we can observe the training set after have removed variables with high multicollinearity. As we can see we have reduced the dataset to 19 columns. This is a significant reduction after starting with as many as 40 columns in the training set and 72 columns from the original dataset. "
   ]
  },
  {
   "cell_type": "code",
   "execution_count": null,
   "metadata": {
    "colab": {
     "base_uri": "https://localhost:8080/"
    },
    "executionInfo": {
     "elapsed": 9,
     "status": "ok",
     "timestamp": 1627594428257,
     "user": {
      "displayName": "RUOCHEN WANG",
      "photoUrl": "",
      "userId": "03367450102115681037"
     },
     "user_tz": 240
    },
    "id": "qUWiZmqd3qpC",
    "outputId": "520b63ec-0796-43e4-df33-9e1854ebb8d7"
   },
   "outputs": [],
   "source": [
    "train_set.shape"
   ]
  },
  {
   "cell_type": "code",
   "execution_count": null,
   "metadata": {
    "colab": {
     "base_uri": "https://localhost:8080/",
     "height": 0
    },
    "executionInfo": {
     "elapsed": 1707,
     "status": "ok",
     "timestamp": 1627594429957,
     "user": {
      "displayName": "RUOCHEN WANG",
      "photoUrl": "",
      "userId": "03367450102115681037"
     },
     "user_tz": 240
    },
    "id": "QBvxa-xz3qpC",
    "outputId": "c5d66214-6b4f-4c88-f6d5-796c8986e1ae",
    "scrolled": true
   },
   "outputs": [],
   "source": [
    "#calculate the correlation\n",
    "train_corr_matrix = train_set.corr().round(2)\n",
    "#plot the matrix \n",
    "plt.figure(figsize=(12,12))\n",
    "train_corr_plot = sns.heatmap(train_corr_matrix, cmap=\"YlOrRd\", annot= True, vmin=-1, vmax=1)\n",
    "train_corr_plot.set_title(\"Training Set Correlation\")\n",
    "plt.show()"
   ]
  },
  {
   "cell_type": "code",
   "execution_count": null,
   "metadata": {
    "colab": {
     "base_uri": "https://localhost:8080/"
    },
    "executionInfo": {
     "elapsed": 27,
     "status": "ok",
     "timestamp": 1627594429958,
     "user": {
      "displayName": "RUOCHEN WANG",
      "photoUrl": "",
      "userId": "03367450102115681037"
     },
     "user_tz": 240
    },
    "id": "teY7tEw73qpC",
    "outputId": "b03be3bd-b1f1-4a69-d4e9-86a63657d258"
   },
   "outputs": [],
   "source": [
    "Xtrain_seasonal.drop(columns=['WkofYr'], inplace = True)\n",
    "train_set.drop(columns=['WkofYr'], inplace = True)"
   ]
  },
  {
   "cell_type": "code",
   "execution_count": null,
   "metadata": {
    "colab": {
     "base_uri": "https://localhost:8080/"
    },
    "executionInfo": {
     "elapsed": 20,
     "status": "ok",
     "timestamp": 1627594429958,
     "user": {
      "displayName": "RUOCHEN WANG",
      "photoUrl": "",
      "userId": "03367450102115681037"
     },
     "user_tz": 240
    },
    "id": "l8OOFXJyF650",
    "outputId": "9c6b72d8-60b3-4a72-a7cb-a56b4a3404f4"
   },
   "outputs": [],
   "source": [
    "train_cols = Xtrain_seasonal.columns"
   ]
  },
  {
   "cell_type": "code",
   "execution_count": null,
   "metadata": {},
   "outputs": [],
   "source": [
    "Xtrain_seasonal.shape"
   ]
  },
  {
   "cell_type": "code",
   "execution_count": null,
   "metadata": {
    "executionInfo": {
     "elapsed": 18,
     "status": "ok",
     "timestamp": 1627594429959,
     "user": {
      "displayName": "RUOCHEN WANG",
      "photoUrl": "",
      "userId": "03367450102115681037"
     },
     "user_tz": 240
    },
    "id": "cryzrZUn3qpC"
   },
   "outputs": [],
   "source": [
    "#graph= sns.pairplot(train_set, hue= \"wet_tomorrow\")\n",
    "#graph.fig.suptitle(\"Training Set Pair-Plot\")\n",
    "#plt.show()"
   ]
  },
  {
   "cell_type": "markdown",
   "metadata": {
    "id": "4k1caOeG3qpC"
   },
   "source": [
    "### Feature Scaling "
   ]
  },
  {
   "cell_type": "code",
   "execution_count": null,
   "metadata": {
    "executionInfo": {
     "elapsed": 17,
     "status": "ok",
     "timestamp": 1627594429960,
     "user": {
      "displayName": "RUOCHEN WANG",
      "photoUrl": "",
      "userId": "03367450102115681037"
     },
     "user_tz": 240
    },
    "id": "vjFhSyJ13qpD"
   },
   "outputs": [],
   "source": [
    "# choose a standardization scaler since the dataset has a lot of outliers present.\n",
    "from sklearn.preprocessing import StandardScaler\n",
    "\n",
    "std_scaler = StandardScaler()\n",
    "X_train_scaled = std_scaler.fit_transform(Xtrain_seasonal)"
   ]
  },
  {
   "cell_type": "code",
   "execution_count": null,
   "metadata": {},
   "outputs": [],
   "source": [
    "X_train_scaled.shape"
   ]
  },
  {
   "cell_type": "markdown",
   "metadata": {
    "id": "O_00_cqF3qpD"
   },
   "source": [
    "<br></br>\n",
    "<br></br>\n",
    "<br></br>\n",
    "<br></br>\n",
    "<br></br>\n",
    "<br></br>\n",
    "<br></br>\n",
    "<br></br>\n",
    "<br></br>\n",
    "<br></br>\n",
    "<br></br>\n",
    "<br></br>\n",
    "<br></br>\n",
    "<br></br>\n",
    "<br></br>\n",
    "<br></br>\n",
    "<br></br>\n",
    "<br></br>\n",
    "<br></br>\n",
    "<br></br>\n",
    "<br></br>\n",
    "<br></br>\n",
    "<br></br>\n",
    "<br></br>\n",
    "<br></br>\n",
    "<br></br>\n",
    "<br></br>\n",
    "<br></br>\n",
    "# Modelling  "
   ]
  },
  {
   "cell_type": "markdown",
   "metadata": {
    "id": "UoHDvM-h3qpD"
   },
   "source": [
    "### KNN"
   ]
  }
 ],
 "metadata": {
  "colab": {
   "collapsed_sections": [
    "ZpdaUxa63qof",
    "yfxCF3_N3qok",
    "g-40HzNy3qoo",
    "XK-1i4a63qot",
    "0Lo3wdfb3qox",
    "2VZXFOmI3qoy",
    "fgkzwXdv3qoz",
    "ZVGzZNCB3qoz",
    "RuWiJRRu3qo0",
    "Gy8w8N4V3qo1",
    "BGxwSaFO3qo2",
    "4bMroRYl3qo2",
    "SEg_vZ1n3qo3",
    "H9KZjBb43qo4",
    "1Wp-mWKD3qo5",
    "mw9OWr773qo5",
    "l0dySkyG3qo6",
    "Wew9MmV83qo7",
    "subJsNEA3qo9",
    "4k1caOeG3qpC",
    "UoHDvM-h3qpD",
    "i_LRzJ5k3qpE",
    "ODIv3EvH3qpF",
    "Fyzq7J6n3qpH",
    "FCgbJoFx3qpK",
    "8IbY23G43qpL",
    "gSe0gn6JF659",
    "LySfNqgn3qpN",
    "r99bZrJo3qpO",
    "4uhKL_al3qpX",
    "A_zx8otbF66E"
   ],
   "name": "Final- Toronto Rain Prediction.ipynb",
   "provenance": []
  },
  "kernelspec": {
   "display_name": "Python 3",
   "language": "python",
   "name": "python3"
  },
  "language_info": {
   "codemirror_mode": {
    "name": "ipython",
    "version": 3
   },
   "file_extension": ".py",
   "mimetype": "text/x-python",
   "name": "python",
   "nbconvert_exporter": "python",
   "pygments_lexer": "ipython3",
   "version": "3.8.5"
  }
 },
 "nbformat": 4,
 "nbformat_minor": 1
}
